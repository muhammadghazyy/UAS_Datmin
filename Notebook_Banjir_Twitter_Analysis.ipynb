{
  "cells": [
    {
      "cell_type": "markdown",
      "metadata": {
        "id": "view-in-github",
        "colab_type": "text"
      },
      "source": [
        "<a href=\"https://colab.research.google.com/github/muhammadghazyy/UAS_Datmin/blob/main/Notebook_Banjir_Twitter_Analysis.ipynb\" target=\"_parent\"><img src=\"https://colab.research.google.com/assets/colab-badge.svg\" alt=\"Open In Colab\"/></a>"
      ]
    },
    {
      "cell_type": "markdown",
      "metadata": {
        "id": "J_lxqgNSymfO"
      },
      "source": [
        "# Reqs"
      ]
    },
    {
      "cell_type": "code",
      "execution_count": 1,
      "metadata": {
        "colab": {
          "base_uri": "https://localhost:8080/"
        },
        "id": "QhCmTg3Urz7b",
        "outputId": "75f8c504-4bdd-4d8b-93b5-2805830389c4"
      },
      "outputs": [
        {
          "output_type": "stream",
          "name": "stdout",
          "text": [
            "Requirement already satisfied: tweepy in /usr/local/lib/python3.7/dist-packages (3.10.0)\n",
            "Collecting tweepy\n",
            "  Downloading tweepy-4.4.0-py2.py3-none-any.whl (65 kB)\n",
            "\u001b[K     |████████████████████████████████| 65 kB 1.9 MB/s \n",
            "\u001b[?25hRequirement already satisfied: requests-oauthlib<2,>=1.0.0 in /usr/local/lib/python3.7/dist-packages (from tweepy) (1.3.0)\n",
            "Requirement already satisfied: requests<3,>=2.11.1 in /usr/local/lib/python3.7/dist-packages (from tweepy) (2.23.0)\n",
            "Requirement already satisfied: urllib3!=1.25.0,!=1.25.1,<1.26,>=1.21.1 in /usr/local/lib/python3.7/dist-packages (from requests<3,>=2.11.1->tweepy) (1.24.3)\n",
            "Requirement already satisfied: certifi>=2017.4.17 in /usr/local/lib/python3.7/dist-packages (from requests<3,>=2.11.1->tweepy) (2021.10.8)\n",
            "Requirement already satisfied: idna<3,>=2.5 in /usr/local/lib/python3.7/dist-packages (from requests<3,>=2.11.1->tweepy) (2.10)\n",
            "Requirement already satisfied: chardet<4,>=3.0.2 in /usr/local/lib/python3.7/dist-packages (from requests<3,>=2.11.1->tweepy) (3.0.4)\n",
            "Requirement already satisfied: oauthlib>=3.0.0 in /usr/local/lib/python3.7/dist-packages (from requests-oauthlib<2,>=1.0.0->tweepy) (3.1.1)\n",
            "Installing collected packages: tweepy\n",
            "  Attempting uninstall: tweepy\n",
            "    Found existing installation: tweepy 3.10.0\n",
            "    Uninstalling tweepy-3.10.0:\n",
            "      Successfully uninstalled tweepy-3.10.0\n",
            "Successfully installed tweepy-4.4.0\n"
          ]
        }
      ],
      "source": [
        "!pip3 install tweepy --upgrade"
      ]
    },
    {
      "cell_type": "code",
      "execution_count": 2,
      "metadata": {
        "colab": {
          "base_uri": "https://localhost:8080/"
        },
        "id": "hsJqxddA9CgF",
        "outputId": "fcdd52a4-25d9-4fb2-b58a-78e3dcec04f6"
      },
      "outputs": [
        {
          "output_type": "stream",
          "name": "stdout",
          "text": [
            "Collecting sastrawi\n",
            "  Downloading Sastrawi-1.0.1-py2.py3-none-any.whl (209 kB)\n",
            "\u001b[?25l\r\u001b[K     |█▋                              | 10 kB 18.4 MB/s eta 0:00:01\r\u001b[K     |███▏                            | 20 kB 10.5 MB/s eta 0:00:01\r\u001b[K     |████▊                           | 30 kB 8.7 MB/s eta 0:00:01\r\u001b[K     |██████▎                         | 40 kB 8.0 MB/s eta 0:00:01\r\u001b[K     |███████▉                        | 51 kB 5.5 MB/s eta 0:00:01\r\u001b[K     |█████████▍                      | 61 kB 5.6 MB/s eta 0:00:01\r\u001b[K     |███████████                     | 71 kB 5.3 MB/s eta 0:00:01\r\u001b[K     |████████████▌                   | 81 kB 5.9 MB/s eta 0:00:01\r\u001b[K     |██████████████                  | 92 kB 6.1 MB/s eta 0:00:01\r\u001b[K     |███████████████▋                | 102 kB 5.3 MB/s eta 0:00:01\r\u001b[K     |█████████████████▏              | 112 kB 5.3 MB/s eta 0:00:01\r\u001b[K     |██████████████████▊             | 122 kB 5.3 MB/s eta 0:00:01\r\u001b[K     |████████████████████▎           | 133 kB 5.3 MB/s eta 0:00:01\r\u001b[K     |█████████████████████▉          | 143 kB 5.3 MB/s eta 0:00:01\r\u001b[K     |███████████████████████▍        | 153 kB 5.3 MB/s eta 0:00:01\r\u001b[K     |█████████████████████████       | 163 kB 5.3 MB/s eta 0:00:01\r\u001b[K     |██████████████████████████▋     | 174 kB 5.3 MB/s eta 0:00:01\r\u001b[K     |████████████████████████████▏   | 184 kB 5.3 MB/s eta 0:00:01\r\u001b[K     |█████████████████████████████▊  | 194 kB 5.3 MB/s eta 0:00:01\r\u001b[K     |███████████████████████████████▎| 204 kB 5.3 MB/s eta 0:00:01\r\u001b[K     |████████████████████████████████| 209 kB 5.3 MB/s \n",
            "\u001b[?25hInstalling collected packages: sastrawi\n",
            "Successfully installed sastrawi-1.0.1\n"
          ]
        }
      ],
      "source": [
        "!pip3 install sastrawi"
      ]
    },
    {
      "cell_type": "code",
      "execution_count": 3,
      "metadata": {
        "id": "VMRg-Fn9WxGr"
      },
      "outputs": [],
      "source": [
        "import pandas as pd\n",
        "import numpy as np\n",
        "import matplotlib.pyplot as plt\n",
        "import seaborn as sns\n",
        "import tweepy\n",
        "import json\n",
        "import csv\n",
        "import re\n",
        "\n",
        "from tqdm import tqdm\n",
        "from textblob import TextBlob\n",
        "from Sastrawi.StopWordRemover.StopWordRemoverFactory import StopWordRemoverFactory"
      ]
    },
    {
      "cell_type": "code",
      "execution_count": 4,
      "metadata": {
        "colab": {
          "base_uri": "https://localhost:8080/",
          "height": 36
        },
        "id": "tHgnaN5Vinw5",
        "outputId": "dfd81cae-4ded-4cd4-f355-80229c55ef19"
      },
      "outputs": [
        {
          "output_type": "execute_result",
          "data": {
            "application/vnd.google.colaboratory.intrinsic+json": {
              "type": "string"
            },
            "text/plain": [
              "'4.4.0'"
            ]
          },
          "metadata": {},
          "execution_count": 4
        }
      ],
      "source": [
        "tweepy.__version__"
      ]
    },
    {
      "cell_type": "markdown",
      "metadata": {
        "id": "cmmdgrsxxsni"
      },
      "source": [
        "# Grabbing Tweets"
      ]
    },
    {
      "cell_type": "code",
      "execution_count": null,
      "metadata": {
        "colab": {
          "base_uri": "https://localhost:8080/"
        },
        "id": "VowLgq4hxvhb",
        "outputId": "3b7c627a-a465-4850-9316-4627d2bb7c96"
      },
      "outputs": [
        {
          "name": "stdout",
          "output_type": "stream",
          "text": [
            "Welcome \"Zahran Pratomo\" you are now connected to twitter server\n"
          ]
        }
      ],
      "source": [
        "api_key = \"6ta6EJhcsM9lKPBtOVw0VUdq6\"\n",
        "api_key_secret = \"fEGjtFkdR1d6Acf31UtKwRinWB9TMo7FlW5wPQ0Pj4XVYGAwDN\"\n",
        "acc_token = \"618819039-mFyfjkdIT94LsGbYQhtor7foQ7gRJFjErblBxEjU\"\n",
        "acc_token_secret = \"95r8TWasLrBX4ucqqP5Jp0R0f7A4hPIT4MDrNJ7s1JvVD\"\n",
        "\n",
        "auth = tweepy.auth.OAuthHandler(api_key, api_key_secret)\n",
        "auth.set_access_token(acc_token, acc_token_secret)\n",
        "api = tweepy.API(auth, wait_on_rate_limit=True, timeout=60, retry_count=5, retry_delay=3)\n",
        "usr_ = api.verify_credentials()\n",
        "print('Welcome \"{}\" you are now connected to twitter server'.format(usr_.name))"
      ]
    },
    {
      "cell_type": "code",
      "execution_count": null,
      "metadata": {
        "colab": {
          "base_uri": "https://localhost:8080/",
          "height": 54
        },
        "id": "9_CkzWqkyClb",
        "outputId": "c125e8e2-4d7b-4531-8de4-93583d40041a"
      },
      "outputs": [
        {
          "name": "stderr",
          "output_type": "stream",
          "text": [
            "2500it [00:42, 58.34it/s]\n"
          ]
        },
        {
          "data": {
            "application/vnd.google.colaboratory.intrinsic+json": {
              "type": "string"
            },
            "text/plain": [
              "'Done'"
            ]
          },
          "execution_count": 84,
          "metadata": {},
          "output_type": "execute_result"
        }
      ],
      "source": [
        "qry = 'banjir -is:retweet'\n",
        "N = 2500 # jumlah N tweet \"terkini\" yang ingin diambil\n",
        "T = []\n",
        "for post in tqdm(tweepy.Cursor(api.search_tweets, q=qry, lang='id', tweet_mode='extended').items(N)):\n",
        "    T.append(post)\n",
        "    \n",
        "\"Done\""
      ]
    },
    {
      "cell_type": "code",
      "execution_count": null,
      "metadata": {
        "id": "03aDjGUGz1oG"
      },
      "outputs": [],
      "source": [
        "tweet = [t._json for t in T]"
      ]
    },
    {
      "cell_type": "code",
      "execution_count": null,
      "metadata": {
        "colab": {
          "base_uri": "https://localhost:8080/"
        },
        "id": "XNIfSMACgbzi",
        "outputId": "3b87d6a8-0754-42e4-8f40-bf18bf3736bf"
      },
      "outputs": [
        {
          "data": {
            "text/plain": [
              "2500"
            ]
          },
          "execution_count": 8,
          "metadata": {},
          "output_type": "execute_result"
        }
      ],
      "source": [
        "len(tweet)"
      ]
    },
    {
      "cell_type": "code",
      "execution_count": null,
      "metadata": {
        "id": "G9JkI69pz4PR"
      },
      "outputs": [],
      "source": [
        "import json \n",
        "def saveTweets(tweets, file='Tweets.json'): #in Json Format\n",
        "    with open(file, 'w') as f:\n",
        "        for t in tweets:\n",
        "            try:\n",
        "                f.write(json.dumps(t)+'\\n')\n",
        "            except:\n",
        "                pass"
      ]
    },
    {
      "cell_type": "code",
      "execution_count": null,
      "metadata": {
        "colab": {
          "base_uri": "https://localhost:8080/"
        },
        "id": "lzCTv39Ez5vl",
        "outputId": "992846ef-7ba7-41db-b4fe-f18a517432b5"
      },
      "outputs": [
        {
          "name": "stdout",
          "output_type": "stream",
          "text": [
            "Saved to Tweets_2021_Part12.json\n"
          ]
        }
      ],
      "source": [
        "# Menyimpan hasil crawling twitter\n",
        "fileName = 'Tweets_2021_Part12.json'\n",
        "saveTweets(tweet, file=fileName)\n",
        "print('Saved to '+fileName)"
      ]
    },
    {
      "cell_type": "code",
      "execution_count": null,
      "metadata": {
        "colab": {
          "base_uri": "https://localhost:8080/",
          "height": 53
        },
        "id": "duwWg6wT1T96",
        "outputId": "7dbdc2d6-fc70-48d8-f2bc-33d406106a46"
      },
      "outputs": [
        {
          "data": {
            "application/vnd.google.colaboratory.intrinsic+json": {
              "type": "string"
            },
            "text/plain": [
              "'RT @anwaribrahim: BANJIR DI PD\\n\\nDi Port Dickson hari ini bagi meninjau beberapa kawasan yang dilanda banjir akibat hujan lebat sejak semala…'"
            ]
          },
          "execution_count": 18,
          "metadata": {},
          "output_type": "execute_result"
        }
      ],
      "source": [
        "# Data pertama\n",
        "i = np.random.randint(0,len(tweet))\n",
        "tweet[i]['full_text']"
      ]
    },
    {
      "cell_type": "code",
      "execution_count": null,
      "metadata": {
        "colab": {
          "base_uri": "https://localhost:8080/"
        },
        "id": "KPzRxh1X3MZG",
        "outputId": "fedf5e04-104a-4df7-c09d-5a66b736d8a5"
      },
      "outputs": [
        {
          "name": "stdout",
          "output_type": "stream",
          "text": [
            "Fri Dec 17 15:08:30 +0000 2021\n",
            "Fri Dec 17 13:35:11 +0000 2021\n"
          ]
        }
      ],
      "source": [
        "#part 4\n",
        "print(tweet[0]['created_at'])\n",
        "print(tweet[2499]['created_at'])"
      ]
    },
    {
      "cell_type": "code",
      "execution_count": null,
      "metadata": {
        "colab": {
          "base_uri": "https://localhost:8080/"
        },
        "id": "oWB0jMsFOJKX",
        "outputId": "c1af3f82-6ad4-4ef8-f797-1e0894f4627a"
      },
      "outputs": [
        {
          "name": "stdout",
          "output_type": "stream",
          "text": [
            "Fri Dec 17 16:26:00 +0000 2021\n",
            "Fri Dec 17 14:30:15 +0000 2021\n"
          ]
        }
      ],
      "source": [
        "#part 5\n",
        "print(tweet[0]['created_at'])\n",
        "print(tweet[2499]['created_at'])"
      ]
    },
    {
      "cell_type": "code",
      "execution_count": null,
      "metadata": {
        "colab": {
          "base_uri": "https://localhost:8080/"
        },
        "id": "r8UWJSEmGb3b",
        "outputId": "960c4820-68b4-46a4-8519-503454ff6786"
      },
      "outputs": [
        {
          "name": "stdout",
          "output_type": "stream",
          "text": [
            "Sat Dec 18 05:51:42 +0000 2021\n",
            "Sat Dec 18 05:22:43 +0000 2021\n"
          ]
        }
      ],
      "source": [
        "#part 6\n",
        "print(tweet[0]['created_at'])\n",
        "print(tweet[2499]['created_at'])"
      ]
    },
    {
      "cell_type": "code",
      "execution_count": null,
      "metadata": {
        "colab": {
          "base_uri": "https://localhost:8080/"
        },
        "id": "u6yfTYKT6aH-",
        "outputId": "23a7615c-8c0d-44ce-d1d7-a7b814ad0f99"
      },
      "outputs": [
        {
          "name": "stdout",
          "output_type": "stream",
          "text": [
            "Sat Dec 18 09:38:16 +0000 2021\n",
            "Sat Dec 18 09:17:25 +0000 2021\n"
          ]
        }
      ],
      "source": [
        "#part 7\n",
        "print(tweet[0]['created_at'])\n",
        "print(tweet[2499]['created_at'])"
      ]
    },
    {
      "cell_type": "code",
      "execution_count": null,
      "metadata": {
        "colab": {
          "base_uri": "https://localhost:8080/"
        },
        "id": "Hux9TEjR9WIb",
        "outputId": "c21f8432-667f-4062-e3e7-748a49c1d941"
      },
      "outputs": [
        {
          "name": "stdout",
          "output_type": "stream",
          "text": [
            "Sat Dec 18 14:31:32 +0000 2021\n",
            "Sat Dec 18 14:28:22 +0000 2021\n"
          ]
        }
      ],
      "source": [
        "#part 8\n",
        "print(tweet[0]['created_at'])\n",
        "print(tweet[2499]['created_at'])"
      ]
    },
    {
      "cell_type": "code",
      "execution_count": null,
      "metadata": {
        "colab": {
          "base_uri": "https://localhost:8080/"
        },
        "id": "G5W8NmQeHh9X",
        "outputId": "a47fab56-0c69-426b-9111-6c7160427e94"
      },
      "outputs": [
        {
          "name": "stdout",
          "output_type": "stream",
          "text": [
            "Sat Dec 18 15:16:05 +0000 2021\n",
            "Sat Dec 18 15:13:41 +0000 2021\n"
          ]
        }
      ],
      "source": [
        "#part 9\n",
        "print(tweet[0]['created_at'])\n",
        "print(tweet[2499]['created_at'])"
      ]
    },
    {
      "cell_type": "code",
      "execution_count": null,
      "metadata": {
        "colab": {
          "base_uri": "https://localhost:8080/"
        },
        "id": "maSGJ-kDty-t",
        "outputId": "f7f301c4-4827-4bc1-c1e5-230f0edbbded"
      },
      "outputs": [
        {
          "name": "stdout",
          "output_type": "stream",
          "text": [
            "Sun Dec 19 07:59:54 +0000 2021\n",
            "Sun Dec 19 07:57:45 +0000 2021\n"
          ]
        }
      ],
      "source": [
        "#part 10\n",
        "print(tweet[0]['created_at'])\n",
        "print(tweet[2499]['created_at'])"
      ]
    },
    {
      "cell_type": "code",
      "execution_count": null,
      "metadata": {
        "colab": {
          "base_uri": "https://localhost:8080/"
        },
        "id": "TNMqT679CJps",
        "outputId": "6bfbf920-3d8b-4c57-bbdc-02d61cb6ed7c"
      },
      "outputs": [
        {
          "name": "stdout",
          "output_type": "stream",
          "text": [
            "Sun Dec 19 09:31:06 +0000 2021\n",
            "Sun Dec 19 09:28:41 +0000 2021\n"
          ]
        }
      ],
      "source": [
        "#part 11\n",
        "print(tweet[0]['created_at'])\n",
        "print(tweet[2499]['created_at'])"
      ]
    },
    {
      "cell_type": "code",
      "execution_count": null,
      "metadata": {
        "colab": {
          "base_uri": "https://localhost:8080/"
        },
        "id": "PzCBAkIVG_c-",
        "outputId": "a8011f02-6a16-470a-857c-bb093f5e79cb"
      },
      "outputs": [
        {
          "name": "stdout",
          "output_type": "stream",
          "text": [
            "Sun Dec 19 09:52:16 +0000 2021\n",
            "Sun Dec 19 09:49:43 +0000 2021\n"
          ]
        }
      ],
      "source": [
        "#part 12\n",
        "print(tweet[0]['created_at'])\n",
        "print(tweet[2499]['created_at'])"
      ]
    },
    {
      "cell_type": "markdown",
      "metadata": {
        "id": "ALohaIoiQy4d"
      },
      "source": [
        "# Load up the files\n"
      ]
    },
    {
      "cell_type": "code",
      "execution_count": 5,
      "metadata": {
        "id": "a45ItpbEQ09X"
      },
      "outputs": [],
      "source": [
        "# Load up every json files\n",
        "def loadTweets(file='Tweets.json'):\n",
        "    f=open(file,encoding='utf-8', errors ='ignore', mode='r')\n",
        "    T=f.readlines();f.close()\n",
        "    for i,t in enumerate(T):\n",
        "        T[i] = json.loads(t.strip())\n",
        "    return T\n",
        "\n",
        "T1 = loadTweets(file='Tweets_2021.json')\n",
        "T2 = loadTweets(file='Tweets_2021_Part2.json')\n",
        "T3 = loadTweets(file='Tweets_2021_Part3.json')\n",
        "T4 = loadTweets(file='Tweets_2021_Part4.json')\n",
        "T5 = loadTweets(file='Tweets_2021_Part5.json')\n",
        "T6 = loadTweets(file='Tweets_2021_Part6.json')\n",
        "T7 = loadTweets(file='Tweets_2021_Part7.json')\n",
        "T8 = loadTweets(file='Tweets_2021_Part8.json')\n",
        "T9 = loadTweets(file='Tweets_2021_Part9.json')\n",
        "T10 = loadTweets(file='Tweets_2021_Part10.json')\n",
        "T11 = loadTweets(file='Tweets_2021_Part11.json')\n",
        "T12 = loadTweets(file='Tweets_2021_Part12.json')"
      ]
    },
    {
      "cell_type": "code",
      "execution_count": 8,
      "metadata": {
        "colab": {
          "base_uri": "https://localhost:8080/",
          "height": 641
        },
        "id": "Zxth-ay8SFOn",
        "outputId": "5433f159-387e-4639-f4ae-5b0db9db5bd6"
      },
      "outputs": [
        {
          "output_type": "execute_result",
          "data": {
            "text/html": [
              "\n",
              "  <div id=\"df-1767d6f5-53ba-4dd2-8625-8ed56a97bdad\">\n",
              "    <div class=\"colab-df-container\">\n",
              "      <div>\n",
              "<style scoped>\n",
              "    .dataframe tbody tr th:only-of-type {\n",
              "        vertical-align: middle;\n",
              "    }\n",
              "\n",
              "    .dataframe tbody tr th {\n",
              "        vertical-align: top;\n",
              "    }\n",
              "\n",
              "    .dataframe thead th {\n",
              "        text-align: right;\n",
              "    }\n",
              "</style>\n",
              "<table border=\"1\" class=\"dataframe\">\n",
              "  <thead>\n",
              "    <tr style=\"text-align: right;\">\n",
              "      <th></th>\n",
              "      <th>id</th>\n",
              "      <th>tweet</th>\n",
              "      <th>created_at</th>\n",
              "      <th>user_created_at</th>\n",
              "      <th>screen_name</th>\n",
              "      <th>name</th>\n",
              "      <th>location</th>\n",
              "      <th>retweet_count</th>\n",
              "    </tr>\n",
              "  </thead>\n",
              "  <tbody>\n",
              "    <tr>\n",
              "      <th>0</th>\n",
              "      <td>1471498696332222468</td>\n",
              "      <td>@missufe Gaatau ah banjir</td>\n",
              "      <td>Thu Dec 16 15:13:22 +0000 2021</td>\n",
              "      <td>Sun Feb 26 18:47:03 +0000 2017</td>\n",
              "      <td>mi🤖</td>\n",
              "      <td>@sahiiku</td>\n",
              "      <td>silverboys</td>\n",
              "      <td>0</td>\n",
              "    </tr>\n",
              "    <tr>\n",
              "      <th>1</th>\n",
              "      <td>1471498640329887757</td>\n",
              "      <td>@oceanuhes gue banjir banget nonton sg awkarin...</td>\n",
              "      <td>Thu Dec 16 15:13:09 +0000 2021</td>\n",
              "      <td>Thu Nov 26 02:44:43 +0000 2020</td>\n",
              "      <td>-</td>\n",
              "      <td>@bluwhtcb</td>\n",
              "      <td>cbhs 614 area.</td>\n",
              "      <td>0</td>\n",
              "    </tr>\n",
              "    <tr>\n",
              "      <th>2</th>\n",
              "      <td>1471498627193335814</td>\n",
              "      <td>RT @leo_edw: Dikirimin video dari relawan di S...</td>\n",
              "      <td>Thu Dec 16 15:13:06 +0000 2021</td>\n",
              "      <td>Wed Mar 14 09:39:04 +0000 2018</td>\n",
              "      <td>yaandrian7@gmail.com</td>\n",
              "      <td>@yaandrian7gmai1</td>\n",
              "      <td></td>\n",
              "      <td>82</td>\n",
              "    </tr>\n",
              "    <tr>\n",
              "      <th>3</th>\n",
              "      <td>1471498600043614221</td>\n",
              "      <td>@jceyragrsndhya Banjir kak</td>\n",
              "      <td>Thu Dec 16 15:13:00 +0000 2021</td>\n",
              "      <td>Sun Oct 03 12:38:54 +0000 2021</td>\n",
              "      <td>hilman🔱</td>\n",
              "      <td>@alexbriagi</td>\n",
              "      <td></td>\n",
              "      <td>0</td>\n",
              "    </tr>\n",
              "    <tr>\n",
              "      <th>4</th>\n",
              "      <td>1471498534813794316</td>\n",
              "      <td>harus. nonton. sedihnya sih ga yg ampe banjir,...</td>\n",
              "      <td>Thu Dec 16 15:12:44 +0000 2021</td>\n",
              "      <td>Wed Mar 11 04:04:38 +0000 2020</td>\n",
              "      <td>mrs. yoon - 비빌</td>\n",
              "      <td>@ramyeongurih</td>\n",
              "      <td>Mangkok</td>\n",
              "      <td>0</td>\n",
              "    </tr>\n",
              "    <tr>\n",
              "      <th>...</th>\n",
              "      <td>...</td>\n",
              "      <td>...</td>\n",
              "      <td>...</td>\n",
              "      <td>...</td>\n",
              "      <td>...</td>\n",
              "      <td>...</td>\n",
              "      <td>...</td>\n",
              "      <td>...</td>\n",
              "    </tr>\n",
              "    <tr>\n",
              "      <th>29995</th>\n",
              "      <td>1472499114399072256</td>\n",
              "      <td>RT @Neelofa: Semoga kita terus dilindungi dan ...</td>\n",
              "      <td>Sun Dec 19 09:28:41 +0000 2021</td>\n",
              "      <td>Tue Jan 07 07:42:47 +0000 2020</td>\n",
              "      <td>mas</td>\n",
              "      <td>@mqstrn</td>\n",
              "      <td></td>\n",
              "      <td>4393</td>\n",
              "    </tr>\n",
              "    <tr>\n",
              "      <th>29996</th>\n",
              "      <td>1472499114310914049</td>\n",
              "      <td>RT @AmirudinShari: Saya mengambil maklum keada...</td>\n",
              "      <td>Sun Dec 19 09:28:41 +0000 2021</td>\n",
              "      <td>Mon Apr 16 03:58:53 +0000 2012</td>\n",
              "      <td>Faiz Zainul™ 🇲🇾🏴</td>\n",
              "      <td>@official_faiz</td>\n",
              "      <td>Bayan Lepas, Pulau Pinang</td>\n",
              "      <td>157</td>\n",
              "    </tr>\n",
              "    <tr>\n",
              "      <th>29997</th>\n",
              "      <td>1472499114164195331</td>\n",
              "      <td>RT @Ijattnorazman: Puchong please help puchong...</td>\n",
              "      <td>Sun Dec 19 09:28:41 +0000 2021</td>\n",
              "      <td>Mon Apr 20 15:12:29 +0000 2020</td>\n",
              "      <td>KiraLee</td>\n",
              "      <td>@Noorshakira_Lee</td>\n",
              "      <td>Malaysia</td>\n",
              "      <td>6810</td>\n",
              "    </tr>\n",
              "    <tr>\n",
              "      <th>29998</th>\n",
              "      <td>1472499114147409921</td>\n",
              "      <td>RT @nasba_: 19/12/2021\\nKg Pantai Seremban, N9...</td>\n",
              "      <td>Sun Dec 19 09:28:41 +0000 2021</td>\n",
              "      <td>Wed Aug 19 11:14:09 +0000 2020</td>\n",
              "      <td>•</td>\n",
              "      <td>@e_sepgu</td>\n",
              "      <td></td>\n",
              "      <td>126</td>\n",
              "    </tr>\n",
              "    <tr>\n",
              "      <th>29999</th>\n",
              "      <td>1472499113853788162</td>\n",
              "      <td>teringat dulu masa banjir besar di kelantan 20...</td>\n",
              "      <td>Sun Dec 19 09:28:41 +0000 2021</td>\n",
              "      <td>Sun Sep 02 05:07:28 +0000 2012</td>\n",
              "      <td>Kyra S.</td>\n",
              "      <td>@hawa_akira</td>\n",
              "      <td>Kuantan, Pahang</td>\n",
              "      <td>0</td>\n",
              "    </tr>\n",
              "  </tbody>\n",
              "</table>\n",
              "<p>30000 rows × 8 columns</p>\n",
              "</div>\n",
              "      <button class=\"colab-df-convert\" onclick=\"convertToInteractive('df-1767d6f5-53ba-4dd2-8625-8ed56a97bdad')\"\n",
              "              title=\"Convert this dataframe to an interactive table.\"\n",
              "              style=\"display:none;\">\n",
              "        \n",
              "  <svg xmlns=\"http://www.w3.org/2000/svg\" height=\"24px\"viewBox=\"0 0 24 24\"\n",
              "       width=\"24px\">\n",
              "    <path d=\"M0 0h24v24H0V0z\" fill=\"none\"/>\n",
              "    <path d=\"M18.56 5.44l.94 2.06.94-2.06 2.06-.94-2.06-.94-.94-2.06-.94 2.06-2.06.94zm-11 1L8.5 8.5l.94-2.06 2.06-.94-2.06-.94L8.5 2.5l-.94 2.06-2.06.94zm10 10l.94 2.06.94-2.06 2.06-.94-2.06-.94-.94-2.06-.94 2.06-2.06.94z\"/><path d=\"M17.41 7.96l-1.37-1.37c-.4-.4-.92-.59-1.43-.59-.52 0-1.04.2-1.43.59L10.3 9.45l-7.72 7.72c-.78.78-.78 2.05 0 2.83L4 21.41c.39.39.9.59 1.41.59.51 0 1.02-.2 1.41-.59l7.78-7.78 2.81-2.81c.8-.78.8-2.07 0-2.86zM5.41 20L4 18.59l7.72-7.72 1.47 1.35L5.41 20z\"/>\n",
              "  </svg>\n",
              "      </button>\n",
              "      \n",
              "  <style>\n",
              "    .colab-df-container {\n",
              "      display:flex;\n",
              "      flex-wrap:wrap;\n",
              "      gap: 12px;\n",
              "    }\n",
              "\n",
              "    .colab-df-convert {\n",
              "      background-color: #E8F0FE;\n",
              "      border: none;\n",
              "      border-radius: 50%;\n",
              "      cursor: pointer;\n",
              "      display: none;\n",
              "      fill: #1967D2;\n",
              "      height: 32px;\n",
              "      padding: 0 0 0 0;\n",
              "      width: 32px;\n",
              "    }\n",
              "\n",
              "    .colab-df-convert:hover {\n",
              "      background-color: #E2EBFA;\n",
              "      box-shadow: 0px 1px 2px rgba(60, 64, 67, 0.3), 0px 1px 3px 1px rgba(60, 64, 67, 0.15);\n",
              "      fill: #174EA6;\n",
              "    }\n",
              "\n",
              "    [theme=dark] .colab-df-convert {\n",
              "      background-color: #3B4455;\n",
              "      fill: #D2E3FC;\n",
              "    }\n",
              "\n",
              "    [theme=dark] .colab-df-convert:hover {\n",
              "      background-color: #434B5C;\n",
              "      box-shadow: 0px 1px 3px 1px rgba(0, 0, 0, 0.15);\n",
              "      filter: drop-shadow(0px 1px 2px rgba(0, 0, 0, 0.3));\n",
              "      fill: #FFFFFF;\n",
              "    }\n",
              "  </style>\n",
              "\n",
              "      <script>\n",
              "        const buttonEl =\n",
              "          document.querySelector('#df-1767d6f5-53ba-4dd2-8625-8ed56a97bdad button.colab-df-convert');\n",
              "        buttonEl.style.display =\n",
              "          google.colab.kernel.accessAllowed ? 'block' : 'none';\n",
              "\n",
              "        async function convertToInteractive(key) {\n",
              "          const element = document.querySelector('#df-1767d6f5-53ba-4dd2-8625-8ed56a97bdad');\n",
              "          const dataTable =\n",
              "            await google.colab.kernel.invokeFunction('convertToInteractive',\n",
              "                                                     [key], {});\n",
              "          if (!dataTable) return;\n",
              "\n",
              "          const docLinkHtml = 'Like what you see? Visit the ' +\n",
              "            '<a target=\"_blank\" href=https://colab.research.google.com/notebooks/data_table.ipynb>data table notebook</a>'\n",
              "            + ' to learn more about interactive tables.';\n",
              "          element.innerHTML = '';\n",
              "          dataTable['output_type'] = 'display_data';\n",
              "          await google.colab.output.renderOutput(dataTable, element);\n",
              "          const docLink = document.createElement('div');\n",
              "          docLink.innerHTML = docLinkHtml;\n",
              "          element.appendChild(docLink);\n",
              "        }\n",
              "      </script>\n",
              "    </div>\n",
              "  </div>\n",
              "  "
            ],
            "text/plain": [
              "                        id  ... retweet_count\n",
              "0      1471498696332222468  ...             0\n",
              "1      1471498640329887757  ...             0\n",
              "2      1471498627193335814  ...            82\n",
              "3      1471498600043614221  ...             0\n",
              "4      1471498534813794316  ...             0\n",
              "...                    ...  ...           ...\n",
              "29995  1472499114399072256  ...          4393\n",
              "29996  1472499114310914049  ...           157\n",
              "29997  1472499114164195331  ...          6810\n",
              "29998  1472499114147409921  ...           126\n",
              "29999  1472499113853788162  ...             0\n",
              "\n",
              "[30000 rows x 8 columns]"
            ]
          },
          "metadata": {},
          "execution_count": 8
        }
      ],
      "source": [
        "# Load the text\n",
        "T1_text = [t['full_text'] for t in T1]\n",
        "T2_text = [t['full_text'] for t in T2]\n",
        "T3_text = [t['full_text'] for t in T3]\n",
        "T4_text = [t['full_text'] for t in T4]\n",
        "T5_text = [t['full_text'] for t in T5]\n",
        "T6_text = [t['full_text'] for t in T6]\n",
        "T7_text = [t['full_text'] for t in T7]\n",
        "T8_text = [t['full_text'] for t in T8]\n",
        "T9_text = [t['full_text'] for t in T9]\n",
        "T10_text = [t['full_text'] for t in T10]\n",
        "T11_text = [t['full_text'] for t in T11]\n",
        "T12_text = [t['full_text'] for t in T12]\n",
        "\n",
        "# Load the tweet id\n",
        "T1_id = [t['id'] for t in T1]\n",
        "T2_id = [t['id'] for t in T2]\n",
        "T3_id = [t['id'] for t in T3]\n",
        "T4_id = [t['id'] for t in T4]\n",
        "T5_id = [t['id'] for t in T5]\n",
        "T6_id = [t['id'] for t in T6]\n",
        "T7_id = [t['id'] for t in T7]\n",
        "T8_id = [t['id'] for t in T8]\n",
        "T9_id = [t['id'] for t in T9]\n",
        "T10_id = [t['id'] for t in T10]\n",
        "T11_id = [t['id'] for t in T11]\n",
        "T12_id = [t['id'] for t in T12]\n",
        "\n",
        "# Load created_at feature\n",
        "T1_ca = [t['created_at'] for t in T1]\n",
        "T2_ca = [t['created_at'] for t in T2]\n",
        "T3_ca = [t['created_at'] for t in T3]\n",
        "T4_ca = [t['created_at'] for t in T4]\n",
        "T5_ca = [t['created_at'] for t in T5]\n",
        "T6_ca = [t['created_at'] for t in T6]\n",
        "T7_ca = [t['created_at'] for t in T7]\n",
        "T8_ca = [t['created_at'] for t in T8]\n",
        "T9_ca = [t['created_at'] for t in T9]\n",
        "T10_ca = [t['created_at'] for t in T10]\n",
        "T11_ca = [t['created_at'] for t in T11]\n",
        "T12_ca = [t['created_at'] for t in T12]\n",
        "\n",
        "# Load user created_at feature\n",
        "T1_uca = [t['user']['created_at'] for t in T1]\n",
        "T2_uca = [t['user']['created_at'] for t in T2]\n",
        "T3_uca = [t['user']['created_at'] for t in T3]\n",
        "T4_uca = [t['user']['created_at'] for t in T4]\n",
        "T5_uca = [t['user']['created_at'] for t in T5]\n",
        "T6_uca = [t['user']['created_at'] for t in T6]\n",
        "T7_uca = [t['user']['created_at'] for t in T7]\n",
        "T8_uca = [t['user']['created_at'] for t in T8]\n",
        "T9_uca = [t['user']['created_at'] for t in T9]\n",
        "T10_uca = [t['user']['created_at'] for t in T10]\n",
        "T11_uca = [t['user']['created_at'] for t in T11]\n",
        "T12_uca = [t['user']['created_at'] for t in T12]\n",
        "\n",
        "# Load Username\n",
        "T1_sname = [f\"@{t['user']['screen_name']}\" for t in T1]\n",
        "T2_sname = [f\"@{t['user']['screen_name']}\" for t in T2]\n",
        "T3_sname = [f\"@{t['user']['screen_name']}\" for t in T3]\n",
        "T4_sname = [f\"@{t['user']['screen_name']}\" for t in T4]\n",
        "T5_sname = [f\"@{t['user']['screen_name']}\" for t in T5]\n",
        "T6_sname = [f\"@{t['user']['screen_name']}\" for t in T6]\n",
        "T7_sname = [f\"@{t['user']['screen_name']}\" for t in T7]\n",
        "T8_sname = [f\"@{t['user']['screen_name']}\" for t in T8]\n",
        "T9_sname = [f\"@{t['user']['screen_name']}\" for t in T9]\n",
        "T10_sname = [f\"@{t['user']['screen_name']}\" for t in T10]\n",
        "T11_sname = [f\"@{t['user']['screen_name']}\" for t in T11]\n",
        "T12_sname = [f\"@{t['user']['screen_name']}\" for t in T12]\n",
        "\n",
        "# Load Name\n",
        "T1_name = [t['user']['name'] for t in T1]\n",
        "T2_name = [t['user']['name'] for t in T2]\n",
        "T3_name = [t['user']['name'] for t in T3]\n",
        "T4_name = [t['user']['name'] for t in T4]\n",
        "T5_name = [t['user']['name'] for t in T5]\n",
        "T6_name = [t['user']['name'] for t in T6]\n",
        "T7_name = [t['user']['name'] for t in T7]\n",
        "T8_name = [t['user']['name'] for t in T8]\n",
        "T9_name = [t['user']['name'] for t in T9]\n",
        "T10_name = [t['user']['name'] for t in T10]\n",
        "T11_name = [t['user']['name'] for t in T11]\n",
        "T12_name = [t['user']['name'] for t in T12]\n",
        "\n",
        "# Load user location\n",
        "T1_loc = [t['user']['location'] for t in T1]\n",
        "T2_loc = [t['user']['location'] for t in T2]\n",
        "T3_loc = [t['user']['location'] for t in T3]\n",
        "T4_loc = [t['user']['location'] for t in T4]\n",
        "T5_loc = [t['user']['location'] for t in T5]\n",
        "T6_loc = [t['user']['location'] for t in T6]\n",
        "T7_loc = [t['user']['location'] for t in T7]\n",
        "T8_loc = [t['user']['location'] for t in T8]\n",
        "T9_loc = [t['user']['location'] for t in T9]\n",
        "T10_loc = [t['user']['location'] for t in T10]\n",
        "T11_loc = [t['user']['location'] for t in T11]\n",
        "T11_loc = [t['user']['location'] for t in T11]\n",
        "\n",
        "# Load tweet's retweet count\n",
        "T1_rcount = [t['retweet_count'] for t in T1]\n",
        "T2_rcount = [t['retweet_count'] for t in T2]\n",
        "T3_rcount = [t['retweet_count'] for t in T3]\n",
        "T4_rcount = [t['retweet_count'] for t in T4]\n",
        "T5_rcount = [t['retweet_count'] for t in T5]\n",
        "T6_rcount = [t['retweet_count'] for t in T6]\n",
        "T7_rcount = [t['retweet_count'] for t in T7]\n",
        "T8_rcount = [t['retweet_count']for t in T8]\n",
        "T9_rcount = [t['retweet_count'] for t in T9]\n",
        "T10_rcount = [t['retweet_count'] for t in T10]\n",
        "T11_rcount = [t['retweet_count'] for t in T11]\n",
        "T11_rcount = [t['retweet_count'] for t in T11]\n",
        "\n",
        "# Combining all\n",
        "TFinal_text = T1_text + T2_text + T3_text + T4_text + T5_text + T6_text + T7_text + T8_text + T9_text + T10_text + T11_text + T11_text\n",
        "TFinal_id = T1_id + T2_id + T3_id + T4_id + T5_id + T6_id + T7_id + T8_id + T9_id  + T10_id   + T11_id  + T11_id\n",
        "TFinal_ca = T1_ca + T2_ca + T3_ca + T4_ca + T5_ca + T6_ca + T7_ca + T8_ca + T9_ca + T10_ca + T11_ca + T11_ca\n",
        "TFinal_uca = T1_uca + T2_uca + T3_uca + T4_uca + T5_uca + T6_uca + T7_uca + T8_uca + T9_uca + T10_uca + T11_uca + T11_uca\n",
        "TFinal_name = T1_name + T2_name + T3_name + T4_name + T5_name + T6_name + T7_name + T8_name + T9_name + T10_name + T11_name + T11_name\n",
        "TFinal_sname = T1_sname + T2_sname + T3_sname + T4_sname + T5_sname + T6_sname + T7_sname + T8_sname + T9_sname + T10_sname + T11_sname + T11_sname\n",
        "TFinal_loc = T1_loc + T2_loc + T3_loc + T4_loc + T5_loc + T6_loc + T7_loc + T8_loc + T9_loc + T10_loc + T11_loc + T11_loc\n",
        "TFinal_rcount = T1_rcount + T2_rcount + T3_rcount + T4_rcount + T5_rcount + T6_rcount + T7_rcount + T8_rcount + T9_rcount + T10_rcount + T11_rcount  + T11_rcount\n",
        "\n",
        "# Putting into one dataframe\n",
        "df = pd.DataFrame({\n",
        "    'id':TFinal_id,\n",
        "    'tweet':TFinal_text,\n",
        "    'created_at':TFinal_ca,\n",
        "    'user_created_at':TFinal_uca,\n",
        "    'screen_name':TFinal_name,\n",
        "    'name':TFinal_sname,\n",
        "    'location':TFinal_loc,\n",
        "    'retweet_count':TFinal_rcount\n",
        "})\n",
        "df"
      ]
    },
    {
      "cell_type": "code",
      "execution_count": 9,
      "metadata": {
        "id": "a6qK9apVXTiT"
      },
      "outputs": [],
      "source": [
        "# Format into datetime\n",
        "df['created_at'] = pd.to_datetime(df['created_at'])\n",
        "df['user_created_at'] = pd.to_datetime(df['user_created_at'])\n",
        "\n",
        "# Sorting by datetime\n",
        "df = df.sort_values(by = 'created_at')\n",
        "\n",
        "# Add jam & hari feature\n",
        "df[\"jam\"] = np.uint8(df[\"created_at\"].dt.hour)\n",
        "df[\"hari\"] = df[\"created_at\"].dt.weekday\n",
        "\n",
        "def hari():\n",
        "  hari_ = {0:\"Senin\", 1:\"Selasa\", 2:\"Rabu\", 3:\"Kamis\", 4:\"Jumat\", 5:\"Sabtu\", 6:\"Minggu\"}\n",
        "  df['hari'] = [hari_[i] for i in df['hari']]\n",
        "hari()"
      ]
    },
    {
      "cell_type": "code",
      "execution_count": 10,
      "metadata": {
        "id": "eDlWUiG7X9qA"
      },
      "outputs": [],
      "source": [
        "# Cleaning by regex, lowering, whitespace and special character\n",
        "import re\n",
        "def deEmojify(text):\n",
        "    regrex_pattern = re.compile(\"[\"\n",
        "                u\"\\U0001F600-\\U0001F64F\"  # emoticons\n",
        "                u\"\\U0001F300-\\U0001F5FF\"  # symbols & pictographs\n",
        "                u\"\\U0001F680-\\U0001F6FF\"  # transport & map symbols\n",
        "                u\"\\U0001F1E0-\\U0001F1FF\"  # flags (iOS)\n",
        "                u\"\\U00002702-\\U000027B0\"\n",
        "                u\"\\U000024C2-\\U0001F251\"\n",
        "                u\"\\U0001f926-\\U0001f937\"\n",
        "                u'\\U00010000-\\U0010ffff'\n",
        "                u\"\\u200d\"\n",
        "                u\"\\u2640-\\u2642\"\n",
        "                u\"\\u2600-\\u2B55\"\n",
        "                u\"\\u23cf\"\n",
        "                u\"\\u23e9\"\n",
        "                u\"\\u231a\"\n",
        "                u\"\\u3030\"\n",
        "                u\"\\ufe0f\"\n",
        "    \"]+\", flags=re.UNICODE)\n",
        "    return regrex_pattern.sub(r'',text)\n",
        "\n",
        "# Removing Usernames\n",
        "df['tweet_clean'] = [re.sub(r'(@\\w+)','', t) for t in df['tweet']] \n",
        "# Removing Emoji\n",
        "df['tweet_clean'] = [deEmojify(t) for t in df['tweet']] \n",
        "# Removing \"RT\"\n",
        "df['tweet_clean'] = [re.sub(r'RT',\" \",t)for t in df['tweet_clean']] # Removing \"RT\"\n",
        "# Removing hyperlinks\n",
        "df['tweet_clean'] = [re.sub(r'(https://t.co/\\w+)',\" \",t) for t in df['tweet_clean']] \n",
        "# Lowering, stripping and removing special character\n",
        "df['tweet_clean'] = [re.sub(r\"(@[A-Za-z0-9]+)|([^0-9A-Za-z \\t])|(\\w+:\\/\\/\\S+)\",\" \",t).lower().strip() for t in df['tweet_clean']]"
      ]
    },
    {
      "cell_type": "code",
      "execution_count": 11,
      "metadata": {
        "id": "VnRPw7xW1D5k"
      },
      "outputs": [],
      "source": [
        "# Remove stopwords\n",
        "stop_factory = StopWordRemoverFactory()\n",
        "more_stopword = ['ni','bila','klang','dah','tak','yg','kat','mana','loh','ni','dah']\n",
        "data = stop_factory.get_stop_words()+more_stopword\n",
        "stopword = stop_factory.create_stop_word_remover()\n",
        "df['tweet_clean'] = [stopword.remove(t) for t in df['tweet_clean']]"
      ]
    },
    {
      "cell_type": "code",
      "execution_count": 12,
      "metadata": {
        "colab": {
          "base_uri": "https://localhost:8080/",
          "height": 388
        },
        "id": "dX_cqGmAVWd1",
        "outputId": "8256a003-cc51-4fd9-bc95-e9b7086ee858"
      },
      "outputs": [
        {
          "output_type": "execute_result",
          "data": {
            "text/html": [
              "\n",
              "  <div id=\"df-b4f91868-461c-4d4f-808a-030d9578bfa7\">\n",
              "    <div class=\"colab-df-container\">\n",
              "      <div>\n",
              "<style scoped>\n",
              "    .dataframe tbody tr th:only-of-type {\n",
              "        vertical-align: middle;\n",
              "    }\n",
              "\n",
              "    .dataframe tbody tr th {\n",
              "        vertical-align: top;\n",
              "    }\n",
              "\n",
              "    .dataframe thead th {\n",
              "        text-align: right;\n",
              "    }\n",
              "</style>\n",
              "<table border=\"1\" class=\"dataframe\">\n",
              "  <thead>\n",
              "    <tr style=\"text-align: right;\">\n",
              "      <th></th>\n",
              "      <th>id</th>\n",
              "      <th>tweet</th>\n",
              "      <th>created_at</th>\n",
              "      <th>user_created_at</th>\n",
              "      <th>screen_name</th>\n",
              "      <th>name</th>\n",
              "      <th>location</th>\n",
              "      <th>retweet_count</th>\n",
              "      <th>jam</th>\n",
              "      <th>hari</th>\n",
              "      <th>tweet_clean</th>\n",
              "    </tr>\n",
              "  </thead>\n",
              "  <tbody>\n",
              "    <tr>\n",
              "      <th>2499</th>\n",
              "      <td>1471413976361672708</td>\n",
              "      <td>RT @averyfirmansyah: Banjir hindari Jalan Raya...</td>\n",
              "      <td>2021-12-16 09:36:44+00:00</td>\n",
              "      <td>2009-06-28 16:08:58+00:00</td>\n",
              "      <td>Kounroan</td>\n",
              "      <td>@rendroko</td>\n",
              "      <td></td>\n",
              "      <td>18</td>\n",
              "      <td>9</td>\n",
              "      <td>Kamis</td>\n",
              "      <td>banjir hindari jalan raya imam bonjol cikarang</td>\n",
              "    </tr>\n",
              "    <tr>\n",
              "      <th>2498</th>\n",
              "      <td>1471414041037864961</td>\n",
              "      <td>RT @aulianzl_: Banjir bgt liat ig story awkari...</td>\n",
              "      <td>2021-12-16 09:36:59+00:00</td>\n",
              "      <td>2019-07-14 17:37:00+00:00</td>\n",
              "      <td>Aku</td>\n",
              "      <td>@epooyy99</td>\n",
              "      <td></td>\n",
              "      <td>1942</td>\n",
              "      <td>9</td>\n",
              "      <td>Kamis</td>\n",
              "      <td>banjir bgt liat ig story awkarin</td>\n",
              "    </tr>\n",
              "    <tr>\n",
              "      <th>2497</th>\n",
              "      <td>1471414041809592323</td>\n",
              "      <td>RT @aulianzl_: Banjir bgt liat ig story awkari...</td>\n",
              "      <td>2021-12-16 09:36:59+00:00</td>\n",
              "      <td>2016-05-15 07:24:55+00:00</td>\n",
              "      <td>Faa 🍭</td>\n",
              "      <td>@Baekhyungluv</td>\n",
              "      <td>she/her 01'</td>\n",
              "      <td>1942</td>\n",
              "      <td>9</td>\n",
              "      <td>Kamis</td>\n",
              "      <td>banjir bgt liat ig story awkarin</td>\n",
              "    </tr>\n",
              "    <tr>\n",
              "      <th>2496</th>\n",
              "      <td>1471414069479366656</td>\n",
              "      <td>RT @averyfirmansyah: Banjir hindari Jalan Raya...</td>\n",
              "      <td>2021-12-16 09:37:06+00:00</td>\n",
              "      <td>2019-04-17 17:44:53+00:00</td>\n",
              "      <td>kuro</td>\n",
              "      <td>@heartsmith__</td>\n",
              "      <td></td>\n",
              "      <td>18</td>\n",
              "      <td>9</td>\n",
              "      <td>Kamis</td>\n",
              "      <td>banjir hindari jalan raya imam bonjol cikarang</td>\n",
              "    </tr>\n",
              "    <tr>\n",
              "      <th>2495</th>\n",
              "      <td>1471414079113744391</td>\n",
              "      <td>Iya banget pas di part itu auto banjir, apalgi...</td>\n",
              "      <td>2021-12-16 09:37:08+00:00</td>\n",
              "      <td>2018-12-11 23:27:38+00:00</td>\n",
              "      <td>Darkthen</td>\n",
              "      <td>@Jiijeell</td>\n",
              "      <td></td>\n",
              "      <td>0</td>\n",
              "      <td>9</td>\n",
              "      <td>Kamis</td>\n",
              "      <td>iya banget pas part auto banjir  apalgi lau me...</td>\n",
              "    </tr>\n",
              "  </tbody>\n",
              "</table>\n",
              "</div>\n",
              "      <button class=\"colab-df-convert\" onclick=\"convertToInteractive('df-b4f91868-461c-4d4f-808a-030d9578bfa7')\"\n",
              "              title=\"Convert this dataframe to an interactive table.\"\n",
              "              style=\"display:none;\">\n",
              "        \n",
              "  <svg xmlns=\"http://www.w3.org/2000/svg\" height=\"24px\"viewBox=\"0 0 24 24\"\n",
              "       width=\"24px\">\n",
              "    <path d=\"M0 0h24v24H0V0z\" fill=\"none\"/>\n",
              "    <path d=\"M18.56 5.44l.94 2.06.94-2.06 2.06-.94-2.06-.94-.94-2.06-.94 2.06-2.06.94zm-11 1L8.5 8.5l.94-2.06 2.06-.94-2.06-.94L8.5 2.5l-.94 2.06-2.06.94zm10 10l.94 2.06.94-2.06 2.06-.94-2.06-.94-.94-2.06-.94 2.06-2.06.94z\"/><path d=\"M17.41 7.96l-1.37-1.37c-.4-.4-.92-.59-1.43-.59-.52 0-1.04.2-1.43.59L10.3 9.45l-7.72 7.72c-.78.78-.78 2.05 0 2.83L4 21.41c.39.39.9.59 1.41.59.51 0 1.02-.2 1.41-.59l7.78-7.78 2.81-2.81c.8-.78.8-2.07 0-2.86zM5.41 20L4 18.59l7.72-7.72 1.47 1.35L5.41 20z\"/>\n",
              "  </svg>\n",
              "      </button>\n",
              "      \n",
              "  <style>\n",
              "    .colab-df-container {\n",
              "      display:flex;\n",
              "      flex-wrap:wrap;\n",
              "      gap: 12px;\n",
              "    }\n",
              "\n",
              "    .colab-df-convert {\n",
              "      background-color: #E8F0FE;\n",
              "      border: none;\n",
              "      border-radius: 50%;\n",
              "      cursor: pointer;\n",
              "      display: none;\n",
              "      fill: #1967D2;\n",
              "      height: 32px;\n",
              "      padding: 0 0 0 0;\n",
              "      width: 32px;\n",
              "    }\n",
              "\n",
              "    .colab-df-convert:hover {\n",
              "      background-color: #E2EBFA;\n",
              "      box-shadow: 0px 1px 2px rgba(60, 64, 67, 0.3), 0px 1px 3px 1px rgba(60, 64, 67, 0.15);\n",
              "      fill: #174EA6;\n",
              "    }\n",
              "\n",
              "    [theme=dark] .colab-df-convert {\n",
              "      background-color: #3B4455;\n",
              "      fill: #D2E3FC;\n",
              "    }\n",
              "\n",
              "    [theme=dark] .colab-df-convert:hover {\n",
              "      background-color: #434B5C;\n",
              "      box-shadow: 0px 1px 3px 1px rgba(0, 0, 0, 0.15);\n",
              "      filter: drop-shadow(0px 1px 2px rgba(0, 0, 0, 0.3));\n",
              "      fill: #FFFFFF;\n",
              "    }\n",
              "  </style>\n",
              "\n",
              "      <script>\n",
              "        const buttonEl =\n",
              "          document.querySelector('#df-b4f91868-461c-4d4f-808a-030d9578bfa7 button.colab-df-convert');\n",
              "        buttonEl.style.display =\n",
              "          google.colab.kernel.accessAllowed ? 'block' : 'none';\n",
              "\n",
              "        async function convertToInteractive(key) {\n",
              "          const element = document.querySelector('#df-b4f91868-461c-4d4f-808a-030d9578bfa7');\n",
              "          const dataTable =\n",
              "            await google.colab.kernel.invokeFunction('convertToInteractive',\n",
              "                                                     [key], {});\n",
              "          if (!dataTable) return;\n",
              "\n",
              "          const docLinkHtml = 'Like what you see? Visit the ' +\n",
              "            '<a target=\"_blank\" href=https://colab.research.google.com/notebooks/data_table.ipynb>data table notebook</a>'\n",
              "            + ' to learn more about interactive tables.';\n",
              "          element.innerHTML = '';\n",
              "          dataTable['output_type'] = 'display_data';\n",
              "          await google.colab.output.renderOutput(dataTable, element);\n",
              "          const docLink = document.createElement('div');\n",
              "          docLink.innerHTML = docLinkHtml;\n",
              "          element.appendChild(docLink);\n",
              "        }\n",
              "      </script>\n",
              "    </div>\n",
              "  </div>\n",
              "  "
            ],
            "text/plain": [
              "                       id  ...                                        tweet_clean\n",
              "2499  1471413976361672708  ...     banjir hindari jalan raya imam bonjol cikarang\n",
              "2498  1471414041037864961  ...                   banjir bgt liat ig story awkarin\n",
              "2497  1471414041809592323  ...                   banjir bgt liat ig story awkarin\n",
              "2496  1471414069479366656  ...     banjir hindari jalan raya imam bonjol cikarang\n",
              "2495  1471414079113744391  ...  iya banget pas part auto banjir  apalgi lau me...\n",
              "\n",
              "[5 rows x 11 columns]"
            ]
          },
          "metadata": {},
          "execution_count": 12
        }
      ],
      "source": [
        "df.head()"
      ]
    },
    {
      "cell_type": "code",
      "execution_count": null,
      "metadata": {
        "colab": {
          "base_uri": "https://localhost:8080/"
        },
        "id": "tRy-SSoXI1kJ",
        "outputId": "e0043e3e-c429-4043-87d7-9ad8bce2934c"
      },
      "outputs": [
        {
          "name": "stdout",
          "output_type": "stream",
          "text": [
            "<class 'pandas.core.frame.DataFrame'>\n",
            "Int64Index: 30000 entries, 2499 to 25000\n",
            "Data columns (total 11 columns):\n",
            " #   Column           Non-Null Count  Dtype              \n",
            "---  ------           --------------  -----              \n",
            " 0   id               30000 non-null  int64              \n",
            " 1   tweet            30000 non-null  object             \n",
            " 2   created_at       30000 non-null  datetime64[ns, UTC]\n",
            " 3   user_created_at  30000 non-null  datetime64[ns, UTC]\n",
            " 4   screen_name      30000 non-null  object             \n",
            " 5   name             30000 non-null  object             \n",
            " 6   location         30000 non-null  object             \n",
            " 7   retweet_count    30000 non-null  int64              \n",
            " 8   jam              30000 non-null  uint8              \n",
            " 9   hari             30000 non-null  object             \n",
            " 10  tweet_clean      30000 non-null  object             \n",
            "dtypes: datetime64[ns, UTC](2), int64(2), object(6), uint8(1)\n",
            "memory usage: 2.5+ MB\n"
          ]
        }
      ],
      "source": [
        "df.info()"
      ]
    },
    {
      "cell_type": "markdown",
      "metadata": {
        "id": "Efo3ZLoSC12E"
      },
      "source": [
        "# Descriptive Statistics"
      ]
    },
    {
      "cell_type": "code",
      "execution_count": 13,
      "metadata": {
        "colab": {
          "base_uri": "https://localhost:8080/"
        },
        "id": "aUXLZzxoDLhg",
        "outputId": "2bcc5f39-864a-4ae0-8033-90129075ed0a"
      },
      "outputs": [
        {
          "output_type": "stream",
          "name": "stdout",
          "text": [
            "Total number of tweets: 30000\n",
            "Total number of unique tweets: 7785\n"
          ]
        }
      ],
      "source": [
        "# Unique tweets\n",
        "print(f\"Total number of tweets: {len(list((df['tweet'])))}\")\n",
        "print(f\"Total number of unique tweets: {len(list(set(df['tweet'])))}\")"
      ]
    },
    {
      "cell_type": "code",
      "execution_count": 14,
      "metadata": {
        "colab": {
          "base_uri": "https://localhost:8080/"
        },
        "id": "W7fu2zNkDXE5",
        "outputId": "0f731106-77a1-4e9c-c331-f0f8844af7a5"
      },
      "outputs": [
        {
          "output_type": "stream",
          "name": "stdout",
          "text": [
            "Total uncleaned words: 524549\n",
            "Total uncleaned unique words: 30658\n"
          ]
        }
      ],
      "source": [
        "# Total words\n",
        "corpus = []\n",
        "for t in df['tweet'].tolist():\n",
        "  corpus.append(t)\n",
        "\n",
        "def convert(lst):\n",
        "    return ' '.join(lst).split()\n",
        "\n",
        "corpus = convert(corpus)\n",
        "\n",
        "print(f\"Total uncleaned words: {len(corpus)}\")\n",
        "print(f\"Total uncleaned unique words: {len(list(set(corpus)))}\")"
      ]
    },
    {
      "cell_type": "code",
      "execution_count": 15,
      "metadata": {
        "colab": {
          "base_uri": "https://localhost:8080/"
        },
        "id": "ovsetGKxErnp",
        "outputId": "50bfcd89-fcc3-423d-a0e1-13cc84bb0262"
      },
      "outputs": [
        {
          "output_type": "stream",
          "name": "stdout",
          "text": [
            "Average tweet word length : 17.484966666666665\n"
          ]
        }
      ],
      "source": [
        "# Average tweet length\n",
        "\n",
        "print(f\"Average tweet word length : {df['tweet'].str.split().map(len).mean()}\")"
      ]
    },
    {
      "cell_type": "code",
      "source": [
        "df.sort_values(by = 'created_at',ascending = True)[:1]"
      ],
      "metadata": {
        "colab": {
          "base_uri": "https://localhost:8080/",
          "height": 197
        },
        "id": "FB3byG5yYP05",
        "outputId": "3bdc8325-706f-40fb-b809-ce0dd105f752"
      },
      "execution_count": 57,
      "outputs": [
        {
          "output_type": "execute_result",
          "data": {
            "text/html": [
              "\n",
              "  <div id=\"df-c1c1225a-b32c-404f-814e-15a356532189\">\n",
              "    <div class=\"colab-df-container\">\n",
              "      <div>\n",
              "<style scoped>\n",
              "    .dataframe tbody tr th:only-of-type {\n",
              "        vertical-align: middle;\n",
              "    }\n",
              "\n",
              "    .dataframe tbody tr th {\n",
              "        vertical-align: top;\n",
              "    }\n",
              "\n",
              "    .dataframe thead th {\n",
              "        text-align: right;\n",
              "    }\n",
              "</style>\n",
              "<table border=\"1\" class=\"dataframe\">\n",
              "  <thead>\n",
              "    <tr style=\"text-align: right;\">\n",
              "      <th></th>\n",
              "      <th>id</th>\n",
              "      <th>tweet</th>\n",
              "      <th>created_at</th>\n",
              "      <th>user_created_at</th>\n",
              "      <th>screen_name</th>\n",
              "      <th>name</th>\n",
              "      <th>location</th>\n",
              "      <th>retweet_count</th>\n",
              "      <th>jam</th>\n",
              "      <th>hari</th>\n",
              "      <th>tweet_clean</th>\n",
              "      <th>mentioned</th>\n",
              "      <th>hashtag</th>\n",
              "    </tr>\n",
              "  </thead>\n",
              "  <tbody>\n",
              "    <tr>\n",
              "      <th>2499</th>\n",
              "      <td>1471413976361672708</td>\n",
              "      <td>RT @averyfirmansyah: Banjir hindari Jalan Raya...</td>\n",
              "      <td>2021-12-16 09:36:44+00:00</td>\n",
              "      <td>2009-06-28 16:08:58+00:00</td>\n",
              "      <td>Kounroan</td>\n",
              "      <td>@rendroko</td>\n",
              "      <td></td>\n",
              "      <td>18</td>\n",
              "      <td>9</td>\n",
              "      <td>Kamis</td>\n",
              "      <td>banjir hindari jalan raya imam bonjol cikarang</td>\n",
              "      <td>[( , averyfirmansyah), ( , RadioElshinta), ( ,...</td>\n",
              "      <td>[]</td>\n",
              "    </tr>\n",
              "  </tbody>\n",
              "</table>\n",
              "</div>\n",
              "      <button class=\"colab-df-convert\" onclick=\"convertToInteractive('df-c1c1225a-b32c-404f-814e-15a356532189')\"\n",
              "              title=\"Convert this dataframe to an interactive table.\"\n",
              "              style=\"display:none;\">\n",
              "        \n",
              "  <svg xmlns=\"http://www.w3.org/2000/svg\" height=\"24px\"viewBox=\"0 0 24 24\"\n",
              "       width=\"24px\">\n",
              "    <path d=\"M0 0h24v24H0V0z\" fill=\"none\"/>\n",
              "    <path d=\"M18.56 5.44l.94 2.06.94-2.06 2.06-.94-2.06-.94-.94-2.06-.94 2.06-2.06.94zm-11 1L8.5 8.5l.94-2.06 2.06-.94-2.06-.94L8.5 2.5l-.94 2.06-2.06.94zm10 10l.94 2.06.94-2.06 2.06-.94-2.06-.94-.94-2.06-.94 2.06-2.06.94z\"/><path d=\"M17.41 7.96l-1.37-1.37c-.4-.4-.92-.59-1.43-.59-.52 0-1.04.2-1.43.59L10.3 9.45l-7.72 7.72c-.78.78-.78 2.05 0 2.83L4 21.41c.39.39.9.59 1.41.59.51 0 1.02-.2 1.41-.59l7.78-7.78 2.81-2.81c.8-.78.8-2.07 0-2.86zM5.41 20L4 18.59l7.72-7.72 1.47 1.35L5.41 20z\"/>\n",
              "  </svg>\n",
              "      </button>\n",
              "      \n",
              "  <style>\n",
              "    .colab-df-container {\n",
              "      display:flex;\n",
              "      flex-wrap:wrap;\n",
              "      gap: 12px;\n",
              "    }\n",
              "\n",
              "    .colab-df-convert {\n",
              "      background-color: #E8F0FE;\n",
              "      border: none;\n",
              "      border-radius: 50%;\n",
              "      cursor: pointer;\n",
              "      display: none;\n",
              "      fill: #1967D2;\n",
              "      height: 32px;\n",
              "      padding: 0 0 0 0;\n",
              "      width: 32px;\n",
              "    }\n",
              "\n",
              "    .colab-df-convert:hover {\n",
              "      background-color: #E2EBFA;\n",
              "      box-shadow: 0px 1px 2px rgba(60, 64, 67, 0.3), 0px 1px 3px 1px rgba(60, 64, 67, 0.15);\n",
              "      fill: #174EA6;\n",
              "    }\n",
              "\n",
              "    [theme=dark] .colab-df-convert {\n",
              "      background-color: #3B4455;\n",
              "      fill: #D2E3FC;\n",
              "    }\n",
              "\n",
              "    [theme=dark] .colab-df-convert:hover {\n",
              "      background-color: #434B5C;\n",
              "      box-shadow: 0px 1px 3px 1px rgba(0, 0, 0, 0.15);\n",
              "      filter: drop-shadow(0px 1px 2px rgba(0, 0, 0, 0.3));\n",
              "      fill: #FFFFFF;\n",
              "    }\n",
              "  </style>\n",
              "\n",
              "      <script>\n",
              "        const buttonEl =\n",
              "          document.querySelector('#df-c1c1225a-b32c-404f-814e-15a356532189 button.colab-df-convert');\n",
              "        buttonEl.style.display =\n",
              "          google.colab.kernel.accessAllowed ? 'block' : 'none';\n",
              "\n",
              "        async function convertToInteractive(key) {\n",
              "          const element = document.querySelector('#df-c1c1225a-b32c-404f-814e-15a356532189');\n",
              "          const dataTable =\n",
              "            await google.colab.kernel.invokeFunction('convertToInteractive',\n",
              "                                                     [key], {});\n",
              "          if (!dataTable) return;\n",
              "\n",
              "          const docLinkHtml = 'Like what you see? Visit the ' +\n",
              "            '<a target=\"_blank\" href=https://colab.research.google.com/notebooks/data_table.ipynb>data table notebook</a>'\n",
              "            + ' to learn more about interactive tables.';\n",
              "          element.innerHTML = '';\n",
              "          dataTable['output_type'] = 'display_data';\n",
              "          await google.colab.output.renderOutput(dataTable, element);\n",
              "          const docLink = document.createElement('div');\n",
              "          docLink.innerHTML = docLinkHtml;\n",
              "          element.appendChild(docLink);\n",
              "        }\n",
              "      </script>\n",
              "    </div>\n",
              "  </div>\n",
              "  "
            ],
            "text/plain": [
              "                       id  ... hashtag\n",
              "2499  1471413976361672708  ...      []\n",
              "\n",
              "[1 rows x 13 columns]"
            ]
          },
          "metadata": {},
          "execution_count": 57
        }
      ]
    },
    {
      "cell_type": "code",
      "source": [
        "df.sort_values(by = 'created_at',ascending = False)[:1]"
      ],
      "metadata": {
        "colab": {
          "base_uri": "https://localhost:8080/",
          "height": 215
        },
        "id": "du5T_uV8YHsD",
        "outputId": "d43d6be1-0d37-403f-88fc-09bf7121403f"
      },
      "execution_count": 56,
      "outputs": [
        {
          "output_type": "execute_result",
          "data": {
            "text/html": [
              "\n",
              "  <div id=\"df-54a591bd-1c84-432e-86e4-7389b680e9bf\">\n",
              "    <div class=\"colab-df-container\">\n",
              "      <div>\n",
              "<style scoped>\n",
              "    .dataframe tbody tr th:only-of-type {\n",
              "        vertical-align: middle;\n",
              "    }\n",
              "\n",
              "    .dataframe tbody tr th {\n",
              "        vertical-align: top;\n",
              "    }\n",
              "\n",
              "    .dataframe thead th {\n",
              "        text-align: right;\n",
              "    }\n",
              "</style>\n",
              "<table border=\"1\" class=\"dataframe\">\n",
              "  <thead>\n",
              "    <tr style=\"text-align: right;\">\n",
              "      <th></th>\n",
              "      <th>id</th>\n",
              "      <th>tweet</th>\n",
              "      <th>created_at</th>\n",
              "      <th>user_created_at</th>\n",
              "      <th>screen_name</th>\n",
              "      <th>name</th>\n",
              "      <th>location</th>\n",
              "      <th>retweet_count</th>\n",
              "      <th>jam</th>\n",
              "      <th>hari</th>\n",
              "      <th>tweet_clean</th>\n",
              "      <th>mentioned</th>\n",
              "      <th>hashtag</th>\n",
              "    </tr>\n",
              "  </thead>\n",
              "  <tbody>\n",
              "    <tr>\n",
              "      <th>25000</th>\n",
              "      <td>1472499721885208579</td>\n",
              "      <td>RT @BernamaTV: #Banjir: Sebahagian penduduk di...</td>\n",
              "      <td>2021-12-19 09:31:06+00:00</td>\n",
              "      <td>2019-07-28 13:25:10+00:00</td>\n",
              "      <td>arul</td>\n",
              "      <td>@azrulilham_</td>\n",
              "      <td></td>\n",
              "      <td>460</td>\n",
              "      <td>9</td>\n",
              "      <td>Minggu</td>\n",
              "      <td>banjir  sebahagian penduduk taman sri muda  sh...</td>\n",
              "      <td>[( , BernamaTV)]</td>\n",
              "      <td>[banjir]</td>\n",
              "    </tr>\n",
              "  </tbody>\n",
              "</table>\n",
              "</div>\n",
              "      <button class=\"colab-df-convert\" onclick=\"convertToInteractive('df-54a591bd-1c84-432e-86e4-7389b680e9bf')\"\n",
              "              title=\"Convert this dataframe to an interactive table.\"\n",
              "              style=\"display:none;\">\n",
              "        \n",
              "  <svg xmlns=\"http://www.w3.org/2000/svg\" height=\"24px\"viewBox=\"0 0 24 24\"\n",
              "       width=\"24px\">\n",
              "    <path d=\"M0 0h24v24H0V0z\" fill=\"none\"/>\n",
              "    <path d=\"M18.56 5.44l.94 2.06.94-2.06 2.06-.94-2.06-.94-.94-2.06-.94 2.06-2.06.94zm-11 1L8.5 8.5l.94-2.06 2.06-.94-2.06-.94L8.5 2.5l-.94 2.06-2.06.94zm10 10l.94 2.06.94-2.06 2.06-.94-2.06-.94-.94-2.06-.94 2.06-2.06.94z\"/><path d=\"M17.41 7.96l-1.37-1.37c-.4-.4-.92-.59-1.43-.59-.52 0-1.04.2-1.43.59L10.3 9.45l-7.72 7.72c-.78.78-.78 2.05 0 2.83L4 21.41c.39.39.9.59 1.41.59.51 0 1.02-.2 1.41-.59l7.78-7.78 2.81-2.81c.8-.78.8-2.07 0-2.86zM5.41 20L4 18.59l7.72-7.72 1.47 1.35L5.41 20z\"/>\n",
              "  </svg>\n",
              "      </button>\n",
              "      \n",
              "  <style>\n",
              "    .colab-df-container {\n",
              "      display:flex;\n",
              "      flex-wrap:wrap;\n",
              "      gap: 12px;\n",
              "    }\n",
              "\n",
              "    .colab-df-convert {\n",
              "      background-color: #E8F0FE;\n",
              "      border: none;\n",
              "      border-radius: 50%;\n",
              "      cursor: pointer;\n",
              "      display: none;\n",
              "      fill: #1967D2;\n",
              "      height: 32px;\n",
              "      padding: 0 0 0 0;\n",
              "      width: 32px;\n",
              "    }\n",
              "\n",
              "    .colab-df-convert:hover {\n",
              "      background-color: #E2EBFA;\n",
              "      box-shadow: 0px 1px 2px rgba(60, 64, 67, 0.3), 0px 1px 3px 1px rgba(60, 64, 67, 0.15);\n",
              "      fill: #174EA6;\n",
              "    }\n",
              "\n",
              "    [theme=dark] .colab-df-convert {\n",
              "      background-color: #3B4455;\n",
              "      fill: #D2E3FC;\n",
              "    }\n",
              "\n",
              "    [theme=dark] .colab-df-convert:hover {\n",
              "      background-color: #434B5C;\n",
              "      box-shadow: 0px 1px 3px 1px rgba(0, 0, 0, 0.15);\n",
              "      filter: drop-shadow(0px 1px 2px rgba(0, 0, 0, 0.3));\n",
              "      fill: #FFFFFF;\n",
              "    }\n",
              "  </style>\n",
              "\n",
              "      <script>\n",
              "        const buttonEl =\n",
              "          document.querySelector('#df-54a591bd-1c84-432e-86e4-7389b680e9bf button.colab-df-convert');\n",
              "        buttonEl.style.display =\n",
              "          google.colab.kernel.accessAllowed ? 'block' : 'none';\n",
              "\n",
              "        async function convertToInteractive(key) {\n",
              "          const element = document.querySelector('#df-54a591bd-1c84-432e-86e4-7389b680e9bf');\n",
              "          const dataTable =\n",
              "            await google.colab.kernel.invokeFunction('convertToInteractive',\n",
              "                                                     [key], {});\n",
              "          if (!dataTable) return;\n",
              "\n",
              "          const docLinkHtml = 'Like what you see? Visit the ' +\n",
              "            '<a target=\"_blank\" href=https://colab.research.google.com/notebooks/data_table.ipynb>data table notebook</a>'\n",
              "            + ' to learn more about interactive tables.';\n",
              "          element.innerHTML = '';\n",
              "          dataTable['output_type'] = 'display_data';\n",
              "          await google.colab.output.renderOutput(dataTable, element);\n",
              "          const docLink = document.createElement('div');\n",
              "          docLink.innerHTML = docLinkHtml;\n",
              "          element.appendChild(docLink);\n",
              "        }\n",
              "      </script>\n",
              "    </div>\n",
              "  </div>\n",
              "  "
            ],
            "text/plain": [
              "                        id  ...   hashtag\n",
              "25000  1472499721885208579  ...  [banjir]\n",
              "\n",
              "[1 rows x 13 columns]"
            ]
          },
          "metadata": {},
          "execution_count": 56
        }
      ]
    },
    {
      "cell_type": "code",
      "execution_count": 16,
      "metadata": {
        "colab": {
          "base_uri": "https://localhost:8080/"
        },
        "id": "_gBgRe_bFePc",
        "outputId": "625f2da3-7e72-4ed6-c20f-dc0b1ac68749"
      },
      "outputs": [
        {
          "output_type": "execute_result",
          "data": {
            "text/plain": [
              "[('rt', 24013),\n",
              " ('banjir', 19444),\n",
              " ('yang', 7192),\n",
              " ('di', 6939),\n",
              " ('banjir.', 5221),\n",
              " ('hujan', 4553),\n",
              " ('dan', 3716),\n",
              " ('atau', 3149),\n",
              " ('mangsa', 3148),\n",
              " ('@addien90s:', 3088),\n",
              " ('dah', 3050),\n",
              " ('bila', 2983),\n",
              " ('boleh', 2959),\n",
              " ('doa', 2920),\n",
              " ('ada', 2877),\n",
              " ('untuk', 2818),\n",
              " ('lama', 2666),\n",
              " ('lebat,', 2633),\n",
              " ('terlalu', 2625),\n",
              " ('https://t.co/6blyxgc9g9', 2590)]"
            ]
          },
          "metadata": {},
          "execution_count": 16
        }
      ],
      "source": [
        "# Most popular word taken besides banjir\n",
        "from collections import Counter\n",
        "\n",
        "corpus = [c.lower() for c in corpus]\n",
        "Counter(corpus).most_common()[:20]"
      ]
    },
    {
      "cell_type": "code",
      "execution_count": 17,
      "metadata": {
        "colab": {
          "base_uri": "https://localhost:8080/"
        },
        "id": "guVLEWa3iJOI",
        "outputId": "c0df9919-3f56-49df-d0ea-46df54aebd65"
      },
      "outputs": [
        {
          "output_type": "stream",
          "name": "stdout",
          "text": [
            "Total cleaned words: 403752\n",
            "Total cleaned unique words: 14892\n"
          ]
        }
      ],
      "source": [
        "# Total words clean tweet\n",
        "corpusclean = []\n",
        "for t in df['tweet_clean'].tolist():\n",
        "  corpusclean.append(t)\n",
        "\n",
        "def convert(lst):\n",
        "    return ' '.join(lst).split()\n",
        "\n",
        "corpusclean = convert(corpusclean)\n",
        "\n",
        "print(f\"Total cleaned words: {len(corpusclean)}\")\n",
        "print(f\"Total cleaned unique words: {len(list(set(corpusclean)))}\")"
      ]
    },
    {
      "cell_type": "code",
      "execution_count": 19,
      "metadata": {
        "colab": {
          "base_uri": "https://localhost:8080/"
        },
        "id": "rmXaz8FU1opj",
        "outputId": "b17c954c-c5a4-4a6c-c0e5-8cc6103aad5b"
      },
      "outputs": [
        {
          "output_type": "execute_result",
          "data": {
            "text/plain": [
              "[('banjir', 27914),\n",
              " ('hujan', 4742),\n",
              " ('ni', 3863),\n",
              " ('mangsa', 3307),\n",
              " ('lebat', 3216),\n",
              " ('bila', 3135),\n",
              " ('dah', 3101),\n",
              " ('doa', 2938),\n",
              " ('tak', 2773),\n",
              " ('lama', 2722),\n",
              " ('klang', 2672),\n",
              " ('terlalu', 2625),\n",
              " ('nak', 2607),\n",
              " ('aku', 2494),\n",
              " ('air', 2474),\n",
              " ('alam', 2418),\n",
              " ('kalau', 2035),\n",
              " ('shah', 2024),\n",
              " ('semua', 1942),\n",
              " ('rumah', 1890)]"
            ]
          },
          "metadata": {},
          "execution_count": 19
        }
      ],
      "source": [
        "corpusclean = [c.lower() for c in corpusclean]\n",
        "Counter(corpusclean).most_common()[:20]"
      ]
    },
    {
      "cell_type": "code",
      "execution_count": 18,
      "metadata": {
        "colab": {
          "base_uri": "https://localhost:8080/",
          "height": 520
        },
        "id": "7NXCA0RNLnZu",
        "outputId": "9b721d5e-9b67-42a8-ceff-dfc39dfc7c38"
      },
      "outputs": [
        {
          "output_type": "execute_result",
          "data": {
            "text/html": [
              "\n",
              "  <div id=\"df-54d261d0-86c1-465a-825c-728d378e771d\">\n",
              "    <div class=\"colab-df-container\">\n",
              "      <div>\n",
              "<style scoped>\n",
              "    .dataframe tbody tr th:only-of-type {\n",
              "        vertical-align: middle;\n",
              "    }\n",
              "\n",
              "    .dataframe tbody tr th {\n",
              "        vertical-align: top;\n",
              "    }\n",
              "\n",
              "    .dataframe thead th {\n",
              "        text-align: right;\n",
              "    }\n",
              "</style>\n",
              "<table border=\"1\" class=\"dataframe\">\n",
              "  <thead>\n",
              "    <tr style=\"text-align: right;\">\n",
              "      <th></th>\n",
              "      <th>screen_name</th>\n",
              "      <th>name</th>\n",
              "      <th>id</th>\n",
              "    </tr>\n",
              "  </thead>\n",
              "  <tbody>\n",
              "    <tr>\n",
              "      <th>6461</th>\n",
              "      <td>PetaBencana.id</td>\n",
              "      <td>@petabencana</td>\n",
              "      <td>165</td>\n",
              "    </tr>\n",
              "    <tr>\n",
              "      <th>15556</th>\n",
              "      <td>حسنى</td>\n",
              "      <td>@nurainilhusnaa</td>\n",
              "      <td>28</td>\n",
              "    </tr>\n",
              "    <tr>\n",
              "      <th>15992</th>\n",
              "      <td>ᴊᴏᴇ ʟᴇᴇ</td>\n",
              "      <td>@iamjoelee</td>\n",
              "      <td>26</td>\n",
              "    </tr>\n",
              "    <tr>\n",
              "      <th>6748</th>\n",
              "      <td>Rahah Ghazali 🇲🇾🏴🏴🏴🏴</td>\n",
              "      <td>@rahah_ghazali</td>\n",
              "      <td>20</td>\n",
              "    </tr>\n",
              "    <tr>\n",
              "      <th>2494</th>\n",
              "      <td>Dewie</td>\n",
              "      <td>@Banjir_hujanwin</td>\n",
              "      <td>20</td>\n",
              "    </tr>\n",
              "    <tr>\n",
              "      <th>14457</th>\n",
              "      <td>tierra</td>\n",
              "      <td>@tierra_mt</td>\n",
              "      <td>20</td>\n",
              "    </tr>\n",
              "    <tr>\n",
              "      <th>6567</th>\n",
              "      <td>Pusat Maklumat Rakyat PPD Machang</td>\n",
              "      <td>@PMRMachang</td>\n",
              "      <td>19</td>\n",
              "    </tr>\n",
              "    <tr>\n",
              "      <th>7425</th>\n",
              "      <td>SinarOnline</td>\n",
              "      <td>@SinarOnline</td>\n",
              "      <td>18</td>\n",
              "    </tr>\n",
              "    <tr>\n",
              "      <th>3310</th>\n",
              "      <td>Gangsta Gastino</td>\n",
              "      <td>@TrafalgarZul</td>\n",
              "      <td>17</td>\n",
              "    </tr>\n",
              "    <tr>\n",
              "      <th>13765</th>\n",
              "      <td>salazar interpuret 🏴</td>\n",
              "      <td>@dani19x</td>\n",
              "      <td>15</td>\n",
              "    </tr>\n",
              "    <tr>\n",
              "      <th>85</th>\n",
              "      <td>#teamrayakedah</td>\n",
              "      <td>@Aimiathirahhh</td>\n",
              "      <td>15</td>\n",
              "    </tr>\n",
              "    <tr>\n",
              "      <th>7900</th>\n",
              "      <td>TokWan@Jeli</td>\n",
              "      <td>@tokwan_jeli</td>\n",
              "      <td>15</td>\n",
              "    </tr>\n",
              "    <tr>\n",
              "      <th>14202</th>\n",
              "      <td>syaff</td>\n",
              "      <td>@hana_nsy</td>\n",
              "      <td>14</td>\n",
              "    </tr>\n",
              "    <tr>\n",
              "      <th>14783</th>\n",
              "      <td>whothe_¥ 🏴</td>\n",
              "      <td>@yusurisan</td>\n",
              "      <td>14</td>\n",
              "    </tr>\n",
              "    <tr>\n",
              "      <th>4408</th>\n",
              "      <td>KOMPAS TV</td>\n",
              "      <td>@KompasTV</td>\n",
              "      <td>14</td>\n",
              "    </tr>\n",
              "  </tbody>\n",
              "</table>\n",
              "</div>\n",
              "      <button class=\"colab-df-convert\" onclick=\"convertToInteractive('df-54d261d0-86c1-465a-825c-728d378e771d')\"\n",
              "              title=\"Convert this dataframe to an interactive table.\"\n",
              "              style=\"display:none;\">\n",
              "        \n",
              "  <svg xmlns=\"http://www.w3.org/2000/svg\" height=\"24px\"viewBox=\"0 0 24 24\"\n",
              "       width=\"24px\">\n",
              "    <path d=\"M0 0h24v24H0V0z\" fill=\"none\"/>\n",
              "    <path d=\"M18.56 5.44l.94 2.06.94-2.06 2.06-.94-2.06-.94-.94-2.06-.94 2.06-2.06.94zm-11 1L8.5 8.5l.94-2.06 2.06-.94-2.06-.94L8.5 2.5l-.94 2.06-2.06.94zm10 10l.94 2.06.94-2.06 2.06-.94-2.06-.94-.94-2.06-.94 2.06-2.06.94z\"/><path d=\"M17.41 7.96l-1.37-1.37c-.4-.4-.92-.59-1.43-.59-.52 0-1.04.2-1.43.59L10.3 9.45l-7.72 7.72c-.78.78-.78 2.05 0 2.83L4 21.41c.39.39.9.59 1.41.59.51 0 1.02-.2 1.41-.59l7.78-7.78 2.81-2.81c.8-.78.8-2.07 0-2.86zM5.41 20L4 18.59l7.72-7.72 1.47 1.35L5.41 20z\"/>\n",
              "  </svg>\n",
              "      </button>\n",
              "      \n",
              "  <style>\n",
              "    .colab-df-container {\n",
              "      display:flex;\n",
              "      flex-wrap:wrap;\n",
              "      gap: 12px;\n",
              "    }\n",
              "\n",
              "    .colab-df-convert {\n",
              "      background-color: #E8F0FE;\n",
              "      border: none;\n",
              "      border-radius: 50%;\n",
              "      cursor: pointer;\n",
              "      display: none;\n",
              "      fill: #1967D2;\n",
              "      height: 32px;\n",
              "      padding: 0 0 0 0;\n",
              "      width: 32px;\n",
              "    }\n",
              "\n",
              "    .colab-df-convert:hover {\n",
              "      background-color: #E2EBFA;\n",
              "      box-shadow: 0px 1px 2px rgba(60, 64, 67, 0.3), 0px 1px 3px 1px rgba(60, 64, 67, 0.15);\n",
              "      fill: #174EA6;\n",
              "    }\n",
              "\n",
              "    [theme=dark] .colab-df-convert {\n",
              "      background-color: #3B4455;\n",
              "      fill: #D2E3FC;\n",
              "    }\n",
              "\n",
              "    [theme=dark] .colab-df-convert:hover {\n",
              "      background-color: #434B5C;\n",
              "      box-shadow: 0px 1px 3px 1px rgba(0, 0, 0, 0.15);\n",
              "      filter: drop-shadow(0px 1px 2px rgba(0, 0, 0, 0.3));\n",
              "      fill: #FFFFFF;\n",
              "    }\n",
              "  </style>\n",
              "\n",
              "      <script>\n",
              "        const buttonEl =\n",
              "          document.querySelector('#df-54d261d0-86c1-465a-825c-728d378e771d button.colab-df-convert');\n",
              "        buttonEl.style.display =\n",
              "          google.colab.kernel.accessAllowed ? 'block' : 'none';\n",
              "\n",
              "        async function convertToInteractive(key) {\n",
              "          const element = document.querySelector('#df-54d261d0-86c1-465a-825c-728d378e771d');\n",
              "          const dataTable =\n",
              "            await google.colab.kernel.invokeFunction('convertToInteractive',\n",
              "                                                     [key], {});\n",
              "          if (!dataTable) return;\n",
              "\n",
              "          const docLinkHtml = 'Like what you see? Visit the ' +\n",
              "            '<a target=\"_blank\" href=https://colab.research.google.com/notebooks/data_table.ipynb>data table notebook</a>'\n",
              "            + ' to learn more about interactive tables.';\n",
              "          element.innerHTML = '';\n",
              "          dataTable['output_type'] = 'display_data';\n",
              "          await google.colab.output.renderOutput(dataTable, element);\n",
              "          const docLink = document.createElement('div');\n",
              "          docLink.innerHTML = docLinkHtml;\n",
              "          element.appendChild(docLink);\n",
              "        }\n",
              "      </script>\n",
              "    </div>\n",
              "  </div>\n",
              "  "
            ],
            "text/plain": [
              "                             screen_name              name   id\n",
              "6461                      PetaBencana.id      @petabencana  165\n",
              "15556                               حسنى   @nurainilhusnaa   28\n",
              "15992                            ᴊᴏᴇ ʟᴇᴇ        @iamjoelee   26\n",
              "6748                Rahah Ghazali 🇲🇾🏴🏴🏴🏴    @rahah_ghazali   20\n",
              "2494                               Dewie  @Banjir_hujanwin   20\n",
              "14457                             tierra        @tierra_mt   20\n",
              "6567   Pusat Maklumat Rakyat PPD Machang       @PMRMachang   19\n",
              "7425                         SinarOnline      @SinarOnline   18\n",
              "3310                     Gangsta Gastino     @TrafalgarZul   17\n",
              "13765               salazar interpuret 🏴          @dani19x   15\n",
              "85                        #teamrayakedah    @Aimiathirahhh   15\n",
              "7900                         TokWan@Jeli      @tokwan_jeli   15\n",
              "14202                              syaff         @hana_nsy   14\n",
              "14783                         whothe_¥ 🏴        @yusurisan   14\n",
              "4408                           KOMPAS TV         @KompasTV   14"
            ]
          },
          "metadata": {},
          "execution_count": 18
        }
      ],
      "source": [
        "# Top 10 akun dengan tweet banjir terbanyak\n",
        "df1 = df[['screen_name','name','id']]\n",
        "df1.groupby(['screen_name','name']).count().reset_index().sort_values(by = 'id',ascending = False)[:15]"
      ]
    },
    {
      "cell_type": "code",
      "execution_count": null,
      "metadata": {
        "colab": {
          "base_uri": "https://localhost:8080/",
          "height": 520
        },
        "id": "kwCYrbl3M0uO",
        "outputId": "c955d815-79eb-4b01-d65c-ca01f821e016"
      },
      "outputs": [
        {
          "data": {
            "text/html": [
              "\n",
              "  <div id=\"df-5c4ae027-3334-4eb4-82cb-07a6c856f07a\">\n",
              "    <div class=\"colab-df-container\">\n",
              "      <div>\n",
              "<style scoped>\n",
              "    .dataframe tbody tr th:only-of-type {\n",
              "        vertical-align: middle;\n",
              "    }\n",
              "\n",
              "    .dataframe tbody tr th {\n",
              "        vertical-align: top;\n",
              "    }\n",
              "\n",
              "    .dataframe thead th {\n",
              "        text-align: right;\n",
              "    }\n",
              "</style>\n",
              "<table border=\"1\" class=\"dataframe\">\n",
              "  <thead>\n",
              "    <tr style=\"text-align: right;\">\n",
              "      <th></th>\n",
              "      <th>location</th>\n",
              "      <th>id</th>\n",
              "    </tr>\n",
              "  </thead>\n",
              "  <tbody>\n",
              "    <tr>\n",
              "      <th>0</th>\n",
              "      <td></td>\n",
              "      <td>11581</td>\n",
              "    </tr>\n",
              "    <tr>\n",
              "      <th>2103</th>\n",
              "      <td>Malaysia</td>\n",
              "      <td>2365</td>\n",
              "    </tr>\n",
              "    <tr>\n",
              "      <th>2844</th>\n",
              "      <td>Selangor, Malaysia</td>\n",
              "      <td>582</td>\n",
              "    </tr>\n",
              "    <tr>\n",
              "      <th>1327</th>\n",
              "      <td>Indonesia</td>\n",
              "      <td>538</td>\n",
              "    </tr>\n",
              "    <tr>\n",
              "      <th>1851</th>\n",
              "      <td>Kuala Lumpur</td>\n",
              "      <td>301</td>\n",
              "    </tr>\n",
              "    <tr>\n",
              "      <th>4679</th>\n",
              "      <td>she/her</td>\n",
              "      <td>220</td>\n",
              "    </tr>\n",
              "    <tr>\n",
              "      <th>2553</th>\n",
              "      <td>Perak, Malaysia</td>\n",
              "      <td>141</td>\n",
              "    </tr>\n",
              "    <tr>\n",
              "      <th>1907</th>\n",
              "      <td>Kuantan, Pahang</td>\n",
              "      <td>140</td>\n",
              "    </tr>\n",
              "    <tr>\n",
              "      <th>1862</th>\n",
              "      <td>Kuala Lumpur Federal Territory</td>\n",
              "      <td>131</td>\n",
              "    </tr>\n",
              "    <tr>\n",
              "      <th>1531</th>\n",
              "      <td>Johor Bahru, Johor</td>\n",
              "      <td>119</td>\n",
              "    </tr>\n",
              "    <tr>\n",
              "      <th>1550</th>\n",
              "      <td>Johore, Malaysia</td>\n",
              "      <td>113</td>\n",
              "    </tr>\n",
              "    <tr>\n",
              "      <th>1859</th>\n",
              "      <td>Kuala Lumpur City</td>\n",
              "      <td>113</td>\n",
              "    </tr>\n",
              "    <tr>\n",
              "      <th>5377</th>\n",
              "      <td>🇲🇾</td>\n",
              "      <td>111</td>\n",
              "    </tr>\n",
              "    <tr>\n",
              "      <th>910</th>\n",
              "      <td>DKI Jakarta, Indonesia</td>\n",
              "      <td>111</td>\n",
              "    </tr>\n",
              "    <tr>\n",
              "      <th>2470</th>\n",
              "      <td>Pahang, Malaysia</td>\n",
              "      <td>102</td>\n",
              "    </tr>\n",
              "  </tbody>\n",
              "</table>\n",
              "</div>\n",
              "      <button class=\"colab-df-convert\" onclick=\"convertToInteractive('df-5c4ae027-3334-4eb4-82cb-07a6c856f07a')\"\n",
              "              title=\"Convert this dataframe to an interactive table.\"\n",
              "              style=\"display:none;\">\n",
              "        \n",
              "  <svg xmlns=\"http://www.w3.org/2000/svg\" height=\"24px\"viewBox=\"0 0 24 24\"\n",
              "       width=\"24px\">\n",
              "    <path d=\"M0 0h24v24H0V0z\" fill=\"none\"/>\n",
              "    <path d=\"M18.56 5.44l.94 2.06.94-2.06 2.06-.94-2.06-.94-.94-2.06-.94 2.06-2.06.94zm-11 1L8.5 8.5l.94-2.06 2.06-.94-2.06-.94L8.5 2.5l-.94 2.06-2.06.94zm10 10l.94 2.06.94-2.06 2.06-.94-2.06-.94-.94-2.06-.94 2.06-2.06.94z\"/><path d=\"M17.41 7.96l-1.37-1.37c-.4-.4-.92-.59-1.43-.59-.52 0-1.04.2-1.43.59L10.3 9.45l-7.72 7.72c-.78.78-.78 2.05 0 2.83L4 21.41c.39.39.9.59 1.41.59.51 0 1.02-.2 1.41-.59l7.78-7.78 2.81-2.81c.8-.78.8-2.07 0-2.86zM5.41 20L4 18.59l7.72-7.72 1.47 1.35L5.41 20z\"/>\n",
              "  </svg>\n",
              "      </button>\n",
              "      \n",
              "  <style>\n",
              "    .colab-df-container {\n",
              "      display:flex;\n",
              "      flex-wrap:wrap;\n",
              "      gap: 12px;\n",
              "    }\n",
              "\n",
              "    .colab-df-convert {\n",
              "      background-color: #E8F0FE;\n",
              "      border: none;\n",
              "      border-radius: 50%;\n",
              "      cursor: pointer;\n",
              "      display: none;\n",
              "      fill: #1967D2;\n",
              "      height: 32px;\n",
              "      padding: 0 0 0 0;\n",
              "      width: 32px;\n",
              "    }\n",
              "\n",
              "    .colab-df-convert:hover {\n",
              "      background-color: #E2EBFA;\n",
              "      box-shadow: 0px 1px 2px rgba(60, 64, 67, 0.3), 0px 1px 3px 1px rgba(60, 64, 67, 0.15);\n",
              "      fill: #174EA6;\n",
              "    }\n",
              "\n",
              "    [theme=dark] .colab-df-convert {\n",
              "      background-color: #3B4455;\n",
              "      fill: #D2E3FC;\n",
              "    }\n",
              "\n",
              "    [theme=dark] .colab-df-convert:hover {\n",
              "      background-color: #434B5C;\n",
              "      box-shadow: 0px 1px 3px 1px rgba(0, 0, 0, 0.15);\n",
              "      filter: drop-shadow(0px 1px 2px rgba(0, 0, 0, 0.3));\n",
              "      fill: #FFFFFF;\n",
              "    }\n",
              "  </style>\n",
              "\n",
              "      <script>\n",
              "        const buttonEl =\n",
              "          document.querySelector('#df-5c4ae027-3334-4eb4-82cb-07a6c856f07a button.colab-df-convert');\n",
              "        buttonEl.style.display =\n",
              "          google.colab.kernel.accessAllowed ? 'block' : 'none';\n",
              "\n",
              "        async function convertToInteractive(key) {\n",
              "          const element = document.querySelector('#df-5c4ae027-3334-4eb4-82cb-07a6c856f07a');\n",
              "          const dataTable =\n",
              "            await google.colab.kernel.invokeFunction('convertToInteractive',\n",
              "                                                     [key], {});\n",
              "          if (!dataTable) return;\n",
              "\n",
              "          const docLinkHtml = 'Like what you see? Visit the ' +\n",
              "            '<a target=\"_blank\" href=https://colab.research.google.com/notebooks/data_table.ipynb>data table notebook</a>'\n",
              "            + ' to learn more about interactive tables.';\n",
              "          element.innerHTML = '';\n",
              "          dataTable['output_type'] = 'display_data';\n",
              "          await google.colab.output.renderOutput(dataTable, element);\n",
              "          const docLink = document.createElement('div');\n",
              "          docLink.innerHTML = docLinkHtml;\n",
              "          element.appendChild(docLink);\n",
              "        }\n",
              "      </script>\n",
              "    </div>\n",
              "  </div>\n",
              "  "
            ],
            "text/plain": [
              "                            location     id\n",
              "0                                     11581\n",
              "2103                        Malaysia   2365\n",
              "2844              Selangor, Malaysia    582\n",
              "1327                       Indonesia    538\n",
              "1851                    Kuala Lumpur    301\n",
              "4679                         she/her    220\n",
              "2553                 Perak, Malaysia    141\n",
              "1907                 Kuantan, Pahang    140\n",
              "1862  Kuala Lumpur Federal Territory    131\n",
              "1531              Johor Bahru, Johor    119\n",
              "1550                Johore, Malaysia    113\n",
              "1859               Kuala Lumpur City    113\n",
              "5377                              🇲🇾    111\n",
              "910           DKI Jakarta, Indonesia    111\n",
              "2470                Pahang, Malaysia    102"
            ]
          },
          "execution_count": 23,
          "metadata": {},
          "output_type": "execute_result"
        }
      ],
      "source": [
        "# Top 10 akun dengan tweet banjir terbanyak\n",
        "df1 = df[['location','id']]\n",
        "df1.groupby(['location']).count().reset_index().sort_values(by = 'id',ascending = False)[:15]"
      ]
    },
    {
      "cell_type": "code",
      "execution_count": null,
      "metadata": {
        "colab": {
          "base_uri": "https://localhost:8080/",
          "height": 1000
        },
        "id": "Idy5nVZGQNVv",
        "outputId": "0a4ac8da-183d-42c1-be75-f5f9a8bac7bf"
      },
      "outputs": [
        {
          "data": {
            "text/html": [
              "\n",
              "  <div id=\"df-eef15954-5e88-4b7f-a75a-208425ea7c45\">\n",
              "    <div class=\"colab-df-container\">\n",
              "      <div>\n",
              "<style scoped>\n",
              "    .dataframe tbody tr th:only-of-type {\n",
              "        vertical-align: middle;\n",
              "    }\n",
              "\n",
              "    .dataframe tbody tr th {\n",
              "        vertical-align: top;\n",
              "    }\n",
              "\n",
              "    .dataframe thead th {\n",
              "        text-align: right;\n",
              "    }\n",
              "</style>\n",
              "<table border=\"1\" class=\"dataframe\">\n",
              "  <thead>\n",
              "    <tr style=\"text-align: right;\">\n",
              "      <th></th>\n",
              "      <th>id</th>\n",
              "      <th>tweet</th>\n",
              "      <th>created_at</th>\n",
              "      <th>user_created_at</th>\n",
              "      <th>screen_name</th>\n",
              "      <th>name</th>\n",
              "      <th>location</th>\n",
              "      <th>retweet_count</th>\n",
              "      <th>jam</th>\n",
              "      <th>hari</th>\n",
              "      <th>tweet_clean</th>\n",
              "    </tr>\n",
              "  </thead>\n",
              "  <tbody>\n",
              "    <tr>\n",
              "      <th>85</th>\n",
              "      <td>1471494197052010503</td>\n",
              "      <td>RT @tampuboIon: hari ini ada mas gojek yang re...</td>\n",
              "      <td>2021-12-16 14:55:30+00:00</td>\n",
              "      <td>2021-07-07 22:38:43+00:00</td>\n",
              "      <td>vs</td>\n",
              "      <td>@vesh1234</td>\n",
              "      <td></td>\n",
              "      <td>29335</td>\n",
              "      <td>14</td>\n",
              "      <td>Kamis</td>\n",
              "      <td>hari ada mas gojek rela nerobos banjir bawain ...</td>\n",
              "    </tr>\n",
              "    <tr>\n",
              "      <th>27359</th>\n",
              "      <td>1472499149194940420</td>\n",
              "      <td>RT @thekittycoach: Untuk org yg blm mempunyai ...</td>\n",
              "      <td>2021-12-19 09:28:49+00:00</td>\n",
              "      <td>2013-10-05 08:43:50+00:00</td>\n",
              "      <td>Lin다 🌼</td>\n",
              "      <td>@Lndhssan</td>\n",
              "      <td></td>\n",
              "      <td>26948</td>\n",
              "      <td>9</td>\n",
              "      <td>Minggu</td>\n",
              "      <td>org yg blm mempunyai pengalaman banjir  aku sh...</td>\n",
              "    </tr>\n",
              "    <tr>\n",
              "      <th>29859</th>\n",
              "      <td>1472499149194940420</td>\n",
              "      <td>RT @thekittycoach: Untuk org yg blm mempunyai ...</td>\n",
              "      <td>2021-12-19 09:28:49+00:00</td>\n",
              "      <td>2013-10-05 08:43:50+00:00</td>\n",
              "      <td>Lin다 🌼</td>\n",
              "      <td>@Lndhssan</td>\n",
              "      <td></td>\n",
              "      <td>26948</td>\n",
              "      <td>9</td>\n",
              "      <td>Minggu</td>\n",
              "      <td>org yg blm mempunyai pengalaman banjir  aku sh...</td>\n",
              "    </tr>\n",
              "    <tr>\n",
              "      <th>26912</th>\n",
              "      <td>1472499251238236160</td>\n",
              "      <td>RT @thekittycoach: Untuk org yg blm mempunyai ...</td>\n",
              "      <td>2021-12-19 09:29:13+00:00</td>\n",
              "      <td>2019-04-12 01:20:24+00:00</td>\n",
              "      <td>purple quack</td>\n",
              "      <td>@purple_quack</td>\n",
              "      <td></td>\n",
              "      <td>26947</td>\n",
              "      <td>9</td>\n",
              "      <td>Minggu</td>\n",
              "      <td>org yg blm mempunyai pengalaman banjir  aku sh...</td>\n",
              "    </tr>\n",
              "    <tr>\n",
              "      <th>29412</th>\n",
              "      <td>1472499251238236160</td>\n",
              "      <td>RT @thekittycoach: Untuk org yg blm mempunyai ...</td>\n",
              "      <td>2021-12-19 09:29:13+00:00</td>\n",
              "      <td>2019-04-12 01:20:24+00:00</td>\n",
              "      <td>purple quack</td>\n",
              "      <td>@purple_quack</td>\n",
              "      <td></td>\n",
              "      <td>26947</td>\n",
              "      <td>9</td>\n",
              "      <td>Minggu</td>\n",
              "      <td>org yg blm mempunyai pengalaman banjir  aku sh...</td>\n",
              "    </tr>\n",
              "    <tr>\n",
              "      <th>26995</th>\n",
              "      <td>1472499231092928513</td>\n",
              "      <td>RT @thekittycoach: Untuk org yg blm mempunyai ...</td>\n",
              "      <td>2021-12-19 09:29:09+00:00</td>\n",
              "      <td>2016-11-09 12:24:26+00:00</td>\n",
              "      <td>𝔇𝔞𝔩𝔦𝔩𝔞𝔥🖤🇵🇸</td>\n",
              "      <td>@btrsy29</td>\n",
              "      <td>my own world</td>\n",
              "      <td>26947</td>\n",
              "      <td>9</td>\n",
              "      <td>Minggu</td>\n",
              "      <td>org yg blm mempunyai pengalaman banjir  aku sh...</td>\n",
              "    </tr>\n",
              "    <tr>\n",
              "      <th>29495</th>\n",
              "      <td>1472499231092928513</td>\n",
              "      <td>RT @thekittycoach: Untuk org yg blm mempunyai ...</td>\n",
              "      <td>2021-12-19 09:29:09+00:00</td>\n",
              "      <td>2016-11-09 12:24:26+00:00</td>\n",
              "      <td>𝔇𝔞𝔩𝔦𝔩𝔞𝔥🖤🇵🇸</td>\n",
              "      <td>@btrsy29</td>\n",
              "      <td>my own world</td>\n",
              "      <td>26947</td>\n",
              "      <td>9</td>\n",
              "      <td>Minggu</td>\n",
              "      <td>org yg blm mempunyai pengalaman banjir  aku sh...</td>\n",
              "    </tr>\n",
              "    <tr>\n",
              "      <th>29473</th>\n",
              "      <td>1472499236906278912</td>\n",
              "      <td>RT @thekittycoach: Untuk org yg blm mempunyai ...</td>\n",
              "      <td>2021-12-19 09:29:10+00:00</td>\n",
              "      <td>2021-03-26 03:35:56+00:00</td>\n",
              "      <td>el</td>\n",
              "      <td>@minhyngjv</td>\n",
              "      <td>(+60)  she/her</td>\n",
              "      <td>26947</td>\n",
              "      <td>9</td>\n",
              "      <td>Minggu</td>\n",
              "      <td>org yg blm mempunyai pengalaman banjir  aku sh...</td>\n",
              "    </tr>\n",
              "    <tr>\n",
              "      <th>26973</th>\n",
              "      <td>1472499236906278912</td>\n",
              "      <td>RT @thekittycoach: Untuk org yg blm mempunyai ...</td>\n",
              "      <td>2021-12-19 09:29:10+00:00</td>\n",
              "      <td>2021-03-26 03:35:56+00:00</td>\n",
              "      <td>el</td>\n",
              "      <td>@minhyngjv</td>\n",
              "      <td>(+60)  she/her</td>\n",
              "      <td>26947</td>\n",
              "      <td>9</td>\n",
              "      <td>Minggu</td>\n",
              "      <td>org yg blm mempunyai pengalaman banjir  aku sh...</td>\n",
              "    </tr>\n",
              "    <tr>\n",
              "      <th>29153</th>\n",
              "      <td>1472499320133861379</td>\n",
              "      <td>RT @thekittycoach: Untuk org yg blm mempunyai ...</td>\n",
              "      <td>2021-12-19 09:29:30+00:00</td>\n",
              "      <td>2021-09-01 01:50:44+00:00</td>\n",
              "      <td>wednesday (taylor's version)</td>\n",
              "      <td>@wednesdaybehave</td>\n",
              "      <td></td>\n",
              "      <td>26945</td>\n",
              "      <td>9</td>\n",
              "      <td>Minggu</td>\n",
              "      <td>org yg blm mempunyai pengalaman banjir  aku sh...</td>\n",
              "    </tr>\n",
              "    <tr>\n",
              "      <th>26653</th>\n",
              "      <td>1472499320133861379</td>\n",
              "      <td>RT @thekittycoach: Untuk org yg blm mempunyai ...</td>\n",
              "      <td>2021-12-19 09:29:30+00:00</td>\n",
              "      <td>2021-09-01 01:50:44+00:00</td>\n",
              "      <td>wednesday (taylor's version)</td>\n",
              "      <td>@wednesdaybehave</td>\n",
              "      <td></td>\n",
              "      <td>26945</td>\n",
              "      <td>9</td>\n",
              "      <td>Minggu</td>\n",
              "      <td>org yg blm mempunyai pengalaman banjir  aku sh...</td>\n",
              "    </tr>\n",
              "    <tr>\n",
              "      <th>29101</th>\n",
              "      <td>1472499330938392576</td>\n",
              "      <td>RT @thekittycoach: Untuk org yg blm mempunyai ...</td>\n",
              "      <td>2021-12-19 09:29:32+00:00</td>\n",
              "      <td>2013-12-06 12:36:47+00:00</td>\n",
              "      <td>leeya hassan</td>\n",
              "      <td>@LeeyaHassan</td>\n",
              "      <td></td>\n",
              "      <td>26945</td>\n",
              "      <td>9</td>\n",
              "      <td>Minggu</td>\n",
              "      <td>org yg blm mempunyai pengalaman banjir  aku sh...</td>\n",
              "    </tr>\n",
              "    <tr>\n",
              "      <th>26601</th>\n",
              "      <td>1472499330938392576</td>\n",
              "      <td>RT @thekittycoach: Untuk org yg blm mempunyai ...</td>\n",
              "      <td>2021-12-19 09:29:32+00:00</td>\n",
              "      <td>2013-12-06 12:36:47+00:00</td>\n",
              "      <td>leeya hassan</td>\n",
              "      <td>@LeeyaHassan</td>\n",
              "      <td></td>\n",
              "      <td>26945</td>\n",
              "      <td>9</td>\n",
              "      <td>Minggu</td>\n",
              "      <td>org yg blm mempunyai pengalaman banjir  aku sh...</td>\n",
              "    </tr>\n",
              "    <tr>\n",
              "      <th>29031</th>\n",
              "      <td>1472499349502390272</td>\n",
              "      <td>RT @thekittycoach: Untuk org yg blm mempunyai ...</td>\n",
              "      <td>2021-12-19 09:29:37+00:00</td>\n",
              "      <td>2019-03-03 03:54:24+00:00</td>\n",
              "      <td>á</td>\n",
              "      <td>@noratherah</td>\n",
              "      <td>hogwarts</td>\n",
              "      <td>26944</td>\n",
              "      <td>9</td>\n",
              "      <td>Minggu</td>\n",
              "      <td>org yg blm mempunyai pengalaman banjir  aku sh...</td>\n",
              "    </tr>\n",
              "    <tr>\n",
              "      <th>26531</th>\n",
              "      <td>1472499349502390272</td>\n",
              "      <td>RT @thekittycoach: Untuk org yg blm mempunyai ...</td>\n",
              "      <td>2021-12-19 09:29:37+00:00</td>\n",
              "      <td>2019-03-03 03:54:24+00:00</td>\n",
              "      <td>á</td>\n",
              "      <td>@noratherah</td>\n",
              "      <td>hogwarts</td>\n",
              "      <td>26944</td>\n",
              "      <td>9</td>\n",
              "      <td>Minggu</td>\n",
              "      <td>org yg blm mempunyai pengalaman banjir  aku sh...</td>\n",
              "    </tr>\n",
              "    <tr>\n",
              "      <th>25923</th>\n",
              "      <td>1472499494314856450</td>\n",
              "      <td>RT @thekittycoach: Untuk org yg blm mempunyai ...</td>\n",
              "      <td>2021-12-19 09:30:11+00:00</td>\n",
              "      <td>2020-03-19 02:35:37+00:00</td>\n",
              "      <td>carrot</td>\n",
              "      <td>@fxhyunjie</td>\n",
              "      <td></td>\n",
              "      <td>26942</td>\n",
              "      <td>9</td>\n",
              "      <td>Minggu</td>\n",
              "      <td>org yg blm mempunyai pengalaman banjir  aku sh...</td>\n",
              "    </tr>\n",
              "    <tr>\n",
              "      <th>28423</th>\n",
              "      <td>1472499494314856450</td>\n",
              "      <td>RT @thekittycoach: Untuk org yg blm mempunyai ...</td>\n",
              "      <td>2021-12-19 09:30:11+00:00</td>\n",
              "      <td>2020-03-19 02:35:37+00:00</td>\n",
              "      <td>carrot</td>\n",
              "      <td>@fxhyunjie</td>\n",
              "      <td></td>\n",
              "      <td>26942</td>\n",
              "      <td>9</td>\n",
              "      <td>Minggu</td>\n",
              "      <td>org yg blm mempunyai pengalaman banjir  aku sh...</td>\n",
              "    </tr>\n",
              "    <tr>\n",
              "      <th>25703</th>\n",
              "      <td>1472499549251903489</td>\n",
              "      <td>RT @thekittycoach: Untuk org yg blm mempunyai ...</td>\n",
              "      <td>2021-12-19 09:30:24+00:00</td>\n",
              "      <td>2021-03-22 03:44:50+00:00</td>\n",
              "      <td>𝔞𝔯𝔦𝔰𝔰𝔞</td>\n",
              "      <td>@aaarisSaaa_</td>\n",
              "      <td>Malaysia</td>\n",
              "      <td>26940</td>\n",
              "      <td>9</td>\n",
              "      <td>Minggu</td>\n",
              "      <td>org yg blm mempunyai pengalaman banjir  aku sh...</td>\n",
              "    </tr>\n",
              "    <tr>\n",
              "      <th>28203</th>\n",
              "      <td>1472499549251903489</td>\n",
              "      <td>RT @thekittycoach: Untuk org yg blm mempunyai ...</td>\n",
              "      <td>2021-12-19 09:30:24+00:00</td>\n",
              "      <td>2021-03-22 03:44:50+00:00</td>\n",
              "      <td>𝔞𝔯𝔦𝔰𝔰𝔞</td>\n",
              "      <td>@aaarisSaaa_</td>\n",
              "      <td>Malaysia</td>\n",
              "      <td>26940</td>\n",
              "      <td>9</td>\n",
              "      <td>Minggu</td>\n",
              "      <td>org yg blm mempunyai pengalaman banjir  aku sh...</td>\n",
              "    </tr>\n",
              "    <tr>\n",
              "      <th>28092</th>\n",
              "      <td>1472499577869664258</td>\n",
              "      <td>RT @thekittycoach: Untuk org yg blm mempunyai ...</td>\n",
              "      <td>2021-12-19 09:30:31+00:00</td>\n",
              "      <td>2013-03-09 17:55:51+00:00</td>\n",
              "      <td>FJ. 🇲🇾🇲🇾🇲🇾🇲🇾🇲🇾🇲🇾🇲🇾</td>\n",
              "      <td>@avrakadabra_</td>\n",
              "      <td></td>\n",
              "      <td>26938</td>\n",
              "      <td>9</td>\n",
              "      <td>Minggu</td>\n",
              "      <td>org yg blm mempunyai pengalaman banjir  aku sh...</td>\n",
              "    </tr>\n",
              "  </tbody>\n",
              "</table>\n",
              "</div>\n",
              "      <button class=\"colab-df-convert\" onclick=\"convertToInteractive('df-eef15954-5e88-4b7f-a75a-208425ea7c45')\"\n",
              "              title=\"Convert this dataframe to an interactive table.\"\n",
              "              style=\"display:none;\">\n",
              "        \n",
              "  <svg xmlns=\"http://www.w3.org/2000/svg\" height=\"24px\"viewBox=\"0 0 24 24\"\n",
              "       width=\"24px\">\n",
              "    <path d=\"M0 0h24v24H0V0z\" fill=\"none\"/>\n",
              "    <path d=\"M18.56 5.44l.94 2.06.94-2.06 2.06-.94-2.06-.94-.94-2.06-.94 2.06-2.06.94zm-11 1L8.5 8.5l.94-2.06 2.06-.94-2.06-.94L8.5 2.5l-.94 2.06-2.06.94zm10 10l.94 2.06.94-2.06 2.06-.94-2.06-.94-.94-2.06-.94 2.06-2.06.94z\"/><path d=\"M17.41 7.96l-1.37-1.37c-.4-.4-.92-.59-1.43-.59-.52 0-1.04.2-1.43.59L10.3 9.45l-7.72 7.72c-.78.78-.78 2.05 0 2.83L4 21.41c.39.39.9.59 1.41.59.51 0 1.02-.2 1.41-.59l7.78-7.78 2.81-2.81c.8-.78.8-2.07 0-2.86zM5.41 20L4 18.59l7.72-7.72 1.47 1.35L5.41 20z\"/>\n",
              "  </svg>\n",
              "      </button>\n",
              "      \n",
              "  <style>\n",
              "    .colab-df-container {\n",
              "      display:flex;\n",
              "      flex-wrap:wrap;\n",
              "      gap: 12px;\n",
              "    }\n",
              "\n",
              "    .colab-df-convert {\n",
              "      background-color: #E8F0FE;\n",
              "      border: none;\n",
              "      border-radius: 50%;\n",
              "      cursor: pointer;\n",
              "      display: none;\n",
              "      fill: #1967D2;\n",
              "      height: 32px;\n",
              "      padding: 0 0 0 0;\n",
              "      width: 32px;\n",
              "    }\n",
              "\n",
              "    .colab-df-convert:hover {\n",
              "      background-color: #E2EBFA;\n",
              "      box-shadow: 0px 1px 2px rgba(60, 64, 67, 0.3), 0px 1px 3px 1px rgba(60, 64, 67, 0.15);\n",
              "      fill: #174EA6;\n",
              "    }\n",
              "\n",
              "    [theme=dark] .colab-df-convert {\n",
              "      background-color: #3B4455;\n",
              "      fill: #D2E3FC;\n",
              "    }\n",
              "\n",
              "    [theme=dark] .colab-df-convert:hover {\n",
              "      background-color: #434B5C;\n",
              "      box-shadow: 0px 1px 3px 1px rgba(0, 0, 0, 0.15);\n",
              "      filter: drop-shadow(0px 1px 2px rgba(0, 0, 0, 0.3));\n",
              "      fill: #FFFFFF;\n",
              "    }\n",
              "  </style>\n",
              "\n",
              "      <script>\n",
              "        const buttonEl =\n",
              "          document.querySelector('#df-eef15954-5e88-4b7f-a75a-208425ea7c45 button.colab-df-convert');\n",
              "        buttonEl.style.display =\n",
              "          google.colab.kernel.accessAllowed ? 'block' : 'none';\n",
              "\n",
              "        async function convertToInteractive(key) {\n",
              "          const element = document.querySelector('#df-eef15954-5e88-4b7f-a75a-208425ea7c45');\n",
              "          const dataTable =\n",
              "            await google.colab.kernel.invokeFunction('convertToInteractive',\n",
              "                                                     [key], {});\n",
              "          if (!dataTable) return;\n",
              "\n",
              "          const docLinkHtml = 'Like what you see? Visit the ' +\n",
              "            '<a target=\"_blank\" href=https://colab.research.google.com/notebooks/data_table.ipynb>data table notebook</a>'\n",
              "            + ' to learn more about interactive tables.';\n",
              "          element.innerHTML = '';\n",
              "          dataTable['output_type'] = 'display_data';\n",
              "          await google.colab.output.renderOutput(dataTable, element);\n",
              "          const docLink = document.createElement('div');\n",
              "          docLink.innerHTML = docLinkHtml;\n",
              "          element.appendChild(docLink);\n",
              "        }\n",
              "      </script>\n",
              "    </div>\n",
              "  </div>\n",
              "  "
            ],
            "text/plain": [
              "                        id  ...                                        tweet_clean\n",
              "85     1471494197052010503  ...  hari ada mas gojek rela nerobos banjir bawain ...\n",
              "27359  1472499149194940420  ...  org yg blm mempunyai pengalaman banjir  aku sh...\n",
              "29859  1472499149194940420  ...  org yg blm mempunyai pengalaman banjir  aku sh...\n",
              "26912  1472499251238236160  ...  org yg blm mempunyai pengalaman banjir  aku sh...\n",
              "29412  1472499251238236160  ...  org yg blm mempunyai pengalaman banjir  aku sh...\n",
              "26995  1472499231092928513  ...  org yg blm mempunyai pengalaman banjir  aku sh...\n",
              "29495  1472499231092928513  ...  org yg blm mempunyai pengalaman banjir  aku sh...\n",
              "29473  1472499236906278912  ...  org yg blm mempunyai pengalaman banjir  aku sh...\n",
              "26973  1472499236906278912  ...  org yg blm mempunyai pengalaman banjir  aku sh...\n",
              "29153  1472499320133861379  ...  org yg blm mempunyai pengalaman banjir  aku sh...\n",
              "26653  1472499320133861379  ...  org yg blm mempunyai pengalaman banjir  aku sh...\n",
              "29101  1472499330938392576  ...  org yg blm mempunyai pengalaman banjir  aku sh...\n",
              "26601  1472499330938392576  ...  org yg blm mempunyai pengalaman banjir  aku sh...\n",
              "29031  1472499349502390272  ...  org yg blm mempunyai pengalaman banjir  aku sh...\n",
              "26531  1472499349502390272  ...  org yg blm mempunyai pengalaman banjir  aku sh...\n",
              "25923  1472499494314856450  ...  org yg blm mempunyai pengalaman banjir  aku sh...\n",
              "28423  1472499494314856450  ...  org yg blm mempunyai pengalaman banjir  aku sh...\n",
              "25703  1472499549251903489  ...  org yg blm mempunyai pengalaman banjir  aku sh...\n",
              "28203  1472499549251903489  ...  org yg blm mempunyai pengalaman banjir  aku sh...\n",
              "28092  1472499577869664258  ...  org yg blm mempunyai pengalaman banjir  aku sh...\n",
              "\n",
              "[20 rows x 11 columns]"
            ]
          },
          "execution_count": 24,
          "metadata": {},
          "output_type": "execute_result"
        }
      ],
      "source": [
        "# Most retweeted\n",
        "df.sort_values(by = 'retweet_count', ascending = False)[:20]\n",
        "# df.loc[df['id'] == 1471494197052010503]['tweet']"
      ]
    },
    {
      "cell_type": "code",
      "execution_count": 20,
      "metadata": {
        "colab": {
          "base_uri": "https://localhost:8080/",
          "height": 423
        },
        "id": "AfpeAXcTS9jW",
        "outputId": "10c64245-b861-4cbd-d443-dad522251aac"
      },
      "outputs": [
        {
          "output_type": "execute_result",
          "data": {
            "text/html": [
              "\n",
              "  <div id=\"df-1ebdd732-064d-4b56-ad19-a1229a44ab8c\">\n",
              "    <div class=\"colab-df-container\">\n",
              "      <div>\n",
              "<style scoped>\n",
              "    .dataframe tbody tr th:only-of-type {\n",
              "        vertical-align: middle;\n",
              "    }\n",
              "\n",
              "    .dataframe tbody tr th {\n",
              "        vertical-align: top;\n",
              "    }\n",
              "\n",
              "    .dataframe thead th {\n",
              "        text-align: right;\n",
              "    }\n",
              "</style>\n",
              "<table border=\"1\" class=\"dataframe\">\n",
              "  <thead>\n",
              "    <tr style=\"text-align: right;\">\n",
              "      <th></th>\n",
              "      <th>tweet</th>\n",
              "      <th>id</th>\n",
              "    </tr>\n",
              "  </thead>\n",
              "  <tbody>\n",
              "    <tr>\n",
              "      <th>4909</th>\n",
              "      <td>RT @addien90s: Doa bila hujan terlalu lebat, l...</td>\n",
              "      <td>2589</td>\n",
              "    </tr>\n",
              "    <tr>\n",
              "      <th>6062</th>\n",
              "      <td>RT @treasuremenfess: teume! scene ini bikin ba...</td>\n",
              "      <td>845</td>\n",
              "    </tr>\n",
              "    <tr>\n",
              "      <th>5060</th>\n",
              "      <td>RT @aulianzl_: Banjir bgt liat ig story awkari...</td>\n",
              "      <td>764</td>\n",
              "    </tr>\n",
              "    <tr>\n",
              "      <th>5288</th>\n",
              "      <td>RT @f4izalhassan: Tidak sangka Sabtu tiba deng...</td>\n",
              "      <td>365</td>\n",
              "    </tr>\n",
              "    <tr>\n",
              "      <th>5615</th>\n",
              "      <td>RT @maliqueredzuan: Jalan dari KLIA menghala P...</td>\n",
              "      <td>228</td>\n",
              "    </tr>\n",
              "    <tr>\n",
              "      <th>...</th>\n",
              "      <td>...</td>\n",
              "      <td>...</td>\n",
              "    </tr>\n",
              "    <tr>\n",
              "      <th>2746</th>\n",
              "      <td>Cuma mampu doa banjir cepat surut 😭 walaupun r...</td>\n",
              "      <td>1</td>\n",
              "    </tr>\n",
              "    <tr>\n",
              "      <th>2745</th>\n",
              "      <td>Cuma 17 menit tp bikin banjir ga sii</td>\n",
              "      <td>1</td>\n",
              "    </tr>\n",
              "    <tr>\n",
              "      <th>2743</th>\n",
              "      <td>Cuaca Ekstrem Akhir tahun Begitu banyak musiba...</td>\n",
              "      <td>1</td>\n",
              "    </tr>\n",
              "    <tr>\n",
              "      <th>2742</th>\n",
              "      <td>Cuaca Cerah, Camat Manggala Instruksikan Lurah...</td>\n",
              "      <td>1</td>\n",
              "    </tr>\n",
              "    <tr>\n",
              "      <th>7784</th>\n",
              "      <td>😭😭😭😭😭😭😭😭😭😭😭😭😭😭😭 teringat dlu masa banjir d kg....</td>\n",
              "      <td>1</td>\n",
              "    </tr>\n",
              "  </tbody>\n",
              "</table>\n",
              "<p>7785 rows × 2 columns</p>\n",
              "</div>\n",
              "      <button class=\"colab-df-convert\" onclick=\"convertToInteractive('df-1ebdd732-064d-4b56-ad19-a1229a44ab8c')\"\n",
              "              title=\"Convert this dataframe to an interactive table.\"\n",
              "              style=\"display:none;\">\n",
              "        \n",
              "  <svg xmlns=\"http://www.w3.org/2000/svg\" height=\"24px\"viewBox=\"0 0 24 24\"\n",
              "       width=\"24px\">\n",
              "    <path d=\"M0 0h24v24H0V0z\" fill=\"none\"/>\n",
              "    <path d=\"M18.56 5.44l.94 2.06.94-2.06 2.06-.94-2.06-.94-.94-2.06-.94 2.06-2.06.94zm-11 1L8.5 8.5l.94-2.06 2.06-.94-2.06-.94L8.5 2.5l-.94 2.06-2.06.94zm10 10l.94 2.06.94-2.06 2.06-.94-2.06-.94-.94-2.06-.94 2.06-2.06.94z\"/><path d=\"M17.41 7.96l-1.37-1.37c-.4-.4-.92-.59-1.43-.59-.52 0-1.04.2-1.43.59L10.3 9.45l-7.72 7.72c-.78.78-.78 2.05 0 2.83L4 21.41c.39.39.9.59 1.41.59.51 0 1.02-.2 1.41-.59l7.78-7.78 2.81-2.81c.8-.78.8-2.07 0-2.86zM5.41 20L4 18.59l7.72-7.72 1.47 1.35L5.41 20z\"/>\n",
              "  </svg>\n",
              "      </button>\n",
              "      \n",
              "  <style>\n",
              "    .colab-df-container {\n",
              "      display:flex;\n",
              "      flex-wrap:wrap;\n",
              "      gap: 12px;\n",
              "    }\n",
              "\n",
              "    .colab-df-convert {\n",
              "      background-color: #E8F0FE;\n",
              "      border: none;\n",
              "      border-radius: 50%;\n",
              "      cursor: pointer;\n",
              "      display: none;\n",
              "      fill: #1967D2;\n",
              "      height: 32px;\n",
              "      padding: 0 0 0 0;\n",
              "      width: 32px;\n",
              "    }\n",
              "\n",
              "    .colab-df-convert:hover {\n",
              "      background-color: #E2EBFA;\n",
              "      box-shadow: 0px 1px 2px rgba(60, 64, 67, 0.3), 0px 1px 3px 1px rgba(60, 64, 67, 0.15);\n",
              "      fill: #174EA6;\n",
              "    }\n",
              "\n",
              "    [theme=dark] .colab-df-convert {\n",
              "      background-color: #3B4455;\n",
              "      fill: #D2E3FC;\n",
              "    }\n",
              "\n",
              "    [theme=dark] .colab-df-convert:hover {\n",
              "      background-color: #434B5C;\n",
              "      box-shadow: 0px 1px 3px 1px rgba(0, 0, 0, 0.15);\n",
              "      filter: drop-shadow(0px 1px 2px rgba(0, 0, 0, 0.3));\n",
              "      fill: #FFFFFF;\n",
              "    }\n",
              "  </style>\n",
              "\n",
              "      <script>\n",
              "        const buttonEl =\n",
              "          document.querySelector('#df-1ebdd732-064d-4b56-ad19-a1229a44ab8c button.colab-df-convert');\n",
              "        buttonEl.style.display =\n",
              "          google.colab.kernel.accessAllowed ? 'block' : 'none';\n",
              "\n",
              "        async function convertToInteractive(key) {\n",
              "          const element = document.querySelector('#df-1ebdd732-064d-4b56-ad19-a1229a44ab8c');\n",
              "          const dataTable =\n",
              "            await google.colab.kernel.invokeFunction('convertToInteractive',\n",
              "                                                     [key], {});\n",
              "          if (!dataTable) return;\n",
              "\n",
              "          const docLinkHtml = 'Like what you see? Visit the ' +\n",
              "            '<a target=\"_blank\" href=https://colab.research.google.com/notebooks/data_table.ipynb>data table notebook</a>'\n",
              "            + ' to learn more about interactive tables.';\n",
              "          element.innerHTML = '';\n",
              "          dataTable['output_type'] = 'display_data';\n",
              "          await google.colab.output.renderOutput(dataTable, element);\n",
              "          const docLink = document.createElement('div');\n",
              "          docLink.innerHTML = docLinkHtml;\n",
              "          element.appendChild(docLink);\n",
              "        }\n",
              "      </script>\n",
              "    </div>\n",
              "  </div>\n",
              "  "
            ],
            "text/plain": [
              "                                                  tweet    id\n",
              "4909  RT @addien90s: Doa bila hujan terlalu lebat, l...  2589\n",
              "6062  RT @treasuremenfess: teume! scene ini bikin ba...   845\n",
              "5060  RT @aulianzl_: Banjir bgt liat ig story awkari...   764\n",
              "5288  RT @f4izalhassan: Tidak sangka Sabtu tiba deng...   365\n",
              "5615  RT @maliqueredzuan: Jalan dari KLIA menghala P...   228\n",
              "...                                                 ...   ...\n",
              "2746  Cuma mampu doa banjir cepat surut 😭 walaupun r...     1\n",
              "2745               Cuma 17 menit tp bikin banjir ga sii     1\n",
              "2743  Cuaca Ekstrem Akhir tahun Begitu banyak musiba...     1\n",
              "2742  Cuaca Cerah, Camat Manggala Instruksikan Lurah...     1\n",
              "7784  😭😭😭😭😭😭😭😭😭😭😭😭😭😭😭 teringat dlu masa banjir d kg....     1\n",
              "\n",
              "[7785 rows x 2 columns]"
            ]
          },
          "metadata": {},
          "execution_count": 20
        }
      ],
      "source": [
        "dfg = df[['tweet','id']]\n",
        "dfg.groupby(['tweet']).agg(len).reset_index().sort_values(by = 'id',ascending = False)"
      ]
    },
    {
      "cell_type": "markdown",
      "metadata": {
        "id": "mQpB2qwwvAmT"
      },
      "source": [
        "***Export txt untuk voyant tools***"
      ]
    },
    {
      "cell_type": "code",
      "execution_count": null,
      "metadata": {
        "id": "QUy8IvIZvOQA"
      },
      "outputs": [],
      "source": [
        "# Saving to txt\n",
        "textfile = open(\"tweet_text.txt\", \"w\")\n",
        "for element in list(set(df['tweet_clean'].tolist())):\n",
        "    textfile.write(element + \"\\n\")\n",
        "textfile.close()"
      ]
    },
    {
      "cell_type": "markdown",
      "metadata": {
        "id": "bR2Dk88ZCzHy"
      },
      "source": [
        "# Curah Hujan"
      ]
    },
    {
      "cell_type": "code",
      "execution_count": 21,
      "metadata": {
        "colab": {
          "base_uri": "https://localhost:8080/",
          "height": 295
        },
        "id": "MRyB_jviWNZk",
        "outputId": "f1a81314-e218-4dcb-9b6c-16f96262b757"
      },
      "outputs": [
        {
          "output_type": "display_data",
          "data": {
            "image/png": "[encoded data removed]",
            "text/plain": [
              "<Figure size 432x288 with 1 Axes>"
            ]
          },
          "metadata": {
            "needs_background": "light"
          }
        }
      ],
      "source": [
        "df1 =  df.groupby(['jam']).agg(len).reset_index()\n",
        "\n",
        "p = sns.barplot(\n",
        "    x = df1['jam'],\n",
        "    y = df1['id']\n",
        ")\n",
        "plt.ylabel('Jumlah Tweet')\n",
        "plt.title('Perbandingan Jumlah Tweet Setiap Jamnya')\n",
        "plt.show()"
      ]
    },
    {
      "cell_type": "markdown",
      "metadata": {
        "id": "aWedwKsSYU4z"
      },
      "source": [
        "paling sering ngetweet jam 5 pagi, sama 1 - 3 siang"
      ]
    },
    {
      "cell_type": "code",
      "execution_count": 22,
      "metadata": {
        "colab": {
          "base_uri": "https://localhost:8080/",
          "height": 295
        },
        "id": "597HDoAy7Ig7",
        "outputId": "c03ba94d-3f7b-4df3-9848-1746331bd73f"
      },
      "outputs": [
        {
          "output_type": "display_data",
          "data": {
            "image/png": "[encoded data removed]",
            "text/plain": [
              "<Figure size 432x288 with 1 Axes>"
            ]
          },
          "metadata": {
            "needs_background": "light"
          }
        }
      ],
      "source": [
        "df1 =  df.groupby(['hari']).agg(len).reset_index()\n",
        "\n",
        "p = sns.barplot(\n",
        "    x = df1['hari'],\n",
        "    y = df1['id']\n",
        ")\n",
        "plt.ylabel('Jumlah Tweet')\n",
        "plt.title('Perbandingan Jumlah Tweet Setiap Harinya')\n",
        "plt.show()"
      ]
    },
    {
      "cell_type": "code",
      "execution_count": 23,
      "metadata": {
        "colab": {
          "base_uri": "https://localhost:8080/",
          "height": 388
        },
        "id": "aBMQIKE38VSG",
        "outputId": "0a0d1b1a-1b37-4012-b59f-ba42dd2440dc"
      },
      "outputs": [
        {
          "output_type": "display_data",
          "data": {
            "image/png": "[encoded data removed]",
            "text/plain": [
              "<Figure size 864x432 with 1 Axes>"
            ]
          },
          "metadata": {
            "needs_background": "light"
          }
        }
      ],
      "source": [
        "plt.figure(figsize = (12,6))\n",
        "p = sns.histplot(\n",
        "    x = df['created_at']\n",
        ")"
      ]
    },
    {
      "cell_type": "markdown",
      "metadata": {
        "id": "lFUxCm4Nxi5u"
      },
      "source": [
        "# Most Mentioned People"
      ]
    },
    {
      "cell_type": "code",
      "execution_count": 24,
      "metadata": {
        "id": "YxpOjuy8xmXn"
      },
      "outputs": [],
      "source": [
        "#Finding the @username\n",
        "df['mentioned'] = [re.findall(r'(^|[^@\\w])@(\\w{1,15})\\b',t) for t in df['tweet']]\n",
        "mentionedlist = [re.findall(r'(^|[^@\\w])@(\\w{1,15})\\b',t) for t in df['tweet']]\n",
        "mentionedlist = [m for m in mentionedlist if len(m)!=0]"
      ]
    },
    {
      "cell_type": "code",
      "execution_count": 25,
      "metadata": {
        "id": "mZoEvS350efX"
      },
      "outputs": [],
      "source": [
        "all_mentioned = []\n",
        "for m in mentionedlist:\n",
        "  for i in range(len(m)):\n",
        "    all_mentioned.append(m[i][1])"
      ]
    },
    {
      "cell_type": "code",
      "execution_count": 26,
      "metadata": {
        "colab": {
          "base_uri": "https://localhost:8080/"
        },
        "id": "jVVLH3D21ihK",
        "outputId": "27402ee3-5d9c-4e89-cd3d-bb6fb661935f"
      },
      "outputs": [
        {
          "output_type": "execute_result",
          "data": {
            "text/plain": [
              "29052"
            ]
          },
          "metadata": {},
          "execution_count": 26
        }
      ],
      "source": [
        "len(all_mentioned)"
      ]
    },
    {
      "cell_type": "code",
      "execution_count": 27,
      "metadata": {
        "colab": {
          "base_uri": "https://localhost:8080/",
          "height": 676
        },
        "id": "LiZOiUZc1kqd",
        "outputId": "169bf23f-7409-4ddd-bbfa-85b1da9eb5ec"
      },
      "outputs": [
        {
          "output_type": "execute_result",
          "data": {
            "text/html": [
              "\n",
              "  <div id=\"df-6613e9f1-11c1-4731-87de-59b7cfbc47ac\">\n",
              "    <div class=\"colab-df-container\">\n",
              "      <div>\n",
              "<style scoped>\n",
              "    .dataframe tbody tr th:only-of-type {\n",
              "        vertical-align: middle;\n",
              "    }\n",
              "\n",
              "    .dataframe tbody tr th {\n",
              "        vertical-align: top;\n",
              "    }\n",
              "\n",
              "    .dataframe thead th {\n",
              "        text-align: right;\n",
              "    }\n",
              "</style>\n",
              "<table border=\"1\" class=\"dataframe\">\n",
              "  <thead>\n",
              "    <tr style=\"text-align: right;\">\n",
              "      <th></th>\n",
              "      <th>User</th>\n",
              "      <th>Times Mentioned</th>\n",
              "    </tr>\n",
              "  </thead>\n",
              "  <tbody>\n",
              "    <tr>\n",
              "      <th>0</th>\n",
              "      <td>addien90s</td>\n",
              "      <td>3170</td>\n",
              "    </tr>\n",
              "    <tr>\n",
              "      <th>1</th>\n",
              "      <td>treasuremenfess</td>\n",
              "      <td>1021</td>\n",
              "    </tr>\n",
              "    <tr>\n",
              "      <th>2</th>\n",
              "      <td>aulianzl_</td>\n",
              "      <td>765</td>\n",
              "    </tr>\n",
              "    <tr>\n",
              "      <th>3</th>\n",
              "      <td>brgsjks</td>\n",
              "      <td>611</td>\n",
              "    </tr>\n",
              "    <tr>\n",
              "      <th>4</th>\n",
              "      <td>Marchfoward</td>\n",
              "      <td>397</td>\n",
              "    </tr>\n",
              "    <tr>\n",
              "      <th>5</th>\n",
              "      <td>f4izalhassan</td>\n",
              "      <td>392</td>\n",
              "    </tr>\n",
              "    <tr>\n",
              "      <th>6</th>\n",
              "      <td>tempodotco</td>\n",
              "      <td>368</td>\n",
              "    </tr>\n",
              "    <tr>\n",
              "      <th>7</th>\n",
              "      <td>AmirudinShari</td>\n",
              "      <td>360</td>\n",
              "    </tr>\n",
              "    <tr>\n",
              "      <th>8</th>\n",
              "      <td>redzuanNewsMPB</td>\n",
              "      <td>296</td>\n",
              "    </tr>\n",
              "    <tr>\n",
              "      <th>9</th>\n",
              "      <td>HermyRahim</td>\n",
              "      <td>280</td>\n",
              "    </tr>\n",
              "    <tr>\n",
              "      <th>10</th>\n",
              "      <td>syzwxyz</td>\n",
              "      <td>234</td>\n",
              "    </tr>\n",
              "    <tr>\n",
              "      <th>11</th>\n",
              "      <td>maliqueredzuan</td>\n",
              "      <td>228</td>\n",
              "    </tr>\n",
              "    <tr>\n",
              "      <th>12</th>\n",
              "      <td>jllmisai</td>\n",
              "      <td>227</td>\n",
              "    </tr>\n",
              "    <tr>\n",
              "      <th>13</th>\n",
              "      <td>SyedSaddiq</td>\n",
              "      <td>220</td>\n",
              "    </tr>\n",
              "    <tr>\n",
              "      <th>14</th>\n",
              "      <td>marlina_idha</td>\n",
              "      <td>209</td>\n",
              "    </tr>\n",
              "    <tr>\n",
              "      <th>15</th>\n",
              "      <td>abieabidah</td>\n",
              "      <td>202</td>\n",
              "    </tr>\n",
              "    <tr>\n",
              "      <th>16</th>\n",
              "      <td>UstazSofee</td>\n",
              "      <td>197</td>\n",
              "    </tr>\n",
              "    <tr>\n",
              "      <th>17</th>\n",
              "      <td>Media_Selangor</td>\n",
              "      <td>196</td>\n",
              "    </tr>\n",
              "    <tr>\n",
              "      <th>18</th>\n",
              "      <td>nona_cempaka</td>\n",
              "      <td>194</td>\n",
              "    </tr>\n",
              "    <tr>\n",
              "      <th>19</th>\n",
              "      <td>mkini_bm</td>\n",
              "      <td>192</td>\n",
              "    </tr>\n",
              "  </tbody>\n",
              "</table>\n",
              "</div>\n",
              "      <button class=\"colab-df-convert\" onclick=\"convertToInteractive('df-6613e9f1-11c1-4731-87de-59b7cfbc47ac')\"\n",
              "              title=\"Convert this dataframe to an interactive table.\"\n",
              "              style=\"display:none;\">\n",
              "        \n",
              "  <svg xmlns=\"http://www.w3.org/2000/svg\" height=\"24px\"viewBox=\"0 0 24 24\"\n",
              "       width=\"24px\">\n",
              "    <path d=\"M0 0h24v24H0V0z\" fill=\"none\"/>\n",
              "    <path d=\"M18.56 5.44l.94 2.06.94-2.06 2.06-.94-2.06-.94-.94-2.06-.94 2.06-2.06.94zm-11 1L8.5 8.5l.94-2.06 2.06-.94-2.06-.94L8.5 2.5l-.94 2.06-2.06.94zm10 10l.94 2.06.94-2.06 2.06-.94-2.06-.94-.94-2.06-.94 2.06-2.06.94z\"/><path d=\"M17.41 7.96l-1.37-1.37c-.4-.4-.92-.59-1.43-.59-.52 0-1.04.2-1.43.59L10.3 9.45l-7.72 7.72c-.78.78-.78 2.05 0 2.83L4 21.41c.39.39.9.59 1.41.59.51 0 1.02-.2 1.41-.59l7.78-7.78 2.81-2.81c.8-.78.8-2.07 0-2.86zM5.41 20L4 18.59l7.72-7.72 1.47 1.35L5.41 20z\"/>\n",
              "  </svg>\n",
              "      </button>\n",
              "      \n",
              "  <style>\n",
              "    .colab-df-container {\n",
              "      display:flex;\n",
              "      flex-wrap:wrap;\n",
              "      gap: 12px;\n",
              "    }\n",
              "\n",
              "    .colab-df-convert {\n",
              "      background-color: #E8F0FE;\n",
              "      border: none;\n",
              "      border-radius: 50%;\n",
              "      cursor: pointer;\n",
              "      display: none;\n",
              "      fill: #1967D2;\n",
              "      height: 32px;\n",
              "      padding: 0 0 0 0;\n",
              "      width: 32px;\n",
              "    }\n",
              "\n",
              "    .colab-df-convert:hover {\n",
              "      background-color: #E2EBFA;\n",
              "      box-shadow: 0px 1px 2px rgba(60, 64, 67, 0.3), 0px 1px 3px 1px rgba(60, 64, 67, 0.15);\n",
              "      fill: #174EA6;\n",
              "    }\n",
              "\n",
              "    [theme=dark] .colab-df-convert {\n",
              "      background-color: #3B4455;\n",
              "      fill: #D2E3FC;\n",
              "    }\n",
              "\n",
              "    [theme=dark] .colab-df-convert:hover {\n",
              "      background-color: #434B5C;\n",
              "      box-shadow: 0px 1px 3px 1px rgba(0, 0, 0, 0.15);\n",
              "      filter: drop-shadow(0px 1px 2px rgba(0, 0, 0, 0.3));\n",
              "      fill: #FFFFFF;\n",
              "    }\n",
              "  </style>\n",
              "\n",
              "      <script>\n",
              "        const buttonEl =\n",
              "          document.querySelector('#df-6613e9f1-11c1-4731-87de-59b7cfbc47ac button.colab-df-convert');\n",
              "        buttonEl.style.display =\n",
              "          google.colab.kernel.accessAllowed ? 'block' : 'none';\n",
              "\n",
              "        async function convertToInteractive(key) {\n",
              "          const element = document.querySelector('#df-6613e9f1-11c1-4731-87de-59b7cfbc47ac');\n",
              "          const dataTable =\n",
              "            await google.colab.kernel.invokeFunction('convertToInteractive',\n",
              "                                                     [key], {});\n",
              "          if (!dataTable) return;\n",
              "\n",
              "          const docLinkHtml = 'Like what you see? Visit the ' +\n",
              "            '<a target=\"_blank\" href=https://colab.research.google.com/notebooks/data_table.ipynb>data table notebook</a>'\n",
              "            + ' to learn more about interactive tables.';\n",
              "          element.innerHTML = '';\n",
              "          dataTable['output_type'] = 'display_data';\n",
              "          await google.colab.output.renderOutput(dataTable, element);\n",
              "          const docLink = document.createElement('div');\n",
              "          docLink.innerHTML = docLinkHtml;\n",
              "          element.appendChild(docLink);\n",
              "        }\n",
              "      </script>\n",
              "    </div>\n",
              "  </div>\n",
              "  "
            ],
            "text/plain": [
              "               User  Times Mentioned\n",
              "0         addien90s             3170\n",
              "1   treasuremenfess             1021\n",
              "2         aulianzl_              765\n",
              "3           brgsjks              611\n",
              "4       Marchfoward              397\n",
              "5      f4izalhassan              392\n",
              "6        tempodotco              368\n",
              "7     AmirudinShari              360\n",
              "8    redzuanNewsMPB              296\n",
              "9        HermyRahim              280\n",
              "10          syzwxyz              234\n",
              "11   maliqueredzuan              228\n",
              "12         jllmisai              227\n",
              "13       SyedSaddiq              220\n",
              "14     marlina_idha              209\n",
              "15       abieabidah              202\n",
              "16       UstazSofee              197\n",
              "17   Media_Selangor              196\n",
              "18     nona_cempaka              194\n",
              "19         mkini_bm              192"
            ]
          },
          "metadata": {},
          "execution_count": 27
        }
      ],
      "source": [
        "from collections import Counter\n",
        "men = Counter(all_mentioned).most_common()[:20]\n",
        "pd.DataFrame({\n",
        "    'User': [m[0] for m in men],\n",
        "    'Times Mentioned' : [m[1] for m in men]\n",
        "})"
      ]
    },
    {
      "cell_type": "markdown",
      "metadata": {
        "id": "4NOBsyKc5ee7"
      },
      "source": [
        "# Kasus banjir yang didapatkan melalui tweet\n"
      ]
    },
    {
      "cell_type": "markdown",
      "metadata": {
        "id": "5fhnYKD-BsJC"
      },
      "source": [
        "## Banjir Rob Natuna"
      ]
    },
    {
      "cell_type": "code",
      "execution_count": 28,
      "metadata": {
        "colab": {
          "base_uri": "https://localhost:8080/"
        },
        "id": "PymjxZQL5gcj",
        "outputId": "f7f31fdf-738b-40aa-868d-a433409e3bff"
      },
      "outputs": [
        {
          "output_type": "stream",
          "name": "stdout",
          "text": [
            "10\n",
            "3\n"
          ]
        }
      ],
      "source": [
        "natuna = []\n",
        "for t in df['tweet']:\n",
        "  if 'natuna' in t.lower():\n",
        "    # print(t)\n",
        "    # print('==========================')\n",
        "    natuna.append(t)\n",
        "print(len(natuna))\n",
        "print(len(list(set(natuna))))"
      ]
    },
    {
      "cell_type": "markdown",
      "metadata": {
        "id": "2WQzvjN9AEFe"
      },
      "source": [
        "## Banjir Jakarta"
      ]
    },
    {
      "cell_type": "code",
      "execution_count": 29,
      "metadata": {
        "id": "1H3tHZ_H_6FT"
      },
      "outputs": [],
      "source": [
        "jakarta = []\n",
        "for t in df['tweet']:\n",
        "  if 'jakarta' in t.lower():\n",
        "    # print(t)\n",
        "    # print('==========================')\n",
        "    jakarta.append(t)"
      ]
    },
    {
      "cell_type": "code",
      "execution_count": 30,
      "metadata": {
        "colab": {
          "base_uri": "https://localhost:8080/"
        },
        "id": "0miK2_v5AKSJ",
        "outputId": "5db001e9-9a2a-4913-9f2d-68470b55f27b"
      },
      "outputs": [
        {
          "output_type": "stream",
          "name": "stdout",
          "text": [
            "Jumlah Tweet tentang Jakarta: 590\n",
            "Jumlah Unique Tweet tentang Jakarta: 141\n"
          ]
        }
      ],
      "source": [
        "print(f'Jumlah Tweet tentang Jakarta: {len(jakarta)}')\n",
        "print(f'Jumlah Unique Tweet tentang Jakarta: {len(list(set(jakarta)))}')"
      ]
    },
    {
      "cell_type": "code",
      "execution_count": 31,
      "metadata": {
        "colab": {
          "base_uri": "https://localhost:8080/"
        },
        "id": "j9ritnlwALYY",
        "outputId": "c68fee97-72ca-435e-d458-a1500872320a"
      },
      "outputs": [
        {
          "output_type": "execute_result",
          "data": {
            "text/plain": [
              "141"
            ]
          },
          "metadata": {},
          "execution_count": 31
        }
      ],
      "source": [
        "len(list(set(jakarta)))"
      ]
    },
    {
      "cell_type": "markdown",
      "metadata": {
        "id": "birGIYq_4FZx"
      },
      "source": [
        "### Isu Sumur Resapan"
      ]
    },
    {
      "cell_type": "code",
      "execution_count": 32,
      "metadata": {
        "id": "Mt76mHvY4HPy"
      },
      "outputs": [],
      "source": [
        "sumres = []\n",
        "for t in df['tweet']:\n",
        "  if 'resapan' in t.lower():\n",
        "    # print(t)\n",
        "    # print('==========================')\n",
        "    sumres.append(t)"
      ]
    },
    {
      "cell_type": "code",
      "execution_count": null,
      "metadata": {
        "colab": {
          "base_uri": "https://localhost:8080/"
        },
        "id": "7jc9u0pw4a8G",
        "outputId": "54526aca-1629-4a67-ddfc-e9788c096d82"
      },
      "outputs": [
        {
          "data": {
            "text/plain": [
              "512"
            ]
          },
          "execution_count": 137,
          "metadata": {},
          "output_type": "execute_result"
        }
      ],
      "source": [
        "len(sumres)"
      ]
    },
    {
      "cell_type": "code",
      "execution_count": 58,
      "metadata": {
        "colab": {
          "base_uri": "https://localhost:8080/"
        },
        "id": "xn3TVE2m4qlC",
        "outputId": "889ce7fb-edab-4372-af74-e9a438a68164"
      },
      "outputs": [
        {
          "output_type": "stream",
          "name": "stdout",
          "text": [
            "Jumlah tweet tentang banjir Sumur Resapan : 512\n",
            "Jumlah unique tweet tentang banjir Sumur Resapan : 117\n"
          ]
        }
      ],
      "source": [
        "print(f\"Jumlah tweet tentang banjir Sumur Resapan : {len(sumres)}\")\n",
        "print(f\"Jumlah unique tweet tentang banjir Sumur Resapan : {len(list(set(sumres)))}\")"
      ]
    },
    {
      "cell_type": "markdown",
      "metadata": {
        "id": "MckrscDUBvPO"
      },
      "source": [
        "## Banjir Garut"
      ]
    },
    {
      "cell_type": "code",
      "execution_count": 34,
      "metadata": {
        "colab": {
          "base_uri": "https://localhost:8080/"
        },
        "id": "XonLxN8NBu5M",
        "outputId": "c0f001a7-63f4-4d02-a55c-35957ea42327"
      },
      "outputs": [
        {
          "output_type": "execute_result",
          "data": {
            "text/plain": [
              "15"
            ]
          },
          "metadata": {},
          "execution_count": 34
        }
      ],
      "source": [
        "garut = []\n",
        "for t in df['tweet']:\n",
        "  if 'garut' in t.lower():\n",
        "    garut.append(t)\n",
        "len(garut)"
      ]
    },
    {
      "cell_type": "code",
      "execution_count": 35,
      "metadata": {
        "colab": {
          "base_uri": "https://localhost:8080/"
        },
        "id": "dTiMChx2xMWb",
        "outputId": "db59bede-8e0e-44d7-ab79-898d7f0e771c"
      },
      "outputs": [
        {
          "output_type": "stream",
          "name": "stdout",
          "text": [
            "Jumlah tweet tentang banjir Garut : 15\n",
            "Jumlah unique tweet tentang banjir Garut : 6\n"
          ]
        }
      ],
      "source": [
        "print(f\"Jumlah tweet tentang banjir Garut : {len(garut)}\")\n",
        "print(f\"Jumlah unique tweet tentang banjir Garut : {len(list(set(garut)))}\")"
      ]
    },
    {
      "cell_type": "markdown",
      "metadata": {
        "id": "zNzREoBFB8Jj"
      },
      "source": [
        "## Banjir Sumbar"
      ]
    },
    {
      "cell_type": "code",
      "execution_count": 36,
      "metadata": {
        "colab": {
          "base_uri": "https://localhost:8080/"
        },
        "id": "ZfmedpuGB0RL",
        "outputId": "683b4185-dfb7-434d-d1dd-46bc145f0579"
      },
      "outputs": [
        {
          "output_type": "execute_result",
          "data": {
            "text/plain": [
              "39"
            ]
          },
          "metadata": {},
          "execution_count": 36
        }
      ],
      "source": [
        "sumbar = []\n",
        "for t in df['tweet']:\n",
        "  if 'sumbar' in t.lower():\n",
        "    sumbar.append(t)\n",
        "len(sumbar)"
      ]
    },
    {
      "cell_type": "code",
      "execution_count": 40,
      "metadata": {
        "colab": {
          "base_uri": "https://localhost:8080/"
        },
        "id": "MWsCHMFNxSf8",
        "outputId": "afb2f5f8-5358-4f45-930d-72afb81e557d"
      },
      "outputs": [
        {
          "output_type": "stream",
          "name": "stdout",
          "text": [
            "Jumlah tweet tentang banjir Sumbar : 39\n",
            "Jumlah unique tweet tentang banjir Sumbar : 14\n"
          ]
        }
      ],
      "source": [
        "print(f\"Jumlah tweet tentang banjir Sumbar : {len(sumbar)}\")\n",
        "print(f\"Jumlah unique tweet tentang banjir Sumbar : {len(list(set(sumbar)))}\")"
      ]
    },
    {
      "cell_type": "markdown",
      "metadata": {
        "id": "eCjHd7R8JjgI"
      },
      "source": [
        "## Banjir Malaysia"
      ]
    },
    {
      "cell_type": "code",
      "execution_count": 38,
      "metadata": {
        "id": "DGBR0KaDxp_8"
      },
      "outputs": [],
      "source": [
        "# Malaysia\n",
        "malay = []\n",
        "for t in df['tweet']:\n",
        "  if ('malaysia' in t.lower()) or ('kuala' in t.lower()) or ('shah' in t.lower()):\n",
        "    malay.append(t)"
      ]
    },
    {
      "cell_type": "code",
      "execution_count": 39,
      "metadata": {
        "colab": {
          "base_uri": "https://localhost:8080/"
        },
        "id": "hNWpafaPxyGk",
        "outputId": "56175f39-b2b8-4696-a557-ad0732203f29"
      },
      "outputs": [
        {
          "output_type": "stream",
          "name": "stdout",
          "text": [
            "Jumlah tweet tentang banjir Malaysia : 3343\n",
            "Jumlah unique tweet tentang banjir Malaysia : 533\n"
          ]
        }
      ],
      "source": [
        "print(f\"Jumlah tweet tentang banjir Malaysia : {len(malay)}\")\n",
        "print(f\"Jumlah unique tweet tentang banjir Malaysia : {len(list(set(malay)))}\")"
      ]
    },
    {
      "cell_type": "code",
      "source": [
        "# Sulawesi\n",
        "sul = []\n",
        "for t in df['tweet']:\n",
        "  if ('sulawesi' in t.lower()) or (('sulsel' in t.lower())) :\n",
        "    sul.append(t)"
      ],
      "metadata": {
        "id": "wI46LCq5e5eM"
      },
      "execution_count": 59,
      "outputs": []
    },
    {
      "cell_type": "code",
      "source": [
        "print(f\"Jumlah tweet tentang banjir Sulawesi Selatan : {len(sul)}\")\n",
        "print(f\"Jumlah unique tweet tentang banjir Sulawesi Selatan : {len(list(set(sul)))}\")"
      ],
      "metadata": {
        "colab": {
          "base_uri": "https://localhost:8080/"
        },
        "id": "J-vbw35He_SZ",
        "outputId": "e68bf928-fcb5-47f3-a867-12c3962dddb9"
      },
      "execution_count": 60,
      "outputs": [
        {
          "output_type": "stream",
          "name": "stdout",
          "text": [
            "Jumlah tweet tentang banjir Sulawesi Selatan : 12\n",
            "Jumlah unique tweet tentang banjir Sulawesi Selatan : 8\n"
          ]
        }
      ]
    },
    {
      "cell_type": "markdown",
      "metadata": {
        "id": "nnAwnMLDI4BC"
      },
      "source": [
        "# Ngecheck Buzzer"
      ]
    },
    {
      "cell_type": "code",
      "execution_count": null,
      "metadata": {
        "colab": {
          "base_uri": "https://localhost:8080/",
          "height": 641
        },
        "id": "1Zonh9YJI6Z4",
        "outputId": "852bc150-e7f6-43d2-cb97-090997120472"
      },
      "outputs": [
        {
          "data": {
            "text/html": [
              "\n",
              "  <div id=\"df-1bf07498-2a82-4e34-8c4b-5f9943bc8477\">\n",
              "    <div class=\"colab-df-container\">\n",
              "      <div>\n",
              "<style scoped>\n",
              "    .dataframe tbody tr th:only-of-type {\n",
              "        vertical-align: middle;\n",
              "    }\n",
              "\n",
              "    .dataframe tbody tr th {\n",
              "        vertical-align: top;\n",
              "    }\n",
              "\n",
              "    .dataframe thead th {\n",
              "        text-align: right;\n",
              "    }\n",
              "</style>\n",
              "<table border=\"1\" class=\"dataframe\">\n",
              "  <thead>\n",
              "    <tr style=\"text-align: right;\">\n",
              "      <th></th>\n",
              "      <th>id</th>\n",
              "      <th>tweet</th>\n",
              "      <th>created_at</th>\n",
              "      <th>user_created_at</th>\n",
              "      <th>screen_name</th>\n",
              "      <th>name</th>\n",
              "      <th>location</th>\n",
              "      <th>jam</th>\n",
              "      <th>hari</th>\n",
              "    </tr>\n",
              "  </thead>\n",
              "  <tbody>\n",
              "    <tr>\n",
              "      <th>2499</th>\n",
              "      <td>1471413976361672708</td>\n",
              "      <td>RT @averyfirmansyah: Banjir hindari Jalan Raya...</td>\n",
              "      <td>2021-12-16 09:36:44+00:00</td>\n",
              "      <td>2009-06-28 16:08:58+00:00</td>\n",
              "      <td>Kounroan</td>\n",
              "      <td>@rendroko</td>\n",
              "      <td></td>\n",
              "      <td>9</td>\n",
              "      <td>Kamis</td>\n",
              "    </tr>\n",
              "    <tr>\n",
              "      <th>2498</th>\n",
              "      <td>1471414041037864961</td>\n",
              "      <td>RT @aulianzl_: Banjir bgt liat ig story awkari...</td>\n",
              "      <td>2021-12-16 09:36:59+00:00</td>\n",
              "      <td>2019-07-14 17:37:00+00:00</td>\n",
              "      <td>Aku</td>\n",
              "      <td>@epooyy99</td>\n",
              "      <td></td>\n",
              "      <td>9</td>\n",
              "      <td>Kamis</td>\n",
              "    </tr>\n",
              "    <tr>\n",
              "      <th>2497</th>\n",
              "      <td>1471414041809592323</td>\n",
              "      <td>RT @aulianzl_: Banjir bgt liat ig story awkari...</td>\n",
              "      <td>2021-12-16 09:36:59+00:00</td>\n",
              "      <td>2016-05-15 07:24:55+00:00</td>\n",
              "      <td>Faa 🍭</td>\n",
              "      <td>@Baekhyungluv</td>\n",
              "      <td>she/her 01'</td>\n",
              "      <td>9</td>\n",
              "      <td>Kamis</td>\n",
              "    </tr>\n",
              "    <tr>\n",
              "      <th>2496</th>\n",
              "      <td>1471414069479366656</td>\n",
              "      <td>RT @averyfirmansyah: Banjir hindari Jalan Raya...</td>\n",
              "      <td>2021-12-16 09:37:06+00:00</td>\n",
              "      <td>2019-04-17 17:44:53+00:00</td>\n",
              "      <td>kuro</td>\n",
              "      <td>@heartsmith__</td>\n",
              "      <td></td>\n",
              "      <td>9</td>\n",
              "      <td>Kamis</td>\n",
              "    </tr>\n",
              "    <tr>\n",
              "      <th>2495</th>\n",
              "      <td>1471414079113744391</td>\n",
              "      <td>Iya banget pas di part itu auto banjir, apalgi...</td>\n",
              "      <td>2021-12-16 09:37:08+00:00</td>\n",
              "      <td>2018-12-11 23:27:38+00:00</td>\n",
              "      <td>Darkthen</td>\n",
              "      <td>@Jiijeell</td>\n",
              "      <td></td>\n",
              "      <td>9</td>\n",
              "      <td>Kamis</td>\n",
              "    </tr>\n",
              "    <tr>\n",
              "      <th>...</th>\n",
              "      <td>...</td>\n",
              "      <td>...</td>\n",
              "      <td>...</td>\n",
              "      <td>...</td>\n",
              "      <td>...</td>\n",
              "      <td>...</td>\n",
              "      <td>...</td>\n",
              "      <td>...</td>\n",
              "      <td>...</td>\n",
              "    </tr>\n",
              "    <tr>\n",
              "      <th>20003</th>\n",
              "      <td>1472224152476082182</td>\n",
              "      <td>RT @hazemanhuzir: Kau faham tak perasaan orang...</td>\n",
              "      <td>2021-12-18 15:16:05+00:00</td>\n",
              "      <td>2015-02-02 07:03:11+00:00</td>\n",
              "      <td>ucop</td>\n",
              "      <td>@ucopahmad95</td>\n",
              "      <td>Kuantan, Pahang</td>\n",
              "      <td>15</td>\n",
              "      <td>Sabtu</td>\n",
              "    </tr>\n",
              "    <tr>\n",
              "      <th>20002</th>\n",
              "      <td>1472224152719216642</td>\n",
              "      <td>RT @byzulfadhlizin: Antara barang cadangan Asa...</td>\n",
              "      <td>2021-12-18 15:16:05+00:00</td>\n",
              "      <td>2010-09-15 02:58:07+00:00</td>\n",
              "      <td>Ann Jaafar</td>\n",
              "      <td>@annjfr</td>\n",
              "      <td></td>\n",
              "      <td>15</td>\n",
              "      <td>Sabtu</td>\n",
              "    </tr>\n",
              "    <tr>\n",
              "      <th>20001</th>\n",
              "      <td>1472224152736055303</td>\n",
              "      <td>RT @aishzq: Sapa2 yg stuck area SEKSYEN 13, TT...</td>\n",
              "      <td>2021-12-18 15:16:05+00:00</td>\n",
              "      <td>2019-12-28 06:19:48+00:00</td>\n",
              "      <td>𝔓𝔦𝔫𝔞𝔞𝔞</td>\n",
              "      <td>@anifros_m</td>\n",
              "      <td></td>\n",
              "      <td>15</td>\n",
              "      <td>Sabtu</td>\n",
              "    </tr>\n",
              "    <tr>\n",
              "      <th>20000</th>\n",
              "      <td>1472224152962490371</td>\n",
              "      <td>RT @501Awani: Banjir Klang: Penduduk letih, ti...</td>\n",
              "      <td>2021-12-18 15:16:05+00:00</td>\n",
              "      <td>2018-08-12 11:24:41+00:00</td>\n",
              "      <td>Hokutou</td>\n",
              "      <td>@HarrazBasyir</td>\n",
              "      <td>Malacca, Malaysia</td>\n",
              "      <td>15</td>\n",
              "      <td>Sabtu</td>\n",
              "    </tr>\n",
              "    <tr>\n",
              "      <th>20006</th>\n",
              "      <td>1472224152212111361</td>\n",
              "      <td>RT @edryfaizal: Ini bukan lagi situasi banjir ...</td>\n",
              "      <td>2021-12-18 15:16:05+00:00</td>\n",
              "      <td>2021-01-23 00:38:24+00:00</td>\n",
              "      <td>nikki</td>\n",
              "      <td>@niknrnn</td>\n",
              "      <td></td>\n",
              "      <td>15</td>\n",
              "      <td>Sabtu</td>\n",
              "    </tr>\n",
              "  </tbody>\n",
              "</table>\n",
              "<p>22500 rows × 9 columns</p>\n",
              "</div>\n",
              "      <button class=\"colab-df-convert\" onclick=\"convertToInteractive('df-1bf07498-2a82-4e34-8c4b-5f9943bc8477')\"\n",
              "              title=\"Convert this dataframe to an interactive table.\"\n",
              "              style=\"display:none;\">\n",
              "        \n",
              "  <svg xmlns=\"http://www.w3.org/2000/svg\" height=\"24px\"viewBox=\"0 0 24 24\"\n",
              "       width=\"24px\">\n",
              "    <path d=\"M0 0h24v24H0V0z\" fill=\"none\"/>\n",
              "    <path d=\"M18.56 5.44l.94 2.06.94-2.06 2.06-.94-2.06-.94-.94-2.06-.94 2.06-2.06.94zm-11 1L8.5 8.5l.94-2.06 2.06-.94-2.06-.94L8.5 2.5l-.94 2.06-2.06.94zm10 10l.94 2.06.94-2.06 2.06-.94-2.06-.94-.94-2.06-.94 2.06-2.06.94z\"/><path d=\"M17.41 7.96l-1.37-1.37c-.4-.4-.92-.59-1.43-.59-.52 0-1.04.2-1.43.59L10.3 9.45l-7.72 7.72c-.78.78-.78 2.05 0 2.83L4 21.41c.39.39.9.59 1.41.59.51 0 1.02-.2 1.41-.59l7.78-7.78 2.81-2.81c.8-.78.8-2.07 0-2.86zM5.41 20L4 18.59l7.72-7.72 1.47 1.35L5.41 20z\"/>\n",
              "  </svg>\n",
              "      </button>\n",
              "      \n",
              "  <style>\n",
              "    .colab-df-container {\n",
              "      display:flex;\n",
              "      flex-wrap:wrap;\n",
              "      gap: 12px;\n",
              "    }\n",
              "\n",
              "    .colab-df-convert {\n",
              "      background-color: #E8F0FE;\n",
              "      border: none;\n",
              "      border-radius: 50%;\n",
              "      cursor: pointer;\n",
              "      display: none;\n",
              "      fill: #1967D2;\n",
              "      height: 32px;\n",
              "      padding: 0 0 0 0;\n",
              "      width: 32px;\n",
              "    }\n",
              "\n",
              "    .colab-df-convert:hover {\n",
              "      background-color: #E2EBFA;\n",
              "      box-shadow: 0px 1px 2px rgba(60, 64, 67, 0.3), 0px 1px 3px 1px rgba(60, 64, 67, 0.15);\n",
              "      fill: #174EA6;\n",
              "    }\n",
              "\n",
              "    [theme=dark] .colab-df-convert {\n",
              "      background-color: #3B4455;\n",
              "      fill: #D2E3FC;\n",
              "    }\n",
              "\n",
              "    [theme=dark] .colab-df-convert:hover {\n",
              "      background-color: #434B5C;\n",
              "      box-shadow: 0px 1px 3px 1px rgba(0, 0, 0, 0.15);\n",
              "      filter: drop-shadow(0px 1px 2px rgba(0, 0, 0, 0.3));\n",
              "      fill: #FFFFFF;\n",
              "    }\n",
              "  </style>\n",
              "\n",
              "      <script>\n",
              "        const buttonEl =\n",
              "          document.querySelector('#df-1bf07498-2a82-4e34-8c4b-5f9943bc8477 button.colab-df-convert');\n",
              "        buttonEl.style.display =\n",
              "          google.colab.kernel.accessAllowed ? 'block' : 'none';\n",
              "\n",
              "        async function convertToInteractive(key) {\n",
              "          const element = document.querySelector('#df-1bf07498-2a82-4e34-8c4b-5f9943bc8477');\n",
              "          const dataTable =\n",
              "            await google.colab.kernel.invokeFunction('convertToInteractive',\n",
              "                                                     [key], {});\n",
              "          if (!dataTable) return;\n",
              "\n",
              "          const docLinkHtml = 'Like what you see? Visit the ' +\n",
              "            '<a target=\"_blank\" href=https://colab.research.google.com/notebooks/data_table.ipynb>data table notebook</a>'\n",
              "            + ' to learn more about interactive tables.';\n",
              "          element.innerHTML = '';\n",
              "          dataTable['output_type'] = 'display_data';\n",
              "          await google.colab.output.renderOutput(dataTable, element);\n",
              "          const docLink = document.createElement('div');\n",
              "          docLink.innerHTML = docLinkHtml;\n",
              "          element.appendChild(docLink);\n",
              "        }\n",
              "      </script>\n",
              "    </div>\n",
              "  </div>\n",
              "  "
            ],
            "text/plain": [
              "                        id  ...   hari\n",
              "2499   1471413976361672708  ...  Kamis\n",
              "2498   1471414041037864961  ...  Kamis\n",
              "2497   1471414041809592323  ...  Kamis\n",
              "2496   1471414069479366656  ...  Kamis\n",
              "2495   1471414079113744391  ...  Kamis\n",
              "...                    ...  ...    ...\n",
              "20003  1472224152476082182  ...  Sabtu\n",
              "20002  1472224152719216642  ...  Sabtu\n",
              "20001  1472224152736055303  ...  Sabtu\n",
              "20000  1472224152962490371  ...  Sabtu\n",
              "20006  1472224152212111361  ...  Sabtu\n",
              "\n",
              "[22500 rows x 9 columns]"
            ]
          },
          "execution_count": 113,
          "metadata": {},
          "output_type": "execute_result"
        }
      ],
      "source": [
        "df"
      ]
    },
    {
      "cell_type": "code",
      "execution_count": null,
      "metadata": {
        "id": "vTR8NwnrI62y"
      },
      "outputs": [],
      "source": [
        "df['user_created_to_tweet_created'] = df['created_at'] - df['user_created_at']"
      ]
    },
    {
      "cell_type": "code",
      "execution_count": null,
      "metadata": {
        "colab": {
          "base_uri": "https://localhost:8080/",
          "height": 36
        },
        "id": "jlF8s3Y-PEWY",
        "outputId": "4bded947-1b42-4214-b495-c0757cba1fd4"
      },
      "outputs": [
        {
          "data": {
            "application/vnd.google.colaboratory.intrinsic+json": {
              "type": "string"
            },
            "text/plain": [
              "'RT @Boediantar4: 2012 : dia target stadion persija jadi 2015\\n2014 : dia ngomong macet dan banjir lebih mudah diatasi kalau jadi presiden\\n20…'"
            ]
          },
          "execution_count": 120,
          "metadata": {},
          "output_type": "execute_result"
        }
      ],
      "source": [
        "df.iloc[1935]['tweet']"
      ]
    },
    {
      "cell_type": "code",
      "execution_count": null,
      "metadata": {
        "colab": {
          "base_uri": "https://localhost:8080/",
          "height": 1000
        },
        "id": "9DPeZ_HRJNHO",
        "outputId": "06d135d9-817e-4270-ee52-f9d4ec66b8cb"
      },
      "outputs": [
        {
          "data": {
            "text/html": [
              "\n",
              "  <div id=\"df-cba4a825-d7fc-42ce-b9f8-f79d7aa12564\">\n",
              "    <div class=\"colab-df-container\">\n",
              "      <div>\n",
              "<style scoped>\n",
              "    .dataframe tbody tr th:only-of-type {\n",
              "        vertical-align: middle;\n",
              "    }\n",
              "\n",
              "    .dataframe tbody tr th {\n",
              "        vertical-align: top;\n",
              "    }\n",
              "\n",
              "    .dataframe thead th {\n",
              "        text-align: right;\n",
              "    }\n",
              "</style>\n",
              "<table border=\"1\" class=\"dataframe\">\n",
              "  <thead>\n",
              "    <tr style=\"text-align: right;\">\n",
              "      <th></th>\n",
              "      <th>id</th>\n",
              "      <th>tweet</th>\n",
              "      <th>created_at</th>\n",
              "      <th>user_created_at</th>\n",
              "      <th>screen_name</th>\n",
              "      <th>name</th>\n",
              "      <th>location</th>\n",
              "      <th>retweet_count</th>\n",
              "      <th>jam</th>\n",
              "      <th>hari</th>\n",
              "      <th>tweet_clean</th>\n",
              "      <th>mentioned</th>\n",
              "      <th>user_created_to_tweet_created</th>\n",
              "    </tr>\n",
              "  </thead>\n",
              "  <tbody>\n",
              "    <tr>\n",
              "      <th>6277</th>\n",
              "      <td>1471834422542360579</td>\n",
              "      <td>@kerolhajiq Yup banjir naik paras lutut</td>\n",
              "      <td>2021-12-17 13:27:26+00:00</td>\n",
              "      <td>2021-12-17 13:22:26+00:00</td>\n",
              "      <td>Yaya</td>\n",
              "      <td>@Yaya09899933</td>\n",
              "      <td></td>\n",
              "      <td>0</td>\n",
              "      <td>13</td>\n",
              "      <td>Jumat</td>\n",
              "      <td>yup banjir naik paras lutut</td>\n",
              "      <td>[(, kerolhajiq)]</td>\n",
              "      <td>0 days 00:05:00</td>\n",
              "    </tr>\n",
              "    <tr>\n",
              "      <th>2935</th>\n",
              "      <td>1471750268534464520</td>\n",
              "      <td>*btw itu yang gua bilang gak bisa bawah keseko...</td>\n",
              "      <td>2021-12-17 07:53:02+00:00</td>\n",
              "      <td>2021-12-17 07:35:44+00:00</td>\n",
              "      <td>Guacapekmalesmagerdepresot</td>\n",
              "      <td>@GATAULAGICAPEKK</td>\n",
              "      <td></td>\n",
              "      <td>0</td>\n",
              "      <td>7</td>\n",
              "      <td>Jumat</td>\n",
              "      <td>btw itu yang gua bilang gak bisa bawah kesekol...</td>\n",
              "      <td>[]</td>\n",
              "      <td>0 days 00:17:18</td>\n",
              "    </tr>\n",
              "    <tr>\n",
              "      <th>2825</th>\n",
              "      <td>1471753879062679556</td>\n",
              "      <td>anjir banjir</td>\n",
              "      <td>2021-12-17 08:07:23+00:00</td>\n",
              "      <td>2021-12-17 07:38:15+00:00</td>\n",
              "      <td>gio</td>\n",
              "      <td>@sfrgiow</td>\n",
              "      <td>harshword</td>\n",
              "      <td>0</td>\n",
              "      <td>8</td>\n",
              "      <td>Jumat</td>\n",
              "      <td>anjir banjir</td>\n",
              "      <td>[]</td>\n",
              "      <td>0 days 00:29:08</td>\n",
              "    </tr>\n",
              "    <tr>\n",
              "      <th>5437</th>\n",
              "      <td>1471841027560378370</td>\n",
              "      <td>Terkandas kereta bnyk rosak sbb banjir di klan...</td>\n",
              "      <td>2021-12-17 13:53:41+00:00</td>\n",
              "      <td>2021-12-17 13:22:26+00:00</td>\n",
              "      <td>Yaya</td>\n",
              "      <td>@Yaya09899933</td>\n",
              "      <td></td>\n",
              "      <td>1</td>\n",
              "      <td>13</td>\n",
              "      <td>Jumat</td>\n",
              "      <td>terkandas kereta bnyk rosak sbb banjir di klang</td>\n",
              "      <td>[]</td>\n",
              "      <td>0 days 00:31:15</td>\n",
              "    </tr>\n",
              "    <tr>\n",
              "      <th>9396</th>\n",
              "      <td>1471841027560378370</td>\n",
              "      <td>Terkandas kereta bnyk rosak sbb banjir di klan...</td>\n",
              "      <td>2021-12-17 13:53:41+00:00</td>\n",
              "      <td>2021-12-17 13:22:26+00:00</td>\n",
              "      <td>Yaya</td>\n",
              "      <td>@Yaya09899933</td>\n",
              "      <td></td>\n",
              "      <td>2</td>\n",
              "      <td>13</td>\n",
              "      <td>Jumat</td>\n",
              "      <td>terkandas kereta bnyk rosak sbb banjir di klang</td>\n",
              "      <td>[]</td>\n",
              "      <td>0 days 00:31:15</td>\n",
              "    </tr>\n",
              "    <tr>\n",
              "      <th>10711</th>\n",
              "      <td>1471869929984958466</td>\n",
              "      <td>Bismillah, bulan desember banjir congrats</td>\n",
              "      <td>2021-12-17 15:48:31+00:00</td>\n",
              "      <td>2021-12-17 15:09:18+00:00</td>\n",
              "      <td>N7® | Follback ya</td>\n",
              "      <td>@Ndrawin7</td>\n",
              "      <td>United States</td>\n",
              "      <td>0</td>\n",
              "      <td>15</td>\n",
              "      <td>Jumat</td>\n",
              "      <td>bismillah  bulan desember banjir congrats</td>\n",
              "      <td>[]</td>\n",
              "      <td>0 days 00:39:13</td>\n",
              "    </tr>\n",
              "    <tr>\n",
              "      <th>6549</th>\n",
              "      <td>1471831006529220609</td>\n",
              "      <td>Bismillah, bulan desember banjir congrats 🍀</td>\n",
              "      <td>2021-12-17 13:13:51+00:00</td>\n",
              "      <td>2021-12-17 12:12:14+00:00</td>\n",
              "      <td>spy™</td>\n",
              "      <td>@sikpentingyakin</td>\n",
              "      <td></td>\n",
              "      <td>0</td>\n",
              "      <td>13</td>\n",
              "      <td>Jumat</td>\n",
              "      <td>bismillah  bulan desember banjir congrats</td>\n",
              "      <td>[]</td>\n",
              "      <td>0 days 01:01:37</td>\n",
              "    </tr>\n",
              "    <tr>\n",
              "      <th>2560</th>\n",
              "      <td>1471763798239240193</td>\n",
              "      <td>UNTUNG GK BANJIR</td>\n",
              "      <td>2021-12-17 08:46:48+00:00</td>\n",
              "      <td>2021-12-17 07:38:15+00:00</td>\n",
              "      <td>gio</td>\n",
              "      <td>@sfrgiow</td>\n",
              "      <td>harshword</td>\n",
              "      <td>0</td>\n",
              "      <td>8</td>\n",
              "      <td>Jumat</td>\n",
              "      <td>untung gk banjir</td>\n",
              "      <td>[]</td>\n",
              "      <td>0 days 01:08:33</td>\n",
              "    </tr>\n",
              "    <tr>\n",
              "      <th>28780</th>\n",
              "      <td>1472499402556076035</td>\n",
              "      <td>RT @friedchikenbabe: MANA HELICOPTER MALAYSIA ...</td>\n",
              "      <td>2021-12-19 09:29:49+00:00</td>\n",
              "      <td>2021-12-19 07:59:45+00:00</td>\n",
              "      <td>nabila maisarah</td>\n",
              "      <td>@nabilamaisara17</td>\n",
              "      <td></td>\n",
              "      <td>146</td>\n",
              "      <td>9</td>\n",
              "      <td>Minggu</td>\n",
              "      <td>mana helicopter malaysia ni sial          hari...</td>\n",
              "      <td>[( , friedchikenbabe)]</td>\n",
              "      <td>0 days 01:30:04</td>\n",
              "    </tr>\n",
              "    <tr>\n",
              "      <th>26280</th>\n",
              "      <td>1472499402556076035</td>\n",
              "      <td>RT @friedchikenbabe: MANA HELICOPTER MALAYSIA ...</td>\n",
              "      <td>2021-12-19 09:29:49+00:00</td>\n",
              "      <td>2021-12-19 07:59:45+00:00</td>\n",
              "      <td>nabila maisarah</td>\n",
              "      <td>@nabilamaisara17</td>\n",
              "      <td></td>\n",
              "      <td>146</td>\n",
              "      <td>9</td>\n",
              "      <td>Minggu</td>\n",
              "      <td>mana helicopter malaysia ni sial          hari...</td>\n",
              "      <td>[( , friedchikenbabe)]</td>\n",
              "      <td>0 days 01:30:04</td>\n",
              "    </tr>\n",
              "    <tr>\n",
              "      <th>25525</th>\n",
              "      <td>1472499592553918464</td>\n",
              "      <td>RT @feraraaaah: 100 bungkus makanan akan diagi...</td>\n",
              "      <td>2021-12-19 09:30:35+00:00</td>\n",
              "      <td>2021-12-19 07:59:45+00:00</td>\n",
              "      <td>nabila maisarah</td>\n",
              "      <td>@nabilamaisara17</td>\n",
              "      <td></td>\n",
              "      <td>3618</td>\n",
              "      <td>9</td>\n",
              "      <td>Minggu</td>\n",
              "      <td>100 bungkus makanan akan diagihkan kepada mang...</td>\n",
              "      <td>[( , feraraaaah)]</td>\n",
              "      <td>0 days 01:30:50</td>\n",
              "    </tr>\n",
              "    <tr>\n",
              "      <th>28025</th>\n",
              "      <td>1472499592553918464</td>\n",
              "      <td>RT @feraraaaah: 100 bungkus makanan akan diagi...</td>\n",
              "      <td>2021-12-19 09:30:35+00:00</td>\n",
              "      <td>2021-12-19 07:59:45+00:00</td>\n",
              "      <td>nabila maisarah</td>\n",
              "      <td>@nabilamaisara17</td>\n",
              "      <td></td>\n",
              "      <td>3618</td>\n",
              "      <td>9</td>\n",
              "      <td>Minggu</td>\n",
              "      <td>100 bungkus makanan akan diagihkan kepada mang...</td>\n",
              "      <td>[( , feraraaaah)]</td>\n",
              "      <td>0 days 01:30:50</td>\n",
              "    </tr>\n",
              "    <tr>\n",
              "      <th>27855</th>\n",
              "      <td>1472499634643738625</td>\n",
              "      <td>RT @kiranabynoe: ASSALAMUALAIKUM URGENT KUCING...</td>\n",
              "      <td>2021-12-19 09:30:45+00:00</td>\n",
              "      <td>2021-12-19 07:59:45+00:00</td>\n",
              "      <td>nabila maisarah</td>\n",
              "      <td>@nabilamaisara17</td>\n",
              "      <td></td>\n",
              "      <td>3420</td>\n",
              "      <td>9</td>\n",
              "      <td>Minggu</td>\n",
              "      <td>assalamualaikum urgent kucing terperangkap dal...</td>\n",
              "      <td>[( , kiranabynoe)]</td>\n",
              "      <td>0 days 01:31:00</td>\n",
              "    </tr>\n",
              "    <tr>\n",
              "      <th>25355</th>\n",
              "      <td>1472499634643738625</td>\n",
              "      <td>RT @kiranabynoe: ASSALAMUALAIKUM URGENT KUCING...</td>\n",
              "      <td>2021-12-19 09:30:45+00:00</td>\n",
              "      <td>2021-12-19 07:59:45+00:00</td>\n",
              "      <td>nabila maisarah</td>\n",
              "      <td>@nabilamaisara17</td>\n",
              "      <td></td>\n",
              "      <td>3420</td>\n",
              "      <td>9</td>\n",
              "      <td>Minggu</td>\n",
              "      <td>assalamualaikum urgent kucing terperangkap dal...</td>\n",
              "      <td>[( , kiranabynoe)]</td>\n",
              "      <td>0 days 01:31:00</td>\n",
              "    </tr>\n",
              "    <tr>\n",
              "      <th>3372</th>\n",
              "      <td>1471732760637173762</td>\n",
              "      <td>@winveu aman aman, kalo sampe sorean keknya ba...</td>\n",
              "      <td>2021-12-17 06:43:28+00:00</td>\n",
              "      <td>2021-12-17 05:05:51+00:00</td>\n",
              "      <td>Lele || fb atuh</td>\n",
              "      <td>@leleebukanikan</td>\n",
              "      <td>she/her</td>\n",
              "      <td>0</td>\n",
              "      <td>6</td>\n",
              "      <td>Jumat</td>\n",
              "      <td>aman aman  kalo sampe sorean keknya bakal banj...</td>\n",
              "      <td>[(, winveu)]</td>\n",
              "      <td>0 days 01:37:37</td>\n",
              "    </tr>\n",
              "    <tr>\n",
              "      <th>713</th>\n",
              "      <td>1471467139085131780</td>\n",
              "      <td>RT @1trenggalek: Banjir menerjang di Dusun Bon...</td>\n",
              "      <td>2021-12-16 13:07:59+00:00</td>\n",
              "      <td>2021-12-16 11:07:15+00:00</td>\n",
              "      <td>Mbah Suk</td>\n",
              "      <td>@MbahSuk5758</td>\n",
              "      <td></td>\n",
              "      <td>31</td>\n",
              "      <td>13</td>\n",
              "      <td>Kamis</td>\n",
              "      <td>banjir menerjang di dusun bondeli utara desa s...</td>\n",
              "      <td>[( , 1trenggalek)]</td>\n",
              "      <td>0 days 02:00:44</td>\n",
              "    </tr>\n",
              "    <tr>\n",
              "      <th>529</th>\n",
              "      <td>1471473424568446981</td>\n",
              "      <td>@Hoswarovski kagak pernah banjir ye bekasi</td>\n",
              "      <td>2021-12-16 13:32:57+00:00</td>\n",
              "      <td>2021-12-16 10:49:19+00:00</td>\n",
              "      <td>dowoon</td>\n",
              "      <td>@dowoobnt</td>\n",
              "      <td>non comittal</td>\n",
              "      <td>0</td>\n",
              "      <td>13</td>\n",
              "      <td>Kamis</td>\n",
              "      <td>kagak pernah banjir ye bekasi</td>\n",
              "      <td>[(, Hoswarovski)]</td>\n",
              "      <td>0 days 02:43:38</td>\n",
              "    </tr>\n",
              "    <tr>\n",
              "      <th>15453</th>\n",
              "      <td>1472138169751461888</td>\n",
              "      <td>RT @nurvzee: Exit ke Shah Alam/ Klang / Setia ...</td>\n",
              "      <td>2021-12-18 09:34:25+00:00</td>\n",
              "      <td>2021-12-18 06:16:34+00:00</td>\n",
              "      <td>Hi Ikhwan</td>\n",
              "      <td>@j0hnStella</td>\n",
              "      <td></td>\n",
              "      <td>4</td>\n",
              "      <td>9</td>\n",
              "      <td>Sabtu</td>\n",
              "      <td>exit ke shah alam  klang   setia alam  putraja...</td>\n",
              "      <td>[( , nurvzee)]</td>\n",
              "      <td>0 days 03:17:51</td>\n",
              "    </tr>\n",
              "    <tr>\n",
              "      <th>10230</th>\n",
              "      <td>1471876258388578306</td>\n",
              "      <td>@GAHunterFess Aku win klo abis gnt usn</td>\n",
              "      <td>2021-12-17 16:13:40+00:00</td>\n",
              "      <td>2021-12-17 10:02:23+00:00</td>\n",
              "      <td>Winner 🏆🎉🎉#6️⃣5️⃣🎹</td>\n",
              "      <td>@banjir_congrats</td>\n",
              "      <td></td>\n",
              "      <td>0</td>\n",
              "      <td>16</td>\n",
              "      <td>Jumat</td>\n",
              "      <td>aku win klo abis gnt usn</td>\n",
              "      <td>[(, GAHunterFess)]</td>\n",
              "      <td>0 days 06:11:17</td>\n",
              "    </tr>\n",
              "    <tr>\n",
              "      <th>10123</th>\n",
              "      <td>1471877759999741957</td>\n",
              "      <td>Pengin gitu bangun pagi notif jebol..disapa co...</td>\n",
              "      <td>2021-12-17 16:19:38+00:00</td>\n",
              "      <td>2021-12-17 10:02:23+00:00</td>\n",
              "      <td>Winner 🏆🎉🎉#6️⃣5️⃣🎹</td>\n",
              "      <td>@banjir_congrats</td>\n",
              "      <td></td>\n",
              "      <td>0</td>\n",
              "      <td>16</td>\n",
              "      <td>Jumat</td>\n",
              "      <td>pengin gitu bangun pagi notif jebol  disapa co...</td>\n",
              "      <td>[]</td>\n",
              "      <td>0 days 06:17:15</td>\n",
              "    </tr>\n",
              "    <tr>\n",
              "      <th>2482</th>\n",
              "      <td>1471414552214401025</td>\n",
              "      <td>@GAContest_ @wamcoin Tg vikhaleas https://t.co...</td>\n",
              "      <td>2021-12-16 09:39:01+00:00</td>\n",
              "      <td>2021-12-16 02:37:06+00:00</td>\n",
              "      <td>Dewie</td>\n",
              "      <td>@Banjir_hujanwin</td>\n",
              "      <td></td>\n",
              "      <td>0</td>\n",
              "      <td>9</td>\n",
              "      <td>Kamis</td>\n",
              "      <td>tg vikhaleas</td>\n",
              "      <td>[(, GAContest_), ( , wamcoin)]</td>\n",
              "      <td>0 days 07:01:55</td>\n",
              "    </tr>\n",
              "    <tr>\n",
              "      <th>2476</th>\n",
              "      <td>1471414607155646464</td>\n",
              "      <td>RT @chitaglorya__: 30$ in 20 mins rt &amp;amp; rt ...</td>\n",
              "      <td>2021-12-16 09:39:14+00:00</td>\n",
              "      <td>2021-12-16 02:37:06+00:00</td>\n",
              "      <td>Dewie</td>\n",
              "      <td>@Banjir_hujanwin</td>\n",
              "      <td></td>\n",
              "      <td>3575</td>\n",
              "      <td>9</td>\n",
              "      <td>Kamis</td>\n",
              "      <td>30  in 20 mins rt  amp  rt pin</td>\n",
              "      <td>[( , chitaglorya__)]</td>\n",
              "      <td>0 days 07:02:08</td>\n",
              "    </tr>\n",
              "    <tr>\n",
              "      <th>2469</th>\n",
              "      <td>1471414892875816962</td>\n",
              "      <td>@Crypto_GA_Arena Done\\nTg vikhaleas https://t....</td>\n",
              "      <td>2021-12-16 09:40:22+00:00</td>\n",
              "      <td>2021-12-16 02:37:06+00:00</td>\n",
              "      <td>Dewie</td>\n",
              "      <td>@Banjir_hujanwin</td>\n",
              "      <td></td>\n",
              "      <td>0</td>\n",
              "      <td>9</td>\n",
              "      <td>Kamis</td>\n",
              "      <td>done tg vikhaleas</td>\n",
              "      <td>[(, Crypto_GA_Arena)]</td>\n",
              "      <td>0 days 07:03:16</td>\n",
              "    </tr>\n",
              "    <tr>\n",
              "      <th>2466</th>\n",
              "      <td>1471414962262212611</td>\n",
              "      <td>@chitaglorya__ @Crypto_GA_Arena Done kak https...</td>\n",
              "      <td>2021-12-16 09:40:39+00:00</td>\n",
              "      <td>2021-12-16 02:37:06+00:00</td>\n",
              "      <td>Dewie</td>\n",
              "      <td>@Banjir_hujanwin</td>\n",
              "      <td></td>\n",
              "      <td>0</td>\n",
              "      <td>9</td>\n",
              "      <td>Kamis</td>\n",
              "      <td>done kak</td>\n",
              "      <td>[(, chitaglorya__), ( , Crypto_GA_Arena)]</td>\n",
              "      <td>0 days 07:03:33</td>\n",
              "    </tr>\n",
              "    <tr>\n",
              "      <th>2461</th>\n",
              "      <td>1471415076926091266</td>\n",
              "      <td>Yakin... Insyaallah akun ini pasti wangi</td>\n",
              "      <td>2021-12-16 09:41:06+00:00</td>\n",
              "      <td>2021-12-16 02:37:06+00:00</td>\n",
              "      <td>Dewie</td>\n",
              "      <td>@Banjir_hujanwin</td>\n",
              "      <td></td>\n",
              "      <td>0</td>\n",
              "      <td>9</td>\n",
              "      <td>Kamis</td>\n",
              "      <td>yakin    insyaallah akun ini pasti wangi</td>\n",
              "      <td>[]</td>\n",
              "      <td>0 days 07:04:00</td>\n",
              "    </tr>\n",
              "    <tr>\n",
              "      <th>2431</th>\n",
              "      <td>1471415730738368514</td>\n",
              "      <td>@cehlos @SolJindo Done\\nTg vikhaleas https://t...</td>\n",
              "      <td>2021-12-16 09:43:42+00:00</td>\n",
              "      <td>2021-12-16 02:37:06+00:00</td>\n",
              "      <td>Dewie</td>\n",
              "      <td>@Banjir_hujanwin</td>\n",
              "      <td></td>\n",
              "      <td>0</td>\n",
              "      <td>9</td>\n",
              "      <td>Kamis</td>\n",
              "      <td>done tg vikhaleas</td>\n",
              "      <td>[(, cehlos), ( , SolJindo)]</td>\n",
              "      <td>0 days 07:06:36</td>\n",
              "    </tr>\n",
              "    <tr>\n",
              "      <th>2412</th>\n",
              "      <td>1471416270281056257</td>\n",
              "      <td>Berantakan... Maless beberes nih mamak,sibuk m...</td>\n",
              "      <td>2021-12-16 09:45:51+00:00</td>\n",
              "      <td>2021-12-16 02:37:06+00:00</td>\n",
              "      <td>Dewie</td>\n",
              "      <td>@Banjir_hujanwin</td>\n",
              "      <td></td>\n",
              "      <td>0</td>\n",
              "      <td>9</td>\n",
              "      <td>Kamis</td>\n",
              "      <td>berantakan    maless beberes nih mamak sibuk m...</td>\n",
              "      <td>[]</td>\n",
              "      <td>0 days 07:08:45</td>\n",
              "    </tr>\n",
              "    <tr>\n",
              "      <th>1899</th>\n",
              "      <td>1471428936491884544</td>\n",
              "      <td>RT @ifaHanaRizqiana: .\\n⚜GIVEAWAY Saldo DANA 5...</td>\n",
              "      <td>2021-12-16 10:36:10+00:00</td>\n",
              "      <td>2021-12-16 02:37:06+00:00</td>\n",
              "      <td>Dewie</td>\n",
              "      <td>@Banjir_hujanwin</td>\n",
              "      <td></td>\n",
              "      <td>244</td>\n",
              "      <td>10</td>\n",
              "      <td>Kamis</td>\n",
              "      <td>giveaway saldo dana 50 000 utk 5 orang masing ...</td>\n",
              "      <td>[( , ifaHanaRizqiana), ( , Missufebigwin21)]</td>\n",
              "      <td>0 days 07:59:04</td>\n",
              "    </tr>\n",
              "    <tr>\n",
              "      <th>1896</th>\n",
              "      <td>1471429033329971200</td>\n",
              "      <td>RT @ifaHanaRizqiana: 🍃 GIVEAWAY Saldo DANA/OVO...</td>\n",
              "      <td>2021-12-16 10:36:34+00:00</td>\n",
              "      <td>2021-12-16 02:37:06+00:00</td>\n",
              "      <td>Dewie</td>\n",
              "      <td>@Banjir_hujanwin</td>\n",
              "      <td></td>\n",
              "      <td>118</td>\n",
              "      <td>10</td>\n",
              "      <td>Kamis</td>\n",
              "      <td>giveaway saldo dana ovo 10 000     rt   follow...</td>\n",
              "      <td>[( , ifaHanaRizqiana), ( , Itssusi_)]</td>\n",
              "      <td>0 days 07:59:28</td>\n",
              "    </tr>\n",
              "    <tr>\n",
              "      <th>1639</th>\n",
              "      <td>1471435863477284872</td>\n",
              "      <td>RT @missufe: $125 / 1.75 juta ~ 15 MINS\\n\\n- RT 💕</td>\n",
              "      <td>2021-12-16 11:03:42+00:00</td>\n",
              "      <td>2021-12-16 02:37:06+00:00</td>\n",
              "      <td>Dewie</td>\n",
              "      <td>@Banjir_hujanwin</td>\n",
              "      <td></td>\n",
              "      <td>8643</td>\n",
              "      <td>11</td>\n",
              "      <td>Kamis</td>\n",
              "      <td>125   1 75 juta   15 mins</td>\n",
              "      <td>[( , missufe)]</td>\n",
              "      <td>0 days 08:26:36</td>\n",
              "    </tr>\n",
              "  </tbody>\n",
              "</table>\n",
              "</div>\n",
              "      <button class=\"colab-df-convert\" onclick=\"convertToInteractive('df-cba4a825-d7fc-42ce-b9f8-f79d7aa12564')\"\n",
              "              title=\"Convert this dataframe to an interactive table.\"\n",
              "              style=\"display:none;\">\n",
              "        \n",
              "  <svg xmlns=\"http://www.w3.org/2000/svg\" height=\"24px\"viewBox=\"0 0 24 24\"\n",
              "       width=\"24px\">\n",
              "    <path d=\"M0 0h24v24H0V0z\" fill=\"none\"/>\n",
              "    <path d=\"M18.56 5.44l.94 2.06.94-2.06 2.06-.94-2.06-.94-.94-2.06-.94 2.06-2.06.94zm-11 1L8.5 8.5l.94-2.06 2.06-.94-2.06-.94L8.5 2.5l-.94 2.06-2.06.94zm10 10l.94 2.06.94-2.06 2.06-.94-2.06-.94-.94-2.06-.94 2.06-2.06.94z\"/><path d=\"M17.41 7.96l-1.37-1.37c-.4-.4-.92-.59-1.43-.59-.52 0-1.04.2-1.43.59L10.3 9.45l-7.72 7.72c-.78.78-.78 2.05 0 2.83L4 21.41c.39.39.9.59 1.41.59.51 0 1.02-.2 1.41-.59l7.78-7.78 2.81-2.81c.8-.78.8-2.07 0-2.86zM5.41 20L4 18.59l7.72-7.72 1.47 1.35L5.41 20z\"/>\n",
              "  </svg>\n",
              "      </button>\n",
              "      \n",
              "  <style>\n",
              "    .colab-df-container {\n",
              "      display:flex;\n",
              "      flex-wrap:wrap;\n",
              "      gap: 12px;\n",
              "    }\n",
              "\n",
              "    .colab-df-convert {\n",
              "      background-color: #E8F0FE;\n",
              "      border: none;\n",
              "      border-radius: 50%;\n",
              "      cursor: pointer;\n",
              "      display: none;\n",
              "      fill: #1967D2;\n",
              "      height: 32px;\n",
              "      padding: 0 0 0 0;\n",
              "      width: 32px;\n",
              "    }\n",
              "\n",
              "    .colab-df-convert:hover {\n",
              "      background-color: #E2EBFA;\n",
              "      box-shadow: 0px 1px 2px rgba(60, 64, 67, 0.3), 0px 1px 3px 1px rgba(60, 64, 67, 0.15);\n",
              "      fill: #174EA6;\n",
              "    }\n",
              "\n",
              "    [theme=dark] .colab-df-convert {\n",
              "      background-color: #3B4455;\n",
              "      fill: #D2E3FC;\n",
              "    }\n",
              "\n",
              "    [theme=dark] .colab-df-convert:hover {\n",
              "      background-color: #434B5C;\n",
              "      box-shadow: 0px 1px 3px 1px rgba(0, 0, 0, 0.15);\n",
              "      filter: drop-shadow(0px 1px 2px rgba(0, 0, 0, 0.3));\n",
              "      fill: #FFFFFF;\n",
              "    }\n",
              "  </style>\n",
              "\n",
              "      <script>\n",
              "        const buttonEl =\n",
              "          document.querySelector('#df-cba4a825-d7fc-42ce-b9f8-f79d7aa12564 button.colab-df-convert');\n",
              "        buttonEl.style.display =\n",
              "          google.colab.kernel.accessAllowed ? 'block' : 'none';\n",
              "\n",
              "        async function convertToInteractive(key) {\n",
              "          const element = document.querySelector('#df-cba4a825-d7fc-42ce-b9f8-f79d7aa12564');\n",
              "          const dataTable =\n",
              "            await google.colab.kernel.invokeFunction('convertToInteractive',\n",
              "                                                     [key], {});\n",
              "          if (!dataTable) return;\n",
              "\n",
              "          const docLinkHtml = 'Like what you see? Visit the ' +\n",
              "            '<a target=\"_blank\" href=https://colab.research.google.com/notebooks/data_table.ipynb>data table notebook</a>'\n",
              "            + ' to learn more about interactive tables.';\n",
              "          element.innerHTML = '';\n",
              "          dataTable['output_type'] = 'display_data';\n",
              "          await google.colab.output.renderOutput(dataTable, element);\n",
              "          const docLink = document.createElement('div');\n",
              "          docLink.innerHTML = docLinkHtml;\n",
              "          element.appendChild(docLink);\n",
              "        }\n",
              "      </script>\n",
              "    </div>\n",
              "  </div>\n",
              "  "
            ],
            "text/plain": [
              "                        id  ... user_created_to_tweet_created\n",
              "6277   1471834422542360579  ...               0 days 00:05:00\n",
              "2935   1471750268534464520  ...               0 days 00:17:18\n",
              "2825   1471753879062679556  ...               0 days 00:29:08\n",
              "5437   1471841027560378370  ...               0 days 00:31:15\n",
              "9396   1471841027560378370  ...               0 days 00:31:15\n",
              "10711  1471869929984958466  ...               0 days 00:39:13\n",
              "6549   1471831006529220609  ...               0 days 01:01:37\n",
              "2560   1471763798239240193  ...               0 days 01:08:33\n",
              "28780  1472499402556076035  ...               0 days 01:30:04\n",
              "26280  1472499402556076035  ...               0 days 01:30:04\n",
              "25525  1472499592553918464  ...               0 days 01:30:50\n",
              "28025  1472499592553918464  ...               0 days 01:30:50\n",
              "27855  1472499634643738625  ...               0 days 01:31:00\n",
              "25355  1472499634643738625  ...               0 days 01:31:00\n",
              "3372   1471732760637173762  ...               0 days 01:37:37\n",
              "713    1471467139085131780  ...               0 days 02:00:44\n",
              "529    1471473424568446981  ...               0 days 02:43:38\n",
              "15453  1472138169751461888  ...               0 days 03:17:51\n",
              "10230  1471876258388578306  ...               0 days 06:11:17\n",
              "10123  1471877759999741957  ...               0 days 06:17:15\n",
              "2482   1471414552214401025  ...               0 days 07:01:55\n",
              "2476   1471414607155646464  ...               0 days 07:02:08\n",
              "2469   1471414892875816962  ...               0 days 07:03:16\n",
              "2466   1471414962262212611  ...               0 days 07:03:33\n",
              "2461   1471415076926091266  ...               0 days 07:04:00\n",
              "2431   1471415730738368514  ...               0 days 07:06:36\n",
              "2412   1471416270281056257  ...               0 days 07:08:45\n",
              "1899   1471428936491884544  ...               0 days 07:59:04\n",
              "1896   1471429033329971200  ...               0 days 07:59:28\n",
              "1639   1471435863477284872  ...               0 days 08:26:36\n",
              "\n",
              "[30 rows x 13 columns]"
            ]
          },
          "execution_count": 140,
          "metadata": {},
          "output_type": "execute_result"
        }
      ],
      "source": [
        "df.sort_values(by = 'user_created_to_tweet_created')[:30]"
      ]
    },
    {
      "cell_type": "markdown",
      "metadata": {
        "id": "dLou3jyEn8oV"
      },
      "source": [
        "# Hashtag analysis"
      ]
    },
    {
      "cell_type": "code",
      "execution_count": 41,
      "metadata": {
        "id": "k1DOs0Lgn-jE"
      },
      "outputs": [],
      "source": [
        "df['hashtag'] = [re.findall(r\"#(\\w+)\",t) for t in [tl.lower() for tl in df['tweet']]]\n",
        "ht = df['hashtag'].tolist()\n",
        "ht = [h for h in ht if len(h)!=0]\n",
        "ht_flat = [j for i in ht for j in i]"
      ]
    },
    {
      "cell_type": "code",
      "execution_count": 42,
      "metadata": {
        "colab": {
          "base_uri": "https://localhost:8080/"
        },
        "id": "DOibdxppuJx8",
        "outputId": "34acf6ff-cb1b-49fc-b3c9-5039308e77c8"
      },
      "outputs": [
        {
          "output_type": "execute_result",
          "data": {
            "text/plain": [
              "[('banjir', 455),\n",
              " ('daruratbanjir', 322),\n",
              " ('awaninews', 113),\n",
              " ('awani745', 89),\n",
              " ('shahalam', 68),\n",
              " ('pray4kualalangat', 57),\n",
              " ('tempovideo', 54),\n",
              " ('banj', 43),\n",
              " ('rtm', 34),\n",
              " ('beritartm', 29),\n",
              " ('bhnasional', 25),\n",
              " ('covid19malaysia', 24),\n",
              " ('mstar', 23),\n",
              " ('hululangat', 23),\n",
              " ('malaysiagazette', 22),\n",
              " ('rtm75', 20),\n",
              " ('terusunggul', 20),\n",
              " ('awanipagi', 20),\n",
              " ('banjirterengganu', 20),\n",
              " ('lind', 18)]"
            ]
          },
          "metadata": {},
          "execution_count": 42
        }
      ],
      "source": [
        "from collections import Counter\n",
        "\n",
        "ht_flat = [h for h in ht_flat]\n",
        "ht_top20 = Counter(ht_flat).most_common()[:20]\n",
        "ht_top20"
      ]
    },
    {
      "cell_type": "code",
      "execution_count": 43,
      "metadata": {
        "colab": {
          "base_uri": "https://localhost:8080/",
          "height": 512
        },
        "id": "wa0vKVXNuvi4",
        "outputId": "a2fed9cf-7ce6-4969-91e7-0f7488316d8a"
      },
      "outputs": [
        {
          "output_type": "display_data",
          "data": {
            "image/png": "[encoded data removed]",
            "text/plain": [
              "<Figure size 864x576 with 1 Axes>"
            ]
          },
          "metadata": {
            "needs_background": "light"
          }
        }
      ],
      "source": [
        "df_ht = pd.DataFrame({\n",
        "    'Hashtag':[f\"#{t[0]}\" for t in ht_top20],\n",
        "    'count':[t[1] for t in ht_top20]\n",
        "})\n",
        "\n",
        "plt.figure(figsize = (12,8))\n",
        "p = sns.barplot(\n",
        "    y = 'Hashtag',\n",
        "    x = 'count',\n",
        "    data = df_ht\n",
        ")\n",
        "plt.title('Hashtag Occurrences')\n",
        "plt.xlabel('Count')\n",
        "plt.show()"
      ]
    },
    {
      "cell_type": "markdown",
      "metadata": {
        "id": "0IrHAa4GHpxO"
      },
      "source": [
        "## Check #banjir"
      ]
    },
    {
      "cell_type": "code",
      "execution_count": 52,
      "metadata": {
        "colab": {
          "base_uri": "https://localhost:8080/"
        },
        "id": "pOT4tzf2Ho3g",
        "outputId": "4d84d47c-d147-4c05-98ac-e2e5f8c4542d"
      },
      "outputs": [
        {
          "output_type": "stream",
          "name": "stdout",
          "text": [
            "525\n",
            "318\n"
          ]
        }
      ],
      "source": [
        "ht_banjir = []\n",
        "for t in df['tweet']:\n",
        "  if ('#banjir' in t.lower()):\n",
        "    ht_banjir.append(t)\n",
        "\n",
        "print(len(ht_banjir))\n",
        "print(len(list(set(ht_banjir))))"
      ]
    },
    {
      "cell_type": "code",
      "source": [
        "print(f\"Jumlah tweet Menggunakan #banjir : {len(ht_banjir)}\")\n",
        "print(f\"Jumlah unique tweet Menggunakan #banjir : {len(list(set(ht_banjir)))}\")"
      ],
      "metadata": {
        "colab": {
          "base_uri": "https://localhost:8080/"
        },
        "id": "e50fNUWLV-94",
        "outputId": "fbdd3335-3909-4791-a95b-1f5c319978b0"
      },
      "execution_count": 49,
      "outputs": [
        {
          "output_type": "stream",
          "name": "stdout",
          "text": [
            "Jumlah tweet Menggunakan #banjir : 525\n",
            "Jumlah unique tweet Menggunakan #banjir : 318\n"
          ]
        }
      ]
    },
    {
      "cell_type": "code",
      "execution_count": 54,
      "metadata": {
        "colab": {
          "base_uri": "https://localhost:8080/"
        },
        "id": "f3BOmbmuISKp",
        "outputId": "da330885-531b-48a9-d278-5f02f6f5b6a0"
      },
      "outputs": [
        {
          "output_type": "stream",
          "name": "stdout",
          "text": [
            "Jumlah unique tweet Menggunakan #banjir dan mencantumkan media : 260\n"
          ]
        }
      ],
      "source": [
        "media = []\n",
        "for hb in list(set(ht_banjir)):\n",
        "  if 'https' in hb:\n",
        "    media.append(hb)\n",
        "print(f\"Jumlah unique tweet Menggunakan #banjir dan mencantumkan media : {len(media)}\")"
      ]
    },
    {
      "cell_type": "code",
      "execution_count": null,
      "metadata": {
        "colab": {
          "base_uri": "https://localhost:8080/"
        },
        "id": "oQI92iLyLqC4",
        "outputId": "2e3cef86-ba3a-4138-9cbb-9576be3f5c86"
      },
      "outputs": [
        {
          "data": {
            "text/plain": [
              "['\"Pada 1971 Kuala Lumpur\\npernah ‘lumpuh\\' akibat\\nbencana alam ini yang telah\\nmenyebabkan 180,000 mangsa\\nterjejas dan 32 orang\\nmeninggal dunia, seterusnya\\nmengakibatkan perintah\\ndarurat bencana diisytiharkan\"\\n\\nPhot credit ~ C.Y.Leong\\n\\n#banjir #selangor #KL #Klang https://t.co/3PARii9eUD',\n",
              " 'Ada hikmah disebalik hujan yg Allah dah trunkan so far, and what i see is harta dunia is nothing, smua barang yg kita ada skrang tak kekal, take notes dunia dah tua and bnykkan bertawakal kpd sang pencipta, \\n\\n#StaySafe \\n#banjir',\n",
              " 'RT @Thiban_ben: #BanjirSelangor #Klang #KualaLangat #Sepang \\n\\nHujan berterusan dijangka berlaku sehingga hari esok. Situasi banjir di Klang…',\n",
              " '#RNANEWS #Banjir \\n\\nHujan lebat berterusan menyebabkan beberapa kawasan sekitar Kuantan termasuk pekan Sungai Lembing di Pahang dinaiki air pagi ini.\\n\\n📸 Awam https://t.co/AQHLp9jnkW',\n",
              " 'Terima kasih atas infonya Rekan Hasbi. Semoga banjir lekas surut dan tetap berhati-hati dalam perjalanan, semoga selamat sampai tujuan.\\n\\n#RekanDakta #InfoRekanDakta #daktainfo #RadioDakta #banjir #cikarang #KabupatenBekasi https://t.co/PZUxTvPkR5',\n",
              " 'RT @bernamadotcom: #Banjir: Kawasan persimpangan Jalan Labohan Dagang-Nilai menuju ke Kota Warisan Sepang dinaiki air sehingga paras lutut…',\n",
              " 'RT @baimsha: shah alam bandar klang #banjir  #sinar #Malaysia #tv3 #tv1 https://t.co/cED0qdqjWE',\n",
              " 'RT @bernamadotcom: Kenderaan terkandas akibat #banjir, pemandu tidur dalam kereta \\n\\n@mynadma @MKNJPM @metmalaysia \\n\\nhttps://t.co/hyutzsMCrr…',\n",
              " 'RT @myazaleas: Tak boleh balik ke Seksyen 13, boleh ke Masjid Tengku Ampuan Rahimah, Bukit Jelutong. Ada bantuan di sana. #banjir #seksyen1…',\n",
              " 'RT @SssepettT: Sesiapa yang perlukan shelter di Selangor, pergi ke tempat paling hampir dengan korang. Semoga selamat semuanya\\n\\n#banjir #Ma…',\n",
              " 'Hasil Putaran Japan Hari ini adalah :\\nResult : 8720\\nShio :  Kuda\\nSalam Jackpot!!\\n\\n#jokernet88 #togelJapan #banjir',\n",
              " 'RT @bernamadotcom: #Banjir : Selangor mohon bantuan Kerajaan Persekutuan\\n\\nhttps://t.co/DBGxgMN5yq https://t.co/5Lf2ZpLM1u',\n",
              " 'RT @bernamaradio: #Banjir : Sukarelawan Team Selangor dan Selangor Volunteer (SERVE) sedang digerakkan bagi mengedarkan bantuan kepada mang…',\n",
              " 'Bertabahlah…hujan tak berhenti 2 hari lagi woo #banjir https://t.co/L0PzWPgeRI',\n",
              " 'Keadaan banjir di Kampung Bukit Pelindung, Kuantan pagi ini. #Pilihan1PantaiTimur #BanjirPantaiTimur\\n\\nKredit Video : Najib Iskandar https://t.co/HpLC0Ven1M',\n",
              " 'RT @wanie_dagreat: Banjir. Kampung Salak Sepang.\\nDewan Serbaguna ni tmpt utk potong gelang pink (kuarantin) ditutup sbb banjir. #banjir #in…',\n",
              " 'RT @gegar_my: Keadaan banjir di Kampung Bukit Pelindung, Kuantan pagi ini. #Pilihan1PantaiTimur #BanjirPantaiTimur\\n\\nKredit Video : Najib Is…',\n",
              " 'RT @bernamaradio: #Banjir: 21 orang daripada lima keluarga berpindah ke PPS di daerah Setiu, Dungun pagi ini - JPBN Terengganu.\\n\\n: Gambar f…',\n",
              " 'Pray to all that affected by the ongoing rain and leads to flood.. be safe and strong.\\nDoa saya untuk sesiapa saja yg terkesan dengan hujan yang tidak henti membawa kepada banjir.. jaga diri dan tabahkan hati.\\n\\n#hujan #banjir',\n",
              " 'RT @501Awani: Banjir Klang: Penduduk letih, tidak mampu tukar perabot setiap tahun\\n\\nhttps://t.co/HX3FyaS21X\\n\\n#AWANInews #AWANI745 #Banjir20…',\n",
              " 'Dari zaman kolonial sampai milenial #banjir memusingkan para walikota &amp; gubernur. Bukan tak ada upaya, namun rasanya blm ada jurus jitu.\\n\\nDi #PodcastCLBK, kami ajak kamu  melihat bgmn banjir terjadi dari masa ke masa &amp; upaya mengatasinya?https://t.co/HG0wrsbUDp\\n\\n#PodcastIndonesia https://t.co/3oWEtg5jZa',\n",
              " 'Jumaat | 17 Disember 2021 \\n\\n#Banjir di Bandar Sg Lembing\\n\\nKredit: Shahar Abdullah https://t.co/Huk5SDBoZo',\n",
              " '#TERKINI: Banjir: Dua PPS di Gua Musang, Kelantan dibuka setakat pukul 10 pagi - Sekretariat Jawatankuasa Pengurusan Bencana Negeri Kelantan\\n\\n#GetaranMY | #Semasa | #Banjir',\n",
              " 'RT @bernamadotcom: @mynadma @MKNJPM @jmgmalaysia #Banjir \\n\\nMereka yang berada di kawasan banjir dinasihat amalkan panduan keselamatan elekt…',\n",
              " 'Keadaan di sungai kajang\\n#banjir https://t.co/B0tFxY0wfA',\n",
              " '3 Sungai di Kelantan lepasi paras amaran\\n\\nhttps://t.co/VKBw9KiwDk\\n\\n#Banjir https://t.co/QQD63YWVCn',\n",
              " 'RT @theezahj: YA ALLAH SEND HELP 😭 \\n#help #DaruratBanjir #banjir https://t.co/nY7wlM9z6g',\n",
              " 'Hujan lebat membasahi bumi Kelate #Banjir #flooded #MKN #NADMA https://t.co/HBU6A4Ru3m',\n",
              " 'RT @BernamaTV: [MAKLUMAN] Sebarang aduan #banjir, sila hubungi Bilik Gerakan Banjir JPSKL di talian - 0322028142 atau aduan melalui SISPAA…',\n",
              " 'RT @501Awani: Segera hantar bantuan kepada mangsa banjir - Anwar\\n\\nhttps://t.co/RpgHr3469N\\n\\n#AWANInews #AWANI745 #Banjir2021',\n",
              " 'Gua Musang menjadi daerah pertama menyaksikan pemindahan mangsa #banjir membabitkan 392 orang mangsa banjir dari 70 keluarga dipindahkan ke dua PPS sekitar jam 9 pagi tadi @501Awani https://t.co/NRfOfNRTl6',\n",
              " 'Sebuah kereta terperangkap dalam banjir kilat Taman Ara Permai Batu Berendam petang tadi. Hujan lebat sejak petang tadi mengakibatkan beberapa kawasan di Melaka ditenggelami air.\\n\\n📹 kiriman pembaca\\n\\n#banjir\\n#banjirmelaka https://t.co/oR6eqlKYub',\n",
              " '33 lagi PPS di Selangor, hmm makin teruk banjir ni\\n#majoriti\\n#112bencana\\n#GHZ70307\\n#banjir \\n#hujan \\n\\nhttps://t.co/ZfiuKFkZHI',\n",
              " 'RT @abeymuinsz: Sungai Linggi sampai naik buaya 😂\\nkredit: entahler #banjir #buayadarat https://t.co/3nlTccNArM',\n",
              " 'Terbaik Tok Det @MahdzirKhalid #KPLB \\n#banjir #daruratbanjir https://t.co/i35WABbCUj',\n",
              " 'Bila tengok post pasal banjir rsa sedih sgt. Rumah yg naik air, org yg trperangkap tgh jalan air berlimpah limpah. Kita yg dduk selesa ni harap la bersyukur. To those yg affected, uols sgt kuat ya, semoga dipermudahkan. #banjir #klang #shahalam',\n",
              " 'RAKYAT SEDANG BERGELIMPANGAN MENAHAN DARURAT BANJIR DAN KERAJAAN SEDANG BUAT APA??  MANE BANTUAN UTK RAKYAT??  PAYUNG RAKYAT ATOK KAU LAH BANTUAN MANE KAU TGK JE KE RAKYAT SEMUA HELPLESS DALAM BANJIR NI #DaruratBanjir #KerajaanGagal #banjir',\n",
              " 'Puluhan rumah warga di Pondok Petir, tepatnya di Perumahan Griya Yudha Garuda RT 4/18 terendam banjir akibat tanggul Kali Angke 5 Jebol. #banjir https://t.co/MqVo1UA3Yi',\n",
              " 'bandar baru klang banjir #sinar #tv3 #selangor #banjir https://t.co/L5GNTrr7vG',\n",
              " 'RT @BernamaTV: #Banjir: Tinjauan Bernama mendapati Sungai Gombak hampir melimpah susulan hujan berterusan sejak tengahari semalam.\\n\\nVideo:…',\n",
              " 'skrg hujan still tak berenti pukul 10.20 pm kat sek13 😭😭😭 air makin naik #banjir2021 #banjirklang #ShahAlam #Klang #banjir https://t.co/kPEunzkwmE',\n",
              " '#Banjir : [TERKINI]\\n\\n🔹 Setiap ketua isi rumah terjejas banjir akan menerima sumbangan RM1,000 \\n\\n🔹 Jumlah mangsa banjir berlindung di 103 PPS di 8 daerah seluruh Selangor meningkat 15,000 hari ini \\n\\n#Thread',\n",
              " 'RT @AngahFaiez: Keadaan di sungai kajang\\n#banjir https://t.co/B0tFxY0wfA',\n",
              " '🔴Beberapa desa di lereng Gunung Semeru dikabarkan mengalami banjir lahar.\\n\\nVideo lengkapnya https://t.co/A5lS1dDzMU\\n\\n#Update #Banjir #Lahar #Semeru #Lumajang\\n\\nNonton video lainnya di https://t.co/u0N4cMgiXy https://t.co/f2LHnXrpSP',\n",
              " '#Banjir\\nSituasi kawasan Shah Alam, Selangor sekitar Seksyen 13, Bukit Jelutong &amp; lebuh raya persekutuan yang ditenggelami banjir setakat jam 9 pagi ini.\\n\\n📹 Aeman Khalid (Awam)\\n\\n@MKNJPM @mynadma https://t.co/aXQ5v9KbQU',\n",
              " 'Menebang tebu mencari rebung,\\nAwan ke mari berbasah lencun,\\nAnak dan ibu berpanjat bumbung,\\nYB dan menteri bermain mercun.\\n\\n#banjir #monsoon',\n",
              " 'RT @ahmadmaslan: Bersihkan rumah mangsa #banjir di #KualaKrau #Pahang \\n\\nDalam &amp; luar rumah. Juga guna “water jet” &amp; peralatan2. Simpati ban…',\n",
              " 'Diguyur hujan, depan ITC Fatmawati banjir.\\n\\n#banjir #Fatmawati\\n\\nhttps://t.co/QHlAHkJgLT https://t.co/mDW0F8NiKH',\n",
              " 'RT @ehamirekkk: Hi. Just want to inform. Masjid Seksyen 7, Shah Alam dibuka untuk penempatan banjir. #BanjirDarurat',\n",
              " 'Banjir Terjang Gunung Sitoli, Ketinggian Air Capai 2 Meter\\n\\nhttps://t.co/8GWLFRkIx2\\n\\n#Jabarnews #beritalokal #beritahiperlokal #harianjabar #jabartoday #beritajabar #beritajawabarat #banjirBanjirNiasBasarnas',\n",
              " 'Polwan Polda Sumsel Peduli Banjir https://t.co/AWtPqmC9Hl #banjir #palembang #Sumsel https://t.co/7b7pS0B0DG',\n",
              " 'Genangan Air di Desa Ped Belum Surut https://t.co/bu0db655MI #berita #nusabali #DesaPed #Banjir #BPBDKlungkung #MusimHujan',\n",
              " 'Hujan kan? Apalagi pi la masak maggie \\n#bismillah #FoodieBeauty #food #RAIN #banjir #flooding #flooded https://t.co/LRvM5pzEtV',\n",
              " 'RT @jnmalaysia: #Banjir: Hujan lebat sejak pagi semalam telah menenggelamkan jalan-jalan utama di Setia Alam yang menghubungkan Bandar Buki…',\n",
              " 'RT @BernamaTV: Keadaan #banjir sekitar Balakong berhampiran Kawasan Rehat Bukit Dukung menunjukkan beberapa premis di kawasan itu hampir te…',\n",
              " 'RT @thetinkerboots: kepada yang memerlukan bantuan #banjir https://t.co/pWEo7DkoXS',\n",
              " 'Yuk, jadi netizen cerdas dan berakhlak dengan menyaring dan menelaah setiap pesan yang diterima. Hindari menyebarkan informasi yang tidak jelas sumbernya serta tidak dapat dipertanggungjawabkan kebenarannya.\\n\\n#BMKG\\n#Hoax\\n#Gempa\\n#Banjir https://t.co/ydXejZTq8z',\n",
              " 'Bagi dunsanak yang di perjalan untuak tetap hati2. #PrayForPesisirSelatan #banjir https://t.co/7WVFpTbOX8',\n",
              " 'nah ni org yg korg kutuk tu. bukan je dah selamatkn student yg tgh struggle ni, tapi dah selamatkan ramai lg org awam, kucing &amp; anjing. Thank you mcplus❤️ #mcplus #McPlusDisband #banjir2021 #banjir https://t.co/MZcHWVdxYv',\n",
              " 'Undangan Ngopi Den Budi RadioMu, mewakili Poskor Muhammadiyah Sintang, bersama Satgas Banjir Dinkes Sintang #banjirsintang2021 #banjirsintang #banjir2021\\nhttps://t.co/EVAoq1SGv9',\n",
              " '5:13 pagi tadi kejadian banjir di Seberang Balok #BanjirPantaiTimur\\n\\nKredit FB : Muhamad Fakhrullah https://t.co/QPaPcMhuvw',\n",
              " '5 Warga Bendo Terjebak Banjir saat Susur Sungai di Magelang\\n\\nSelengkapnya Klik Tautan Berikut ini \\n#Magelang #Warga #Bendo #Banjir #Sungai\\n https://t.co/Kd3dX2vo5c',\n",
              " '#Banjir : Lebuhraya Persekutuan menuju ke Kuala Lumpur kini ditutup akibat banjir. \\n\\nPDRM membuka pembahagi jalan untuk pengguna jalan raya untuk berpatah balik.\\n\\n📸 Afifitri https://t.co/9LhAA93r3G',\n",
              " '#Hujan tanpa henti semalam dah hari ini, semoga semua dalam keadaan selamat 🤲🏻\\n\\nAda kawasan berhampiran anda dilanda #banjir? Kongsikan perkembangan anda dibawah untuk persediaan takkan-rakan yang lain. https://t.co/Xfu2nmu0P9',\n",
              " 'RT @KKCity: Di doakan semoga semua sahabat di Semenanjung selamat, diberikan kekuatan &amp; bersabar. 🤲🏼\\n\\n#banjir',\n",
              " 'johan setia klang banjir terok #banjir #tv3 #tv1 #selangor #Malaysia https://t.co/WTKofFnX8V',\n",
              " 'URGENT: Saya memerlukan penginapan sementara dekat area iCity shah alam pada malam ni. Disebabkan #banjir saya tiada tempat nak tidur.... HP/Whatsapp: 0126442499',\n",
              " 'Mangsa banjir di Gua Musang telah dipindahkan ke pusat pemindahan sementara di Dewan Orang Ramai, Chiku 7 dan Sekolah Kebangsaan (SK) Limau Kasturi (1) pagi tadi.\\n\\n@IsmailSabri60 @bombaJBPM @mynadma @metmalaysia\\n\\n#Bomba #Banjir #PantaiTimur #AirTimes https://t.co/kflbpLZ4rL',\n",
              " 'BANJIR DI kampung GUA MUSANG ‼️\\n#BanjirPantaiTimur\\n\\nKredit @zai.azizi https://t.co/BlSJhMUD15',\n",
              " 'Banjir Lahar karena Hujan Deras\\nMengguyur Lereng Semeru#banjir https://t.co/G8aAq0b5JU',\n",
              " 'RT @bernamadotcom: #Banjir : Kenderaan di Lebuhraya Persekutuan berpatah balik di hadapan KTM Batu Tiga, Selangor.\\n\\nVideo : Muhammad Adil M…',\n",
              " 'RT @bernamadotcom: #Banjir : Guru SMK Bukit Changgang, Ruzita Che Him sanggup meredah banjir demi menyelamatkan kertas peperiksaan akhir ta…',\n",
              " 'Keadaan banjir di Kg Pengkalan Rama\\n\\n📸 orang awam \\n\\n#banjirmelaka\\n#melaka https://t.co/uC3HwMQ8Vc',\n",
              " 'Banjir menggenangi lima kecamatan di Kabupaten Pesisir Selatan, Sumatera Barat, Jumat (17/12). BPBD fokus menyelamatkan warga. #banjir https://t.co/DO9IeWAAU6',\n",
              " '#BuletinFMHighlights\\n\\n• Banjir di Lubok Cina terburuk dalam tempoh 50 tahun\\n• Air pasang besar di Klang, banjir dijangka bertambah teruk\\n• 10 maut kemalangan, pemandu treler direman 4 hari\\n\\nSumber: @hmetromy @bharianmy \\n\\n#BuletinFM #lubokcina #banjir #klang #pemandutreler https://t.co/V8blwHXKdo',\n",
              " 'RT @XavierNaxa: Ayuh kibar benda putih 🏳️jika anda memerlukan bantuan sewaktu banjir. #banjir',\n",
              " 'RT @bernamadotcom: #Banjir : Lebuhraya Persekutuan menuju ke Kuala Lumpur kini ditutup akibat banjir. @PDRMsia membuka pembahagi jalan untu…',\n",
              " 'RT @bernamadotcom: @mynadma @MKNJPM @jmgmalaysia #Banjir \\n\\nJangan panik ya tuan-tuan &amp; puan-puan. \\n\\nTarik nafas, ikuti panduan penjagaan ke…',\n",
              " 'RT @buletinfm: Ini antara langkah-langkah keselamatan yang anda perlu tahu ketika banjir berlaku.\\n\\n#BuletinFM #banjir #langkahkeselamatan h…',\n",
              " 'RT @JaPenWPKL: #Banjir‼️\\nJangan panik ya tuan-tuan &amp; puan-puan...\\n\\nTarik nafas, ikuti panduan penjagaan kenderaan di musim banjir ini &amp; jan…',\n",
              " 'RT @syafyqah_army91: Nk msuk ke kawasan rumah.. Alam Idaman, Alam Sanjung, The Green, seksyen 22… Shah Alam.. stay safe semua yaaa..#banjir…',\n",
              " 'RT @bernamadotcom: #Banjir : PM @IsmailSabri60 turun padang awal pagi Ahad meninjau situasi semasa kejadian banjir di Kampung Bukit Lanchon…',\n",
              " 'RT @501Awani: Perkembangan banjir di Kampung Bukit sireh, Kuala Krai Kelantan \\n\\n#Banjir2021 #AWANInews https://t.co/fFguy9Nd27',\n",
              " 'RT @hotfm976: Keadaan operasi menyelamat mangsa di Padang Jawa, Selangor sekarang ini\\n#banjir #banjirshahalam #DaruratBanjir\\nVideo oleh ZUL…',\n",
              " 'RT @bernamaradio: #Banjir : Lebuhraya Persekutuan menuju ke Kuala Lumpur kini ditutup akibat banjir. @PDRMsia membuka pembahagi jalan untuk…',\n",
              " 'PM DSIS dah umhm peruntukan untuk banjir..Terima kasih PM dari semalam sampai sekarang turun padang tanpa ada rasa letih..\\n\\n#IsmailSabri\\n#Banjir https://t.co/yTXQ37zvEb',\n",
              " 'Pasca-banjir dan longsor yang menerjang sejumlah pekon di Kecamatan Kelumbayan, aktivitas warga berangsur normal.\\n#banjir #longsor #tanahlongsor #bencanaalam #bpbd #bpbdpringsewu #lampostco\\nhttps://t.co/hUF01PxbzQ',\n",
              " 'RT @BernamaTV: #Banjir : Elakkan sebarang kejadian yang tidak diingini.\\nJangan alpa, sentiasa waspada.\\n\\n🔹 Tips keselamatan musim banjir htt…',\n",
              " 'Saya dalam perjalanan ke Raub, Pahang untuk tinjau situasi banjir. Setakat ini dimaklumkan ada laluan alternatif sekiranya ingin ke utara atau pantai timur. Ikuti bebenang ini #banjir2021 @501Awani https://t.co/rCe87O0tlp',\n",
              " '#kuantan Sembilan Pusat Pemindahan Sementara (PPS) dibuka di Pahang membabitkan 169 mangsa banjir daripada 45 keluarga di Maran dan Raub, sehingga 7 malam ini.\\n#banjir #pahang \\nhttps://t.co/l46bHDPdWm',\n",
              " 'Semua penduduk terutamanya di kawasan yang dijangka banjir diminta berwaspada. Maklumat dan amaran akan disalurkan kepada agensi\\npengurusan bencana, media dan orang awam melalui laman web https://t.co/bLnp2HtoYV\\n\\n#floodforecast #banjir #infobanjir #terengganu #setiu https://t.co/B8VpPddpoe',\n",
              " 'RT @Zaindamai: Jakarta Selatan Banjir #BanjirJakarta #sumurresapanggaran @TsamaraDKI @Uki23 @GunRomli @anandasukarlan Waspada Varian Omicro…',\n",
              " 'Mudah-mudahan semuanya selamat dan dipermudahkan\\n\\n#majoriti\\n#112\\n#banjirklang\\n#mangsa\\n#operasimenyelamat\\n\\nhttps://t.co/4kDaJVWL9D',\n",
              " 'RT @bernamadotcom: #Banjir\\nSituasi kawasan Shah Alam, Selangor sekitar Seksyen 13, Bukit Jelutong &amp; lebuh raya persekutuan yang ditenggelam…',\n",
              " 'RT @wanie_dagreat: Banjir. Pasar Salak, Kg Salak. \\n\\nAvoid! \\n\\n#banjir #InfoBanjir #infobanjirsepang https://t.co/u8D49CiCgX',\n",
              " 'RT @bernamadotcom: Beginilah keadaan #banjir di kawasan Taman Casa Lagenda, di Hulu Langat, 10 pagi ini. Kelihatan air masih mengalir masuk…',\n",
              " 'RT @petabencana: Hai Twips di seluruh Indonesia! Kalau kamu terdampak bencana, ayo laporkan dengan twit #banjir, #gempa, #kebakaranhutan, #…',\n",
              " 'Kemudian Jalan Supomo ujung, Gang Umbu Pelita dan sebagian rumah warga yang berada di lingkungan I, Kelurahan Ilir, Kecamatan Gunungsitoli, Kota Gunungsitoli.\\n\\n#MNCTrijaya #TrijayaFM #TrijayaUpdate #Info #News #Basarnas #Gununsitoli #Banjir',\n",
              " 'Kemaskini keadaan banjir di Pahang #BanjirPantaiTimur\\n\\nKredit @juliaherdawatiebinti https://t.co/GaveN3vsvs',\n",
              " '@petabencana #banjir congrastttt bukanlah sebuah bencana😁',\n",
              " 'RT @FitriJalil: Ayuh bersama kami , \\nKami memerlukan sukarelawan banjir ! \\n\\n#pahang #temerloh #BanjirDarurat \\n@muda_pahang \\n@mudatemerloh h…',\n",
              " '#banjir #IsmailSabri #IsmailSabriPMkita bantuan awal https://t.co/rtQ2Rr0yWn',\n",
              " 'Kedua-dua arah di Batu 3, Lebuhraya Persekutuan, Shah Alam kini sudah boleh dilalui selepas ditutup akibat banjir sejak petang semalam. \\n\\nVideo : warga Shah Alam\\n\\n#BuletinFM #banjir #banjirshahalam #daruratbanjir https://t.co/6n7ufNVRHc',\n",
              " 'RT @kosmo_online: Keadaan banjir di Seksyen 24 Shah Alam hari ini.\\n\\n#banjir #shahalam #banjirshahalam\\n\\n📸 ihsan Shairulfaiz https://t.co/7hT…',\n",
              " '#siagabencanamusimhujan\\nPrakiraan Cuaca 19 Wilayah Kecamatan di Kabupaten Grobogan\\n#EsokHari Jumat, 17/12/2021 pukul 07.00 Wib #hingga Sabtu, 18/12/2021 pukul 07.00 Wib\\n#WASPADA\\n#kilatanpetir\\n#banjir\\n#genangan\\n#tanahlongsor\\n#anginkencang\\n#COVID19\\n\\nsumber https://t.co/OvJ4KBmGzH https://t.co/nVzNc2jvJK',\n",
              " 'Bencana Mengintai, BPBD Makassar Kekurangan Personel https://t.co/fLFfs7X5ej #banjir #BMKG #BpbdMakassar #CuacaEkstrem',\n",
              " 'RT @mstaronline: Berat mata memandang, berat lagi mereka memikul. Lokasi: Hulu Langat. #mstar #hululangat #banjir https://t.co/v6ZMMcPNFV',\n",
              " 'RT @beritaKBR: Dari zaman kolonial sampai milenial #banjir memusingkan para walikota &amp; gubernur. Bukan tak ada upaya, namun rasanya blm ada…',\n",
              " 'Semoga dunsanak awak yang di timpa musibah di beri kesehatan dan kekuatan. Dan semoga tidak ada korban jiwa\\n#PrayForPesisirSelatan #banjir https://t.co/Pj4vepLuzf',\n",
              " 'Jakarta Selatan Banjir #BanjirJakarta #sumurresapanggaran @TsamaraDKI @Uki23 @GunRomli @anandasukarlan Waspada Varian Omicron Covid 19 Prokes Waspada Omicron https://t.co/luVXM2J3oB',\n",
              " 'Sekitar hukan seharian yg menyebabkan banjir di beberapa kawasan di #PortKlang #bandarsultansulaiman. Ketika ini hujan masih turun disekitar KV. 11.30pm. #banjir #mediaprima #pdrm #KKM #Malaysia #LongCovid #OmicronVarient https://t.co/lK5hrxSPLU',\n",
              " 'RT @BernamaTV: Berikut adalah tip keselamatan #banjir. https://t.co/4U3M6G6K5J',\n",
              " 'Akibat hujan lebat Banjir di Pasar minggu Pertigaan Arah depok, kampung Rambutan. \\nSampai saat ini belum ada Lantas yang mengatur jalur macet.\\n\\n#Banjir https://t.co/wWXNuhMgp2',\n",
              " 'Padangan Juwiring #banjir https://t.co/eWvCtHNzZv',\n",
              " 'shah alam bandar klang #banjir  #sinar #Malaysia #tv3 #tv1 https://t.co/cED0qdqjWE',\n",
              " '#banjir berdekatan padang sintetik depan balai bomba di Kuantan. \\n\\nKredit: https://t.co/f6r2vLlanK https://t.co/kzJyxtnlfS',\n",
              " '#RAWANBANJIR\\n#INFOCUACA\\n#BANJIRLUAPAN\\n\\nTim itu akan terus memantau setiap titik-titik yang memang dianggap sebagai kawasan rawan bencana.\\n\\nhttps://t.co/S85N0xPS4o',\n",
              " 'RT @banjir2021: Jumaat | 17 Disember 2021 \\n\\nbanjir di Gua Musang\\n\\nKredit 📸: Kamarudin Md Saman\\n#Banjir2021 https://t.co/Hoyd1fZqOj',\n",
              " 'RT @ijatajiji: Bantuan makanan diperlukan segera di Taman Sri Muda Shah Alam\\n\\n#banjir #TamanSriMuda #shahalam \\n\\n@magmalaya @addien90s https…',\n",
              " 'RT @BernamaTV: #Banjir: Amaran Hujan Berterusan Bahaya - Jabatan Meteorologi https://t.co/HnObt4xLR1',\n",
              " 'Sungai Linggi sampai naik buaya 😂\\nkredit: entahler #banjir #buayadarat https://t.co/3nlTccNArM',\n",
              " 'RT @banjir2021: Jumaat | 17 Disember 2021 \\n\\n#Banjir di Bandar Sg Lembing\\n\\nKredit: Shahar Abdullah https://t.co/Huk5SDBoZo',\n",
              " 'RT @501Awani: Banjir: Finas sediakan Studio Merdeka sebagai pusat penempatan mangsa\\n\\nhttps://t.co/tPuTAJR907\\n\\n#AWANInews #AWANI745 #Banjir2…',\n",
              " 'RT @banjir2021: #banjir berdekatan padang sintetik depan balai bomba di Kuantan. \\n\\nKredit: https://t.co/f6r2vLlanK https://t.co/kzJyxtnlfS',\n",
              " 'Luapan Waybungur  di Lampung Timur (Lamtim) yang merendam rumah warga telah surut.\\n#banjir #banjirlamtim #bencanabanjir #bencanaalam #lampostco\\nhttps://t.co/MAjY2n0BmY',\n",
              " 'Banjir #Madiun Berangsur Surut, 423 Rumah Warga Terdampak – #MadiunInfo #InformasiMadiun #beritamadiun #MadiunNews #kabarMadiun #peristiwamadiun #bencanaalam #bencanahidrometeorologi #hujanderas #banjir #saradan #pilangkenceng #kabupatenmadiun #madiunkab\\n\\nhttps://t.co/AwWYzZWtKv',\n",
              " 'RT @m4tn3p: NKVE banjir. Dari setia alam ke shah alam terputus. Tol Shah Alam naik air.\\n\\n#InfoBanjir #banjir2021 #ShahAlam https://t.co/arA…',\n",
              " 'RT @BernamaTV: #Banjir: Sebahagian penduduk di Taman Sri Muda, Shah Alam mencari perlindungan dengan memanjat bumbung kediaman mereka yang…',\n",
              " 'Banjir di Ibukota DKI Jakarta dgn APBD Triliunan @NasDem @psi_id @PDI_Perjuangan @GunRomli @Paltiwest yang terdalam #sumurresapanggaran @sonorabalifm @KalbarOnline @tribunpontianak @e100ss #BanjirJakarta https://t.co/Zc2es18IpG',\n",
              " 'Amaran Banjir\\n\\n#hujan \\n#banjir \\n#pahang https://t.co/cZ4ckIyhqh',\n",
              " 'Rumah Panggung di Pinggir Tukad Mati Dibongkar https://t.co/IIpLsVeXwY #berita #nusabali #Penggusuran #TukadMati #Banjir',\n",
              " 'RT @bernamadotcom: PM Datuk Seri @IsmailSabri60 tiba di PPS SK Johan Setia, Klang bagi meninjau keadaan mangsa #banjir di sini. \\n\\n📸: Bernam…',\n",
              " 'Semoga penduduk terjejas banjir dijauhkan daripada musibah\\n\\n#majoriti\\n#112\\n#banjir\\n#GuaMusang\\n#KualaKrai\\n\\nhttps://t.co/4oSV1132gQ',\n",
              " 'RT @muhafandy501: Gua Musang menjadi daerah pertama menyaksikan pemindahan mangsa #banjir membabitkan 392 orang mangsa banjir dari 70 kelua…',\n",
              " 'Jumaat | 17 Disember 2021 \\n\\nbanjir di Gua Musang\\n\\nKredit 📸: Kamarudin Md Saman\\n#Banjir2021 https://t.co/Hoyd1fZqOj',\n",
              " '@petabencana Kota Padang sudah lebih dari 12 jam banjir non-stop \\n#banjir',\n",
              " 'RT @BernamaTV: [TERKINI] Jalan utama masuk ke Bandar Mahkota Cheras dari Lebuhraya Cheras Kajang (CKE) ditutup berikutan #banjir dan air de…',\n",
              " 'RT @gegar_my: Kemaskini keadaan banjir di Pahang #BanjirPantaiTimur\\n\\nKredit @juliaherdawatiebinti https://t.co/GaveN3vsvs',\n",
              " 'Kuantan 17 Dis 2021.\\nHujan lebat berterusan menyebabkan beberapa kawasan sekitar Kuantan termasuk pekan Sungai Lembing di Pahang dinaiki air pagi ini.\\n(Gambar Ehsan)\\n\\n#banjir \\n#Kuantan \\n#InfoBanjir\\n#InfoCuaca https://t.co/9Ayo77891a',\n",
              " 'RT @501Awani: Banjir: Sidang media Perdana Menteri 11 malam ini @IsmailSabri60\\n\\nhttps://t.co/BxzwMSm5DU\\n\\n#AWANInews #AWANI745 #Banjir2021',\n",
              " 'RT @pijaaI4: Gombak pun anytime akan banjir nie.. Air Sg. ChinChin pun dah naik ☔☔☔ #Banjir #Gombak @TwtGombak https://t.co/SFakeACgFG',\n",
              " 'RT @MalaysiaGazette: Alor Gajah antara penempatan yang terjejas\\n#malaysiagazette #banjir #melaka https://t.co/pwWUMmmwfn',\n",
              " 'Jangan keluar buat sementara waktu. Takut sangkut tengah jalan. #banjir',\n",
              " 'RT @501Awani: Dua sungai Terengganu telah melepasi paras bahaya.\\n\\n#AWANInews #AWANIpagi #BanjirTerengganu\\n\\nhttps://t.co/15UchZJWZl',\n",
              " 'Duh, Balita dan Lansia Korban Banjir Carikan Klaten Mulai Terserang Penyakit \\n\\nSelengkapnya klik tautan berikut ini.\\n#Klaten #Balita #Lansia #Korban #Banjir #Penyakit \\n\\nhttps://t.co/Dwd94X0iJY',\n",
              " 'RT @BernamaTV: #Banjir: Sila hubungi Unit Pengurusan Bencana Negeri Selangor di talian 03-50350920 ataupun nombor-nombor yang tertera di ba…',\n",
              " 'Dua sungai Terengganu telah melepasi paras bahaya.\\n\\n#AWANInews #AWANIpagi #BanjirTerengganu\\n\\nhttps://t.co/15UchZJWZl',\n",
              " '#siagabencanamusimhujan\\nPrakiraan Cuaca 19 Wilayah Kecamatan di Kabupaten Grobogan\\n#EsokHari Sabtu, 18/12/2021 pukul 07.00 Wib #hingga Minggu, 19/12/2021 pukul 07.00 Wib\\n#WASPADA\\n#kilatanpetir\\n#banjir\\n#genangan\\n#tanahlongsor\\n#anginkencang\\n#COVID19\\n\\nsumber https://t.co/OvJ4KBmGzH https://t.co/uVEMyp4k0p',\n",
              " 'Beginilah situasi terkini di Kampung Ramuan China Kechil yang dilanda #banjir kilat ekoran hujan lebat sejak semalam. Difahamkan beberapa buah rumah telah dinaiki air dan kini dipindahkan ke Pusat Permindahan Sementara (PPS). https://t.co/gJ6q9p3H0r',\n",
              " 'Basarnas menyebut air mulai naik sejak pukul 02.00 WIB dan langsung membanjiri permukiman warga di Gunung Sitoli. #banjir https://t.co/Yfs6iFOEHK',\n",
              " 'RT @bernamadotcom: #Banjir : Tinjauan Bernama mendapati Sungai Gombak hampir melimpah susulan hujan berterusan sejak tengahari semalam.\\n\\nVi…',\n",
              " 'RT @mandarinjer: Allahu 🥺\\n\\nLokasi berdekatan LF Logistics di Kesas Highway area Hicom 😖\\n\\n#banjir #DaruratBanjir https://t.co/G7gtuQkTFw',\n",
              " 'Info2 basic yg penting #daruratbanjir #banjir https://t.co/n3R9KhM7ak',\n",
              " '@yosh_wong UPDATE: Kini team Muda Melaka berada di Mydin MITC dalam process packaging kan barang2 keperluan untuk mangsa-mangsa banjir.\\n#banjir',\n",
              " 'RT @Melakahariini: Keadaan banjir di Kg Pengkalan Rama\\n\\n📸 orang awam \\n\\n#banjirmelaka\\n#melaka https://t.co/uC3HwMQ8Vc',\n",
              " '#Banjir: Hujan lebat sejak pagi semalam telah menenggelamkan jalan-jalan utama di Setia Alam yang menghubungkan Bandar Bukit Raja, Meru, dan Sungai Kapar Indah seterusnya menyebabkan ramai pengguna jalan raya terperangkap dan tidak dapat pulang ke rumah sejak tengah malam tadi. https://t.co/5zGC5VMiZT',\n",
              " 'RT @bernamadotcom: Lebih 14,000 mangsa #banjir dipindahkan setakat pagi Ahad \\n\\n@JKMHQ @metmalaysia @mynadma @bombaJBPM @RinaMohdHarun @KPWK…',\n",
              " 'RT @MalaysiaGazette: Para pertugas AlamFlora Sedang membersihkan jalan di Dataran Merdeka akibat banjir semalam\\n#malaysiagazette #banjir ht…',\n",
              " 'RT @yushairieyusoff: URGENT: Saya memerlukan penginapan sementara dekat area iCity shah alam pada malam ni. Disebabkan #banjir saya tiada t…',\n",
              " '#Banjir : Lebih 3,000 mangsa banjir di Selangor dipindah ke 30 PPS https://t.co/aLKsOJjbrH',\n",
              " 'RT @kabarklaten: Padangan Juwiring #banjir https://t.co/eWvCtHNzZv',\n",
              " 'RT @bernamadotcom: [TERKINI] #Banjir : Semua kementerian berkaitan diarah gerakkan aset di kawasan terjejas banjir, segera tempatkan mangsa…',\n",
              " 'jadi sungai potklang #banjir #Malaysia #sinar #tv1 #tv3 #selangor https://t.co/eMFB88AkhZ',\n",
              " '#kuantan Dua puluh empat mangsa banjir kilat di Jalan Sungai Soi, Kempadang, di sini, dipindahkan ke Sekolah Kebangsaan Kempadang, pagi ini.\\n#banjir #pahang\\nhttps://t.co/x54Fz9JBMd',\n",
              " 'Banjir Meninggi, Warga Sekatak Mulai Dievakuasi\\n\\n#banjir\\n#bulungan\\n#kaltara\\n#beritakaltara\\n#korankaltara\\n\\nhttps://t.co/9MqX54CVcU https://t.co/pZV0gZTQsa']"
            ]
          },
          "execution_count": 71,
          "metadata": {},
          "output_type": "execute_result"
        }
      ],
      "source": [
        "list(set(ht_banjir))"
      ]
    },
    {
      "cell_type": "markdown",
      "metadata": {
        "id": "gOzjzhGKORX6"
      },
      "source": [
        "# DataFrame to CSV"
      ]
    },
    {
      "cell_type": "code",
      "execution_count": null,
      "metadata": {
        "id": "z9BbWjR1OLMT"
      },
      "outputs": [],
      "source": [
        "df.to_csv('TweetBanjirFinal.csv',index = False)"
      ]
    }
  ],
  "metadata": {
    "colab": {
      "collapsed_sections": [
        "cmmdgrsxxsni",
        "Efo3ZLoSC12E",
        "MckrscDUBvPO",
        "zNzREoBFB8Jj",
        "nnAwnMLDI4BC",
        "gOzjzhGKORX6"
      ],
      "name": "Notebook Banjir Twitter Analysis",
      "provenance": [],
      "authorship_tag": "ABX9TyMw14BSXYQFuqmGb1vUIXUC",
      "include_colab_link": true
    },
    "kernelspec": {
      "display_name": "Python 3",
      "name": "python3"
    },
    "language_info": {
      "name": "python"
    }
  },
  "nbformat": 4,
  "nbformat_minor": 0
}